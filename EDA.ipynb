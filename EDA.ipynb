{
 "cells": [
  {
   "cell_type": "code",
   "execution_count": 15,
   "metadata": {},
   "outputs": [],
   "source": [
    "import pandas as pd\n",
    "from matplotlib import pyplot as plt"
   ]
  },
  {
   "cell_type": "code",
   "execution_count": 16,
   "metadata": {},
   "outputs": [
    {
     "name": "stdout",
     "output_type": "stream",
     "text": [
      "(1615789, 90)\n",
      "Int64Index([ 0,  1,  2,  3,  4,  5,  6,  7,  8,  9, 10, 11, 12, 13, 14, 15, 16,\n",
      "            17, 18, 19, 20, 21, 22, 23, 24, 25, 26, 27, 28, 29, 30, 31, 32, 33,\n",
      "            34, 35, 36, 37, 38, 39, 40, 41, 42, 43, 44, 45, 46, 47, 48, 49, 50,\n",
      "            51, 52, 53, 54, 55, 56, 57, 58, 59, 60, 61, 62, 63, 64, 65, 66, 67,\n",
      "            68, 69, 70, 71, 72, 73, 74, 75, 76, 77, 78, 79, 80, 81, 82, 83, 84,\n",
      "            85, 86, 87, 88, 89],\n",
      "           dtype='int64')\n"
     ]
    }
   ],
   "source": [
    "df = pd.read_csv('sampleData', delimiter='\\t', header=None)\n",
    "print(df.shape)\n",
    "print(df.columns)"
   ]
  },
  {
   "cell_type": "markdown",
   "metadata": {},
   "source": [
    "### Missing values [-1] and zero columns"
   ]
  },
  {
   "cell_type": "code",
   "execution_count": 17,
   "metadata": {},
   "outputs": [
    {
     "name": "stdout",
     "output_type": "stream",
     "text": [
      "[55, 56, 74]\n",
      "[1, 6, 8, 14, 20, 21, 22, 23, 24, 25, 26, 27, 31, 32, 33, 34, 35, 36, 38, 39, 41, 42, 50, 52, 57, 60, 66, 68, 69, 70, 71, 72, 73]\n"
     ]
    }
   ],
   "source": [
    "missing_col_ids = []\n",
    "zero_col_ids = []\n",
    "for col_id in range(df.shape[1]):\n",
    "    missing_percentage = df[df[col_id] == -1].shape[0] / float(df.shape[0])\n",
    "    zero_percentage = df[df[col_id] == 0].shape[0] / float(df.shape[0])\n",
    "    if missing_percentage == 1:\n",
    "        missing_col_ids.append(col_id)\n",
    "    if zero_percentage == 1:\n",
    "        zero_col_ids.append(col_id)\n",
    "print(missing_col_ids)\n",
    "print(zero_col_ids)"
   ]
  },
  {
   "cell_type": "markdown",
   "metadata": {},
   "source": [
    "### Distributions of zeros"
   ]
  },
  {
   "cell_type": "code",
   "execution_count": 4,
   "metadata": {},
   "outputs": [
    {
     "data": {
      "text/plain": [
       "<Container object of 90 artists>"
      ]
     },
     "execution_count": 4,
     "metadata": {},
     "output_type": "execute_result"
    },
    {
     "data": {
      "image/png": "[encoded data removed]",
      "text/plain": [
       "<matplotlib.figure.Figure at 0x1082a8fd0>"
      ]
     },
     "metadata": {},
     "output_type": "display_data"
    }
   ],
   "source": [
    "col_id_percentage = {}\n",
    "for col_id in range(df.shape[1]):\n",
    "    percentage = df[df[col_id] == 0].shape[0] / float(df.shape[0])\n",
    "    col_id_percentage[col_id] = percentage\n",
    "plt.bar(col_id_percentage.keys(), col_id_percentage.values())"
   ]
  },
  {
   "cell_type": "markdown",
   "metadata": {},
   "source": [
    "## It indicates that there are many columns with all zeros(0) and all missing values(-1). Lets discard them"
   ]
  },
  {
   "cell_type": "code",
   "execution_count": 18,
   "metadata": {},
   "outputs": [
    {
     "name": "stdout",
     "output_type": "stream",
     "text": [
      "Number of columns in the new dataframe: 54\n"
     ]
    }
   ],
   "source": [
    "new_cols = list(set(df.columns) - set(zero_col_ids) - set(missing_col_ids))\n",
    "df_new = df[new_cols]\n",
    "print('Number of columns in the new dataframe: %s' % df_new.shape[1])"
   ]
  },
  {
   "cell_type": "code",
   "execution_count": 9,
   "metadata": {},
   "outputs": [
    {
     "data": {
      "text/plain": [
       "<Container object of 54 artists>"
      ]
     },
     "execution_count": 9,
     "metadata": {},
     "output_type": "execute_result"
    },
    {
     "data": {
      "image/png": "[encoded data removed]",
      "text/plain": [
       "<matplotlib.figure.Figure at 0x10bd2e5f8>"
      ]
     },
     "metadata": {},
     "output_type": "display_data"
    }
   ],
   "source": [
    "col_id_percentage = {}\n",
    "for col_id in df_new.columns:\n",
    "    percentage = df_new[df_new[col_id] == 0].shape[0] / float(df_new.shape[0])\n",
    "    col_id_percentage[col_id] = percentage\n",
    "plt.bar(col_id_percentage.keys(), col_id_percentage.values())"
   ]
  },
  {
   "cell_type": "code",
   "execution_count": 10,
   "metadata": {},
   "outputs": [
    {
     "data": {
      "text/plain": [
       "{0: 1.2377853791553228e-06,\n",
       " 2: 0.2824725258062779,\n",
       " 3: 0.2824725258062779,\n",
       " 4: 0.2824725258062779,\n",
       " 5: 0.2824725258062779,\n",
       " 7: 0.2824725258062779,\n",
       " 9: 0.2824725258062779,\n",
       " 10: 0.2824725258062779,\n",
       " 11: 0.2824725258062779,\n",
       " 12: 0.2824725258062779,\n",
       " 13: 0.2824725258062779,\n",
       " 15: 0.2824725258062779,\n",
       " 16: 0.2824725258062779,\n",
       " 17: 0.2824725258062779,\n",
       " 18: 0.9879761528268852,\n",
       " 19: 0.2824725258062779,\n",
       " 28: 0.0,\n",
       " 29: 0.0,\n",
       " 30: 0.0,\n",
       " 37: 0.0007296744810120628,\n",
       " 40: 0.0007296744810120628,\n",
       " 43: 0.0,\n",
       " 44: 0.0,\n",
       " 45: 0.0,\n",
       " 46: 0.2824725258062779,\n",
       " 47: 0.2824725258062779,\n",
       " 48: 0.2824725258062779,\n",
       " 49: 0.2824725258062779,\n",
       " 51: 0.2824725258062779,\n",
       " 53: 0.29836135782580525,\n",
       " 54: 0.29836135782580525,\n",
       " 58: 0.2824725258062779,\n",
       " 59: 0.28719529592044507,\n",
       " 61: 0.8616465392449137,\n",
       " 62: 0.9649162112132216,\n",
       " 63: 0.563184920803397,\n",
       " 64: 0.9345991339215702,\n",
       " 65: 0.0463674403031584,\n",
       " 67: 0.0463674403031584,\n",
       " 75: 0.04611616987118986,\n",
       " 76: 0.04221590814147144,\n",
       " 77: 0.0,\n",
       " 78: 0.0,\n",
       " 79: 0.0,\n",
       " 80: 0.0,\n",
       " 81: 0.0,\n",
       " 82: 0.0,\n",
       " 83: 0.0,\n",
       " 84: 0.0,\n",
       " 85: 0.0,\n",
       " 86: 0.0,\n",
       " 87: 0.0,\n",
       " 88: 0.0,\n",
       " 89: 0.9993037457242251}"
      ]
     },
     "execution_count": 10,
     "metadata": {},
     "output_type": "execute_result"
    }
   ],
   "source": [
    "col_id_percentage"
   ]
  },
  {
   "cell_type": "markdown",
   "metadata": {},
   "source": [
    "### Distribution of nulls : no null values"
   ]
  },
  {
   "cell_type": "code",
   "execution_count": 5,
   "metadata": {},
   "outputs": [
    {
     "data": {
      "text/plain": [
       "0"
      ]
     },
     "execution_count": 5,
     "metadata": {},
     "output_type": "execute_result"
    }
   ],
   "source": [
    "df.isnull().sum().sum()"
   ]
  },
  {
   "cell_type": "markdown",
   "metadata": {},
   "source": [
    "### User Id observation : it is not a primary key, we cannot discard it"
   ]
  },
  {
   "cell_type": "code",
   "execution_count": 13,
   "metadata": {},
   "outputs": [
    {
     "name": "stdout",
     "output_type": "stream",
     "text": [
      "Total number of records: 1615789\n",
      "Total number of unique user ids 120034\n"
     ]
    }
   ],
   "source": [
    "print('Total number of records: %s' %df_new.shape[0])\n",
    "print('Total number of unique user ids %s' %len(df_new[0].unique()))"
   ]
  },
  {
   "cell_type": "markdown",
   "metadata": {},
   "source": [
    "## Uuhhhhh! this is totally imbalanced dataset"
   ]
  },
  {
   "cell_type": "code",
   "execution_count": 14,
   "metadata": {},
   "outputs": [
    {
     "data": {
      "text/plain": [
       "0    1614664\n",
       "1       1125\n",
       "Name: 89, dtype: int64"
      ]
     },
     "execution_count": 14,
     "metadata": {},
     "output_type": "execute_result"
    }
   ],
   "source": [
    "df_new[89].value_counts()"
   ]
  },
  {
   "cell_type": "code",
   "execution_count": 15,
   "metadata": {},
   "outputs": [
    {
     "name": "stdout",
     "output_type": "stream",
     "text": [
      "Percentage of class A(ones) 99.93037457242251\n",
      "Percentage of class B(zeros) 0.06962542757748691\n"
     ]
    }
   ],
   "source": [
    "print('Percentage of class A(ones) ' + str(df_new[df_new[89] == 0].shape[0]/float(df_new.shape[0]) * 100))\n",
    "print('Percentage of class B(zeros) ' + str(df_new[df_new[89] == 1].shape[0]/float(df_new.shape[0]) * 100))"
   ]
  },
  {
   "cell_type": "markdown",
   "metadata": {},
   "source": [
    "## Percentage of missing values "
   ]
  },
  {
   "cell_type": "code",
   "execution_count": 33,
   "metadata": {},
   "outputs": [
    {
     "name": "stdout",
     "output_type": "stream",
     "text": [
      "53\t456416\t0.2824725258062779\n",
      "54\t456416\t0.2824725258062779\n",
      "59\t1179\t0.0007296744810120628\n"
     ]
    }
   ],
   "source": [
    "for col in df_new.columns:\n",
    "    if df_new[df_new[col] == -1].shape[0] != 0:\n",
    "        print(col, end='\\t')\n",
    "        print(df_new[df_new[col] == -1].shape[0], end = '\\t')\n",
    "        print(df_new[df_new[col] == -1].shape[0]/float(df_new.shape[0]))"
   ]
  },
  {
   "cell_type": "markdown",
   "metadata": {},
   "source": [
    "## Dummy Classifier"
   ]
  },
  {
   "cell_type": "code",
   "execution_count": 275,
   "metadata": {},
   "outputs": [
    {
     "data": {
      "text/plain": [
       "DummyClassifier(constant=None, random_state=None, strategy='stratified')"
      ]
     },
     "execution_count": 275,
     "metadata": {},
     "output_type": "execute_result"
    }
   ],
   "source": [
    "from sklearn.dummy import DummyClassifier\n",
    "model = DummyClassifier()\n",
    "model.fit(train_data.data, train_data.label)"
   ]
  },
  {
   "cell_type": "code",
   "execution_count": 278,
   "metadata": {},
   "outputs": [
    {
     "data": {
      "text/plain": [
       "0.4996480174401681"
      ]
     },
     "execution_count": 278,
     "metadata": {},
     "output_type": "execute_result"
    }
   ],
   "source": [
    "y_true = test_data.label\n",
    "y_pred = model.predict_proba(test_data.data)\n",
    "\n",
    "fpr, tpr, thresholds = roc_curve(test_data.label, y_pred[:, 1])\n",
    "auc(fpr, tpr)"
   ]
  },
  {
   "cell_type": "markdown",
   "metadata": {},
   "source": [
    "## Logistic Classifier"
   ]
  },
  {
   "cell_type": "code",
   "execution_count": 19,
   "metadata": {},
   "outputs": [],
   "source": [
    "from sklearn.linear_model import LogisticRegression\n",
    "from sklearn.preprocessing import OneHotEncoder"
   ]
  },
  {
   "cell_type": "code",
   "execution_count": 22,
   "metadata": {},
   "outputs": [
    {
     "name": "stderr",
     "output_type": "stream",
     "text": [
      "/anaconda3/lib/python3.6/site-packages/pandas/core/indexing.py:537: SettingWithCopyWarning: \n",
      "A value is trying to be set on a copy of a slice from a DataFrame.\n",
      "Try using .loc[row_indexer,col_indexer] = value instead\n",
      "\n",
      "See the caveats in the documentation: http://pandas.pydata.org/pandas-docs/stable/indexing.html#indexing-view-versus-copy\n",
      "  self.obj[item] = s\n"
     ]
    }
   ],
   "source": [
    "new_cols = list(set(df.columns) - set(zero_col_ids) - set(missing_col_ids))\n",
    "df_new = df[new_cols]\n",
    "for index in range(77, 88, 1):\n",
    "    df_new.loc[:, index] = df_new[index].astype('category')\n",
    "one_hot_encoder = OneHotEncoder(sparse=False)\n",
    "cat_df = pd.DataFrame(one_hot_encoder.fit_transform(df_new.loc[:,77: 88]))"
   ]
  },
  {
   "cell_type": "code",
   "execution_count": null,
   "metadata": {},
   "outputs": [],
   "source": [
    "log_df = pd.concat([df_new.loc[:,0:76], cat_df], axis=1)"
   ]
  },
  {
   "cell_type": "code",
   "execution_count": 8,
   "metadata": {},
   "outputs": [
    {
     "name": "stdout",
     "output_type": "stream",
     "text": [
      "1\n"
     ]
    }
   ],
   "source": [
    "log_df"
   ]
  },
  {
   "cell_type": "code",
   "execution_count": 10,
   "metadata": {},
   "outputs": [
    {
     "name": "stdout",
     "output_type": "stream",
     "text": [
      "(1615789, 41)\n",
      "(1615789, 31455)\n"
     ]
    }
   ],
   "source": [
    "print(df_new.loc[:,0:76].shape)\n",
    "print(cat_df.shape)\n",
    "# print(log_df.shape)"
   ]
  },
  {
   "cell_type": "code",
   "execution_count": null,
   "metadata": {},
   "outputs": [],
   "source": [
    "lg_model = LogisticRegression()\n",
    "lg_model.fit(train_data.data, train_data.label)"
   ]
  },
  {
   "cell_type": "code",
   "execution_count": 30,
   "metadata": {},
   "outputs": [],
   "source": [
    "import lightgbm as lgb\n",
    "from sklearn.model_selection import train_test_split\n",
    "from sklearn.metrics import log_loss, f1_score, roc_curve, auc"
   ]
  },
  {
   "cell_type": "code",
   "execution_count": 21,
   "metadata": {},
   "outputs": [
    {
     "name": "stderr",
     "output_type": "stream",
     "text": [
      "/anaconda3/lib/python3.6/site-packages/pandas/core/indexing.py:537: SettingWithCopyWarning: \n",
      "A value is trying to be set on a copy of a slice from a DataFrame.\n",
      "Try using .loc[row_indexer,col_indexer] = value instead\n",
      "\n",
      "See the caveats in the documentation: http://pandas.pydata.org/pandas-docs/stable/indexing.html#indexing-view-versus-copy\n",
      "  self.obj[item] = s\n"
     ]
    }
   ],
   "source": [
    "for index in range(77, 88, 1):\n",
    "    df_new.loc[:, index] = df_new[index].astype('category')\n",
    "\n",
    "x = df_new.loc[:, 0:88]\n",
    "y = df_new.loc[:, 89]\n",
    "\n",
    "x_train, x_test, y_train, y_test = train_test_split(x, y, test_size=0.4, random_state=44, stratify=y)\n",
    "x_test, x_cv, y_test, y_cv = train_test_split(x_test, y_test, test_size=0.5, random_state=44, stratify=y_test)\n",
    "\n",
    "categorical_features = list(df_new.loc[:, 77:88].columns)\n",
    "train_data = lgb.Dataset(x_train, label=y_train, categorical_feature=categorical_features, free_raw_data=False)\n",
    "test_data = lgb.Dataset(x_test, label=y_test, categorical_feature=categorical_features, free_raw_data=False)\n",
    "cv_data = lgb.Dataset(x_cv, label=y_cv, categorical_feature=categorical_features, free_raw_data=False)"
   ]
  },
  {
   "cell_type": "markdown",
   "metadata": {},
   "source": [
    "### Model initialization"
   ]
  },
  {
   "cell_type": "code",
   "execution_count": 24,
   "metadata": {},
   "outputs": [
    {
     "name": "stdout",
     "output_type": "stream",
     "text": [
      "[1]\tvalid_0's auc: 0.694316\n",
      "Training until validation scores don't improve for 10 rounds.\n",
      "[2]\tvalid_0's auc: 0.721428\n",
      "[3]\tvalid_0's auc: 0.731921\n",
      "[4]\tvalid_0's auc: 0.737216\n",
      "[5]\tvalid_0's auc: 0.73041\n",
      "[6]\tvalid_0's auc: 0.737255\n",
      "[7]\tvalid_0's auc: 0.736703\n",
      "[8]\tvalid_0's auc: 0.738633\n",
      "[9]\tvalid_0's auc: 0.739066\n",
      "[10]\tvalid_0's auc: 0.740478\n",
      "[11]\tvalid_0's auc: 0.741173\n",
      "[12]\tvalid_0's auc: 0.740193\n",
      "[13]\tvalid_0's auc: 0.739514\n",
      "[14]\tvalid_0's auc: 0.739484\n",
      "[15]\tvalid_0's auc: 0.740557\n",
      "[16]\tvalid_0's auc: 0.74132\n",
      "[17]\tvalid_0's auc: 0.741693\n",
      "[18]\tvalid_0's auc: 0.742497\n",
      "[19]\tvalid_0's auc: 0.742227\n",
      "[20]\tvalid_0's auc: 0.742907\n",
      "[21]\tvalid_0's auc: 0.742442\n",
      "[22]\tvalid_0's auc: 0.742659\n",
      "[23]\tvalid_0's auc: 0.742874\n",
      "[24]\tvalid_0's auc: 0.742004\n",
      "[25]\tvalid_0's auc: 0.742051\n",
      "[26]\tvalid_0's auc: 0.742196\n",
      "[27]\tvalid_0's auc: 0.742229\n",
      "[28]\tvalid_0's auc: 0.742875\n",
      "[29]\tvalid_0's auc: 0.743301\n",
      "[30]\tvalid_0's auc: 0.743626\n",
      "[31]\tvalid_0's auc: 0.743907\n",
      "[32]\tvalid_0's auc: 0.744254\n",
      "[33]\tvalid_0's auc: 0.744127\n",
      "[34]\tvalid_0's auc: 0.744566\n",
      "[35]\tvalid_0's auc: 0.744765\n",
      "[36]\tvalid_0's auc: 0.745169\n",
      "[37]\tvalid_0's auc: 0.745158\n",
      "[38]\tvalid_0's auc: 0.745453\n",
      "[39]\tvalid_0's auc: 0.745387\n",
      "[40]\tvalid_0's auc: 0.74532\n",
      "[41]\tvalid_0's auc: 0.744939\n",
      "[42]\tvalid_0's auc: 0.744814\n",
      "[43]\tvalid_0's auc: 0.744497\n",
      "[44]\tvalid_0's auc: 0.744799\n",
      "[45]\tvalid_0's auc: 0.745077\n",
      "[46]\tvalid_0's auc: 0.745391\n",
      "[47]\tvalid_0's auc: 0.745129\n",
      "[48]\tvalid_0's auc: 0.74524\n",
      "Early stopping, best iteration is:\n",
      "[38]\tvalid_0's auc: 0.745453\n"
     ]
    },
    {
     "data": {
      "text/plain": [
       "LGBMClassifier(application='binary', bagging_fraction=0.5, bagging_freq=20,\n",
       "        boosting='gbdt', boosting_type='gbdt', class_weight=None,\n",
       "        colsample_bytree=1.0, feature_fraction=0.5, is_unbalance='true',\n",
       "        learning_rate=0.0009, max_depth=-1, metric='auc',\n",
       "        min_child_samples=20, min_child_weight=0.001, min_split_gain=0.0,\n",
       "        n_estimators=150, n_jobs=-1, num_leaves=31, objective='binary',\n",
       "        random_state=None, reg_alpha=0.0, reg_lambda=0.0, silent=True,\n",
       "        subsample=1.0, subsample_for_bin=200000, subsample_freq=0,\n",
       "        verbose=100)"
      ]
     },
     "execution_count": 24,
     "metadata": {},
     "output_type": "execute_result"
    }
   ],
   "source": [
    "parameters = {\n",
    "#     'scale_pos_weight': 1000,\n",
    "    'application': 'binary',\n",
    "    'objective': 'binary',\n",
    "    'metric': 'auc',\n",
    "    'is_unbalance': 'true',\n",
    "    'boosting': 'gbdt',\n",
    "    'num_leaves': 31,\n",
    "    'feature_fraction': 0.5,\n",
    "    'bagging_fraction': 0.5,\n",
    "    'bagging_freq': 20,\n",
    "    'learning_rate': 0.0009,\n",
    "    'verbose': 100,\n",
    "    'n_estimators': 150\n",
    "}\n",
    "\n",
    "# model = lightgbm.train(parameters,\n",
    "#                        train_data,\n",
    "#                        valid_sets=cv_data,\n",
    "#                        num_boost_round=30,\n",
    "#                        early_stopping_rounds=5)\n",
    "model = lgb.LGBMClassifier(**parameters)\n",
    "model.fit(train_data.data, train_data.label, eval_set=[(cv_data.data, cv_data.label)], early_stopping_rounds=10, eval_metric='auc')\n",
    "\n",
    "##binary_logloss TODO"
   ]
  },
  {
   "cell_type": "code",
   "execution_count": 25,
   "metadata": {},
   "outputs": [
    {
     "data": {
      "text/plain": [
       "<matplotlib.axes._subplots.AxesSubplot at 0x22390c320>"
      ]
     },
     "execution_count": 25,
     "metadata": {},
     "output_type": "execute_result"
    },
    {
     "data": {
      "image/png": "[encoded data removed]",
      "text/plain": [
       "<matplotlib.figure.Figure at 0x11316a4e0>"
      ]
     },
     "metadata": {},
     "output_type": "display_data"
    }
   ],
   "source": [
    "lgb.plot_importance(model, importance_type='gain', max_num_features=10)"
   ]
  },
  {
   "cell_type": "code",
   "execution_count": 26,
   "metadata": {},
   "outputs": [
    {
     "name": "stdout",
     "output_type": "stream",
     "text": [
      "[[0.99277967 0.00722033]\n",
      " [0.98955884 0.01044116]\n",
      " [0.99801823 0.00198177]\n",
      " ...\n",
      " [0.9740046  0.0259954 ]\n",
      " [0.99159542 0.00840458]\n",
      " [0.99579699 0.00420301]]\n"
     ]
    }
   ],
   "source": [
    "y_pred = model.predict_proba(test_data.data)\n",
    "print(y_pred)"
   ]
  },
  {
   "cell_type": "code",
   "execution_count": 27,
   "metadata": {},
   "outputs": [],
   "source": [
    "fpr, tpr, thresholds = roc_curve(test_data.label, y_pred[:, 1])#pos_label=1"
   ]
  },
  {
   "cell_type": "code",
   "execution_count": 28,
   "metadata": {},
   "outputs": [
    {
     "data": {
      "text/plain": [
       "array([1.05836090e+00, 5.83609008e-02, 4.79457941e-02, ...,\n",
       "       8.13792331e-04, 8.06794515e-04, 7.78991225e-04])"
      ]
     },
     "execution_count": 28,
     "metadata": {},
     "output_type": "execute_result"
    }
   ],
   "source": [
    "thresholds"
   ]
  },
  {
   "cell_type": "code",
   "execution_count": 31,
   "metadata": {},
   "outputs": [
    {
     "data": {
      "text/plain": [
       "0.7370271026291314"
      ]
     },
     "execution_count": 31,
     "metadata": {},
     "output_type": "execute_result"
    }
   ],
   "source": [
    "auc(fpr, tpr)"
   ]
  },
  {
   "cell_type": "code",
   "execution_count": 251,
   "metadata": {},
   "outputs": [
    {
     "data": {
      "image/png": "[encoded data removed]",
      "text/plain": [
       "<matplotlib.figure.Figure at 0x10e2ffe48>"
      ]
     },
     "metadata": {},
     "output_type": "display_data"
    }
   ],
   "source": [
    "from sklearn.metrics import precision_recall_curve, average_precision_score\n",
    "from matplotlib.ticker import MultipleLocator\n",
    "precision, recall, thresholds = precision_recall_curve(test_data.label, y_pred[:, 1])\n",
    "average_precision = average_precision_score(test_data.label, y_pred[:, 1])\n",
    "\n",
    "fig, ax = plt.subplots()\n",
    "plt.step(recall, precision, color='b', alpha=0.2,\n",
    "         where='post')\n",
    "plt.step(recall[:-1], thresholds, color='r', alpha=0.2,\n",
    "         where='post')\n",
    "plt.fill_between(recall, precision, step='post', alpha=0.2,\n",
    "                 color='b')\n",
    "plt.xlabel('Recall')\n",
    "plt.ylabel('Precision')\n",
    "plt.ylim([0.0, 1.05])\n",
    "plt.xlim([0.0, 1.0])\n",
    "ax.yaxis.set_major_locator(MultipleLocator(0.05))\n",
    "ax.xaxis.set_major_locator(MultipleLocator(0.1))\n",
    "plt.title('2-class Precision-Recall curve: AP={0:0.2f}'.format(average_precision))\n",
    "plt.grid()\n"
   ]
  },
  {
   "cell_type": "code",
   "execution_count": 256,
   "metadata": {},
   "outputs": [
    {
     "data": {
      "image/png": "[encoded data removed]",
      "text/plain": [
       "<matplotlib.figure.Figure at 0x10d0e4b70>"
      ]
     },
     "metadata": {},
     "output_type": "display_data"
    }
   ],
   "source": [
    "# Density plots\n",
    "fig, ax = plt.subplots()\n",
    "n_bins = 200\n",
    "\n",
    "test_data.label, y_pred[:, 1]\n",
    "\n",
    "y_test_proba = y_pred[:, 1]\n",
    "\n",
    "n, bins, patches = ax.hist(y_test_proba[(test_data.label==0)], n_bins, normed=1, histtype='step', cumulative=False, label='-ve')\n",
    "ax.hist(y_test_proba[(test_data.label==1)], n_bins, normed=1, histtype='step', cumulative=False, label='+ve', color='r')\n",
    "ax.xaxis.set_major_locator(MultipleLocator(0.1))\n",
    "ax.grid(True)\n",
    "ax.legend(loc='upper left')\n",
    "ax.set_title('PDF of LightGBM Score vs +ve and -ve')\n",
    "ax.set_xlabel('Model Score')\n",
    "ax.set_ylabel('PDF')\n",
    "#plt.savefig(fname)\n",
    "plt.show()"
   ]
  },
  {
   "cell_type": "code",
   "execution_count": 263,
   "metadata": {},
   "outputs": [
    {
     "data": {
      "text/plain": [
       "338"
      ]
     },
     "execution_count": 263,
     "metadata": {},
     "output_type": "execute_result"
    }
   ],
   "source": [
    "len(y_test_proba[(test_data.label==1)])\n",
    "\n",
    "# 1125 * 0.2"
   ]
  },
  {
   "cell_type": "code",
   "execution_count": 35,
   "metadata": {},
   "outputs": [],
   "source": [
    "from sklearn.model_selection import GridSearchCV\n",
    "\n",
    "param_grid = {\n",
    "    'learning_rate': [0.25, 0.2, 0.15, 0.1, 0.05],\n",
    "    'feature_fraction': [0.55],\n",
    "    'min_data_in_leaf': [5000], \n",
    "    'max_depth': [18],\n",
    "    'num_leaves': [60],\n",
    "    'n_estimators': [20],\n",
    "    'scale_pos_weight': [3, 4, 5 ]\n",
    "}\n",
    "\n",
    "estimator = lgb.LGBMClassifier(num_leaves=31)\n",
    "\n",
    "model = GridSearchCV(estimator, param_grid)\n"
   ]
  },
  {
   "cell_type": "code",
   "execution_count": 280,
   "metadata": {},
   "outputs": [
    {
     "name": "stdout",
     "output_type": "stream",
     "text": [
      "[1]\tvalid_0's auc: 0.704754\n",
      "Training until validation scores don't improve for 10 rounds.\n",
      "[2]\tvalid_0's auc: 0.706951\n",
      "[3]\tvalid_0's auc: 0.716254\n",
      "[4]\tvalid_0's auc: 0.718071\n",
      "[5]\tvalid_0's auc: 0.72181\n",
      "[6]\tvalid_0's auc: 0.725715\n",
      "[7]\tvalid_0's auc: 0.721986\n",
      "[8]\tvalid_0's auc: 0.719359\n",
      "[9]\tvalid_0's auc: 0.718629\n",
      "[10]\tvalid_0's auc: 0.726064\n",
      "[11]\tvalid_0's auc: 0.723774\n",
      "[12]\tvalid_0's auc: 0.725169\n",
      "[13]\tvalid_0's auc: 0.722693\n",
      "[14]\tvalid_0's auc: 0.722255\n",
      "[15]\tvalid_0's auc: 0.724692\n",
      "[16]\tvalid_0's auc: 0.726244\n",
      "[17]\tvalid_0's auc: 0.727192\n",
      "[18]\tvalid_0's auc: 0.728291\n",
      "[19]\tvalid_0's auc: 0.727904\n",
      "[20]\tvalid_0's auc: 0.729023\n",
      "Did not meet early stopping. Best iteration is:\n",
      "[20]\tvalid_0's auc: 0.729023\n"
     ]
    },
    {
     "name": "stderr",
     "output_type": "stream",
     "text": [
      "/anaconda3/lib/python3.6/site-packages/sklearn/preprocessing/label.py:151: DeprecationWarning: The truth value of an empty array is ambiguous. Returning False, but in future this will result in an error. Use `array.size > 0` to check that an array is not empty.\n",
      "  if diff:\n",
      "/anaconda3/lib/python3.6/site-packages/sklearn/preprocessing/label.py:151: DeprecationWarning: The truth value of an empty array is ambiguous. Returning False, but in future this will result in an error. Use `array.size > 0` to check that an array is not empty.\n",
      "  if diff:\n"
     ]
    },
    {
     "name": "stdout",
     "output_type": "stream",
     "text": [
      "[1]\tvalid_0's auc: 0.716983\n",
      "Training until validation scores don't improve for 10 rounds.\n",
      "[2]\tvalid_0's auc: 0.669726\n",
      "[3]\tvalid_0's auc: 0.668098\n",
      "[4]\tvalid_0's auc: 0.659299\n",
      "[5]\tvalid_0's auc: 0.652822\n",
      "[6]\tvalid_0's auc: 0.669381\n",
      "[7]\tvalid_0's auc: 0.675783\n",
      "[8]\tvalid_0's auc: 0.682576\n",
      "[9]\tvalid_0's auc: 0.713351\n",
      "[10]\tvalid_0's auc: 0.717144\n",
      "[11]\tvalid_0's auc: 0.718059\n",
      "[12]\tvalid_0's auc: 0.720936\n",
      "[13]\tvalid_0's auc: 0.718553\n",
      "[14]\tvalid_0's auc: 0.71365\n",
      "[15]\tvalid_0's auc: 0.714115\n",
      "[16]\tvalid_0's auc: 0.713677\n",
      "[17]\tvalid_0's auc: 0.716046\n",
      "[18]\tvalid_0's auc: 0.720141\n",
      "[19]\tvalid_0's auc: 0.720966\n",
      "[20]\tvalid_0's auc: 0.725087\n",
      "Did not meet early stopping. Best iteration is:\n",
      "[20]\tvalid_0's auc: 0.725087\n"
     ]
    },
    {
     "name": "stderr",
     "output_type": "stream",
     "text": [
      "/anaconda3/lib/python3.6/site-packages/sklearn/preprocessing/label.py:151: DeprecationWarning: The truth value of an empty array is ambiguous. Returning False, but in future this will result in an error. Use `array.size > 0` to check that an array is not empty.\n",
      "  if diff:\n",
      "/anaconda3/lib/python3.6/site-packages/sklearn/preprocessing/label.py:151: DeprecationWarning: The truth value of an empty array is ambiguous. Returning False, but in future this will result in an error. Use `array.size > 0` to check that an array is not empty.\n",
      "  if diff:\n"
     ]
    },
    {
     "name": "stdout",
     "output_type": "stream",
     "text": [
      "[1]\tvalid_0's auc: 0.681963\n",
      "Training until validation scores don't improve for 10 rounds.\n",
      "[2]\tvalid_0's auc: 0.663275\n",
      "[3]\tvalid_0's auc: 0.674038\n",
      "[4]\tvalid_0's auc: 0.665433\n",
      "[5]\tvalid_0's auc: 0.658173\n",
      "[6]\tvalid_0's auc: 0.67056\n",
      "[7]\tvalid_0's auc: 0.678045\n",
      "[8]\tvalid_0's auc: 0.674993\n",
      "[9]\tvalid_0's auc: 0.685214\n",
      "[10]\tvalid_0's auc: 0.685111\n",
      "[11]\tvalid_0's auc: 0.686631\n",
      "[12]\tvalid_0's auc: 0.690674\n",
      "[13]\tvalid_0's auc: 0.691989\n",
      "[14]\tvalid_0's auc: 0.694252\n",
      "[15]\tvalid_0's auc: 0.694854\n",
      "[16]\tvalid_0's auc: 0.695555\n",
      "[17]\tvalid_0's auc: 0.69811\n",
      "[18]\tvalid_0's auc: 0.696032\n",
      "[19]\tvalid_0's auc: 0.697534\n",
      "[20]\tvalid_0's auc: 0.698433\n",
      "Did not meet early stopping. Best iteration is:\n",
      "[20]\tvalid_0's auc: 0.698433\n"
     ]
    },
    {
     "name": "stderr",
     "output_type": "stream",
     "text": [
      "/anaconda3/lib/python3.6/site-packages/sklearn/preprocessing/label.py:151: DeprecationWarning: The truth value of an empty array is ambiguous. Returning False, but in future this will result in an error. Use `array.size > 0` to check that an array is not empty.\n",
      "  if diff:\n",
      "/anaconda3/lib/python3.6/site-packages/sklearn/preprocessing/label.py:151: DeprecationWarning: The truth value of an empty array is ambiguous. Returning False, but in future this will result in an error. Use `array.size > 0` to check that an array is not empty.\n",
      "  if diff:\n"
     ]
    },
    {
     "name": "stdout",
     "output_type": "stream",
     "text": [
      "[1]\tvalid_0's auc: 0.703133\n",
      "Training until validation scores don't improve for 10 rounds.\n",
      "[2]\tvalid_0's auc: 0.694826\n",
      "[3]\tvalid_0's auc: 0.690027\n",
      "[4]\tvalid_0's auc: 0.692347\n",
      "[5]\tvalid_0's auc: 0.698145\n",
      "[6]\tvalid_0's auc: 0.706655\n",
      "[7]\tvalid_0's auc: 0.705364\n",
      "[8]\tvalid_0's auc: 0.703225\n",
      "[9]\tvalid_0's auc: 0.700944\n",
      "[10]\tvalid_0's auc: 0.70702\n",
      "[11]\tvalid_0's auc: 0.703189\n",
      "[12]\tvalid_0's auc: 0.707084\n",
      "[13]\tvalid_0's auc: 0.705537\n",
      "[14]\tvalid_0's auc: 0.70497\n",
      "[15]\tvalid_0's auc: 0.709281\n",
      "[16]\tvalid_0's auc: 0.709579\n",
      "[17]\tvalid_0's auc: 0.709078\n",
      "[18]\tvalid_0's auc: 0.709496\n",
      "[19]\tvalid_0's auc: 0.708757\n",
      "[20]\tvalid_0's auc: 0.709567\n",
      "Did not meet early stopping. Best iteration is:\n",
      "[16]\tvalid_0's auc: 0.709579\n"
     ]
    },
    {
     "name": "stderr",
     "output_type": "stream",
     "text": [
      "/anaconda3/lib/python3.6/site-packages/sklearn/preprocessing/label.py:151: DeprecationWarning: The truth value of an empty array is ambiguous. Returning False, but in future this will result in an error. Use `array.size > 0` to check that an array is not empty.\n",
      "  if diff:\n",
      "/anaconda3/lib/python3.6/site-packages/sklearn/preprocessing/label.py:151: DeprecationWarning: The truth value of an empty array is ambiguous. Returning False, but in future this will result in an error. Use `array.size > 0` to check that an array is not empty.\n",
      "  if diff:\n"
     ]
    },
    {
     "name": "stdout",
     "output_type": "stream",
     "text": [
      "[1]\tvalid_0's auc: 0.697354\n",
      "Training until validation scores don't improve for 10 rounds.\n",
      "[2]\tvalid_0's auc: 0.633439\n",
      "[3]\tvalid_0's auc: 0.62389\n",
      "[4]\tvalid_0's auc: 0.62532\n",
      "[5]\tvalid_0's auc: 0.623535\n",
      "[6]\tvalid_0's auc: 0.640108\n",
      "[7]\tvalid_0's auc: 0.644736\n",
      "[8]\tvalid_0's auc: 0.663495\n",
      "[9]\tvalid_0's auc: 0.718183\n",
      "[10]\tvalid_0's auc: 0.619679\n",
      "[11]\tvalid_0's auc: 0.568502\n",
      "[12]\tvalid_0's auc: 0.555015\n",
      "[13]\tvalid_0's auc: 0.526308\n",
      "[14]\tvalid_0's auc: 0.509105\n",
      "[15]\tvalid_0's auc: 0.507938\n",
      "[16]\tvalid_0's auc: 0.50377\n",
      "[17]\tvalid_0's auc: 0.5014\n",
      "[18]\tvalid_0's auc: 0.499446\n",
      "[19]\tvalid_0's auc: 0.498039\n",
      "Early stopping, best iteration is:\n",
      "[9]\tvalid_0's auc: 0.718183\n"
     ]
    },
    {
     "name": "stderr",
     "output_type": "stream",
     "text": [
      "/anaconda3/lib/python3.6/site-packages/sklearn/preprocessing/label.py:151: DeprecationWarning: The truth value of an empty array is ambiguous. Returning False, but in future this will result in an error. Use `array.size > 0` to check that an array is not empty.\n",
      "  if diff:\n",
      "/anaconda3/lib/python3.6/site-packages/sklearn/preprocessing/label.py:151: DeprecationWarning: The truth value of an empty array is ambiguous. Returning False, but in future this will result in an error. Use `array.size > 0` to check that an array is not empty.\n",
      "  if diff:\n"
     ]
    },
    {
     "name": "stdout",
     "output_type": "stream",
     "text": [
      "[1]\tvalid_0's auc: 0.70208\n",
      "Training until validation scores don't improve for 10 rounds.\n",
      "[2]\tvalid_0's auc: 0.679057\n",
      "[3]\tvalid_0's auc: 0.676655\n",
      "[4]\tvalid_0's auc: 0.669423\n",
      "[5]\tvalid_0's auc: 0.662705\n",
      "[6]\tvalid_0's auc: 0.667223\n",
      "[7]\tvalid_0's auc: 0.671343\n",
      "[8]\tvalid_0's auc: 0.667025\n",
      "[9]\tvalid_0's auc: 0.675249\n",
      "[10]\tvalid_0's auc: 0.66973\n",
      "[11]\tvalid_0's auc: 0.675042\n",
      "Early stopping, best iteration is:\n",
      "[1]\tvalid_0's auc: 0.70208\n"
     ]
    },
    {
     "name": "stderr",
     "output_type": "stream",
     "text": [
      "/anaconda3/lib/python3.6/site-packages/sklearn/preprocessing/label.py:151: DeprecationWarning: The truth value of an empty array is ambiguous. Returning False, but in future this will result in an error. Use `array.size > 0` to check that an array is not empty.\n",
      "  if diff:\n",
      "/anaconda3/lib/python3.6/site-packages/sklearn/preprocessing/label.py:151: DeprecationWarning: The truth value of an empty array is ambiguous. Returning False, but in future this will result in an error. Use `array.size > 0` to check that an array is not empty.\n",
      "  if diff:\n"
     ]
    },
    {
     "name": "stdout",
     "output_type": "stream",
     "text": [
      "[1]\tvalid_0's auc: 0.703133\n",
      "Training until validation scores don't improve for 10 rounds.\n",
      "[2]\tvalid_0's auc: 0.691398\n",
      "[3]\tvalid_0's auc: 0.69957\n",
      "[4]\tvalid_0's auc: 0.700025\n",
      "[5]\tvalid_0's auc: 0.708699\n",
      "[6]\tvalid_0's auc: 0.710068\n",
      "[7]\tvalid_0's auc: 0.704958\n",
      "[8]\tvalid_0's auc: 0.704302\n",
      "[9]\tvalid_0's auc: 0.705729\n",
      "[10]\tvalid_0's auc: 0.709235\n",
      "[11]\tvalid_0's auc: 0.711639\n",
      "[12]\tvalid_0's auc: 0.710628\n",
      "[13]\tvalid_0's auc: 0.713921\n",
      "[14]\tvalid_0's auc: 0.714831\n",
      "[15]\tvalid_0's auc: 0.717209\n",
      "[16]\tvalid_0's auc: 0.719707\n",
      "[17]\tvalid_0's auc: 0.719415\n",
      "[18]\tvalid_0's auc: 0.719336\n",
      "[19]\tvalid_0's auc: 0.719235\n",
      "[20]\tvalid_0's auc: 0.720356\n",
      "Did not meet early stopping. Best iteration is:\n",
      "[20]\tvalid_0's auc: 0.720356\n"
     ]
    },
    {
     "name": "stderr",
     "output_type": "stream",
     "text": [
      "/anaconda3/lib/python3.6/site-packages/sklearn/preprocessing/label.py:151: DeprecationWarning: The truth value of an empty array is ambiguous. Returning False, but in future this will result in an error. Use `array.size > 0` to check that an array is not empty.\n",
      "  if diff:\n",
      "/anaconda3/lib/python3.6/site-packages/sklearn/preprocessing/label.py:151: DeprecationWarning: The truth value of an empty array is ambiguous. Returning False, but in future this will result in an error. Use `array.size > 0` to check that an array is not empty.\n",
      "  if diff:\n"
     ]
    },
    {
     "name": "stdout",
     "output_type": "stream",
     "text": [
      "[1]\tvalid_0's auc: 0.698298\n",
      "Training until validation scores don't improve for 10 rounds.\n",
      "[2]\tvalid_0's auc: 0.679103\n",
      "[3]\tvalid_0's auc: 0.649372\n",
      "[4]\tvalid_0's auc: 0.638963\n",
      "[5]\tvalid_0's auc: 0.628135\n",
      "[6]\tvalid_0's auc: 0.628998\n",
      "[7]\tvalid_0's auc: 0.630983\n",
      "[8]\tvalid_0's auc: 0.639099\n",
      "[9]\tvalid_0's auc: 0.689661\n",
      "[10]\tvalid_0's auc: 0.683977\n",
      "[11]\tvalid_0's auc: 0.678725\n",
      "Early stopping, best iteration is:\n",
      "[1]\tvalid_0's auc: 0.698298\n"
     ]
    },
    {
     "name": "stderr",
     "output_type": "stream",
     "text": [
      "/anaconda3/lib/python3.6/site-packages/sklearn/preprocessing/label.py:151: DeprecationWarning: The truth value of an empty array is ambiguous. Returning False, but in future this will result in an error. Use `array.size > 0` to check that an array is not empty.\n",
      "  if diff:\n",
      "/anaconda3/lib/python3.6/site-packages/sklearn/preprocessing/label.py:151: DeprecationWarning: The truth value of an empty array is ambiguous. Returning False, but in future this will result in an error. Use `array.size > 0` to check that an array is not empty.\n",
      "  if diff:\n"
     ]
    },
    {
     "name": "stdout",
     "output_type": "stream",
     "text": [
      "[1]\tvalid_0's auc: 0.706623\n",
      "Training until validation scores don't improve for 10 rounds.\n",
      "[2]\tvalid_0's auc: 0.673554\n",
      "[3]\tvalid_0's auc: 0.675291\n",
      "[4]\tvalid_0's auc: 0.672191\n",
      "[5]\tvalid_0's auc: 0.664815\n",
      "[6]\tvalid_0's auc: 0.663037\n",
      "[7]\tvalid_0's auc: 0.665338\n",
      "[8]\tvalid_0's auc: 0.66397\n",
      "[9]\tvalid_0's auc: 0.675393\n",
      "[10]\tvalid_0's auc: 0.669285\n",
      "[11]\tvalid_0's auc: 0.669012\n",
      "Early stopping, best iteration is:\n",
      "[1]\tvalid_0's auc: 0.706623\n"
     ]
    },
    {
     "name": "stderr",
     "output_type": "stream",
     "text": [
      "/anaconda3/lib/python3.6/site-packages/sklearn/preprocessing/label.py:151: DeprecationWarning: The truth value of an empty array is ambiguous. Returning False, but in future this will result in an error. Use `array.size > 0` to check that an array is not empty.\n",
      "  if diff:\n",
      "/anaconda3/lib/python3.6/site-packages/sklearn/preprocessing/label.py:151: DeprecationWarning: The truth value of an empty array is ambiguous. Returning False, but in future this will result in an error. Use `array.size > 0` to check that an array is not empty.\n",
      "  if diff:\n"
     ]
    },
    {
     "name": "stdout",
     "output_type": "stream",
     "text": [
      "[1]\tvalid_0's auc: 0.703479\n",
      "Training until validation scores don't improve for 10 rounds.\n",
      "[2]\tvalid_0's auc: 0.70912\n",
      "[3]\tvalid_0's auc: 0.707569\n",
      "[4]\tvalid_0's auc: 0.711103\n",
      "[5]\tvalid_0's auc: 0.718071\n",
      "[6]\tvalid_0's auc: 0.72076\n",
      "[7]\tvalid_0's auc: 0.717255\n",
      "[8]\tvalid_0's auc: 0.714786\n",
      "[9]\tvalid_0's auc: 0.715619\n",
      "[10]\tvalid_0's auc: 0.714024\n",
      "[11]\tvalid_0's auc: 0.71286\n",
      "[12]\tvalid_0's auc: 0.71561\n",
      "[13]\tvalid_0's auc: 0.716852\n",
      "[14]\tvalid_0's auc: 0.716534\n",
      "[15]\tvalid_0's auc: 0.720371\n",
      "[16]\tvalid_0's auc: 0.722028\n",
      "[17]\tvalid_0's auc: 0.724487\n",
      "[18]\tvalid_0's auc: 0.72648\n",
      "[19]\tvalid_0's auc: 0.726712\n",
      "[20]\tvalid_0's auc: 0.729332\n",
      "Did not meet early stopping. Best iteration is:\n",
      "[20]\tvalid_0's auc: 0.729332\n"
     ]
    },
    {
     "name": "stderr",
     "output_type": "stream",
     "text": [
      "/anaconda3/lib/python3.6/site-packages/sklearn/preprocessing/label.py:151: DeprecationWarning: The truth value of an empty array is ambiguous. Returning False, but in future this will result in an error. Use `array.size > 0` to check that an array is not empty.\n",
      "  if diff:\n",
      "/anaconda3/lib/python3.6/site-packages/sklearn/preprocessing/label.py:151: DeprecationWarning: The truth value of an empty array is ambiguous. Returning False, but in future this will result in an error. Use `array.size > 0` to check that an array is not empty.\n",
      "  if diff:\n"
     ]
    },
    {
     "name": "stdout",
     "output_type": "stream",
     "text": [
      "[1]\tvalid_0's auc: 0.716983\n",
      "Training until validation scores don't improve for 10 rounds.\n",
      "[2]\tvalid_0's auc: 0.703448\n",
      "[3]\tvalid_0's auc: 0.711497\n",
      "[4]\tvalid_0's auc: 0.706826\n",
      "[5]\tvalid_0's auc: 0.705438\n",
      "[6]\tvalid_0's auc: 0.712358\n",
      "[7]\tvalid_0's auc: 0.714615\n",
      "[8]\tvalid_0's auc: 0.732196\n",
      "[9]\tvalid_0's auc: 0.744371\n",
      "[10]\tvalid_0's auc: 0.748095\n",
      "[11]\tvalid_0's auc: 0.747877\n",
      "[12]\tvalid_0's auc: 0.747952\n",
      "[13]\tvalid_0's auc: 0.743372\n",
      "[14]\tvalid_0's auc: 0.740706\n",
      "[15]\tvalid_0's auc: 0.738853\n",
      "[16]\tvalid_0's auc: 0.739134\n",
      "[17]\tvalid_0's auc: 0.743202\n",
      "[18]\tvalid_0's auc: 0.744318\n",
      "[19]\tvalid_0's auc: 0.747102\n",
      "[20]\tvalid_0's auc: 0.747673\n",
      "Early stopping, best iteration is:\n",
      "[10]\tvalid_0's auc: 0.748095\n"
     ]
    },
    {
     "name": "stderr",
     "output_type": "stream",
     "text": [
      "/anaconda3/lib/python3.6/site-packages/sklearn/preprocessing/label.py:151: DeprecationWarning: The truth value of an empty array is ambiguous. Returning False, but in future this will result in an error. Use `array.size > 0` to check that an array is not empty.\n",
      "  if diff:\n",
      "/anaconda3/lib/python3.6/site-packages/sklearn/preprocessing/label.py:151: DeprecationWarning: The truth value of an empty array is ambiguous. Returning False, but in future this will result in an error. Use `array.size > 0` to check that an array is not empty.\n",
      "  if diff:\n"
     ]
    },
    {
     "name": "stdout",
     "output_type": "stream",
     "text": [
      "[1]\tvalid_0's auc: 0.681963\n",
      "Training until validation scores don't improve for 10 rounds.\n",
      "[2]\tvalid_0's auc: 0.687181\n",
      "[3]\tvalid_0's auc: 0.699061\n",
      "[4]\tvalid_0's auc: 0.698066\n",
      "[5]\tvalid_0's auc: 0.693612\n",
      "[6]\tvalid_0's auc: 0.699729\n",
      "[7]\tvalid_0's auc: 0.700893\n",
      "[8]\tvalid_0's auc: 0.696263\n",
      "[9]\tvalid_0's auc: 0.701207\n",
      "[10]\tvalid_0's auc: 0.701729\n",
      "[11]\tvalid_0's auc: 0.701797\n",
      "[12]\tvalid_0's auc: 0.706725\n",
      "[13]\tvalid_0's auc: 0.706871\n",
      "[14]\tvalid_0's auc: 0.708474\n",
      "[15]\tvalid_0's auc: 0.707152\n",
      "[16]\tvalid_0's auc: 0.708139\n",
      "[17]\tvalid_0's auc: 0.70911\n",
      "[18]\tvalid_0's auc: 0.706275\n",
      "[19]\tvalid_0's auc: 0.706932\n",
      "[20]\tvalid_0's auc: 0.704291\n",
      "Did not meet early stopping. Best iteration is:\n",
      "[17]\tvalid_0's auc: 0.70911\n"
     ]
    },
    {
     "name": "stderr",
     "output_type": "stream",
     "text": [
      "/anaconda3/lib/python3.6/site-packages/sklearn/preprocessing/label.py:151: DeprecationWarning: The truth value of an empty array is ambiguous. Returning False, but in future this will result in an error. Use `array.size > 0` to check that an array is not empty.\n",
      "  if diff:\n",
      "/anaconda3/lib/python3.6/site-packages/sklearn/preprocessing/label.py:151: DeprecationWarning: The truth value of an empty array is ambiguous. Returning False, but in future this will result in an error. Use `array.size > 0` to check that an array is not empty.\n",
      "  if diff:\n"
     ]
    },
    {
     "name": "stdout",
     "output_type": "stream",
     "text": [
      "[1]\tvalid_0's auc: 0.699414\n",
      "Training until validation scores don't improve for 10 rounds.\n",
      "[2]\tvalid_0's auc: 0.710838\n",
      "[3]\tvalid_0's auc: 0.711573\n",
      "[4]\tvalid_0's auc: 0.717444\n",
      "[5]\tvalid_0's auc: 0.719326\n",
      "[6]\tvalid_0's auc: 0.722801\n",
      "[7]\tvalid_0's auc: 0.717806\n",
      "[8]\tvalid_0's auc: 0.712031\n",
      "[9]\tvalid_0's auc: 0.710531\n",
      "[10]\tvalid_0's auc: 0.717243\n",
      "[11]\tvalid_0's auc: 0.71298\n",
      "[12]\tvalid_0's auc: 0.718742\n",
      "[13]\tvalid_0's auc: 0.718614\n",
      "[14]\tvalid_0's auc: 0.719085\n",
      "[15]\tvalid_0's auc: 0.722775\n",
      "[16]\tvalid_0's auc: 0.721724\n",
      "Early stopping, best iteration is:\n",
      "[6]\tvalid_0's auc: 0.722801\n"
     ]
    },
    {
     "name": "stderr",
     "output_type": "stream",
     "text": [
      "/anaconda3/lib/python3.6/site-packages/sklearn/preprocessing/label.py:151: DeprecationWarning: The truth value of an empty array is ambiguous. Returning False, but in future this will result in an error. Use `array.size > 0` to check that an array is not empty.\n",
      "  if diff:\n",
      "/anaconda3/lib/python3.6/site-packages/sklearn/preprocessing/label.py:151: DeprecationWarning: The truth value of an empty array is ambiguous. Returning False, but in future this will result in an error. Use `array.size > 0` to check that an array is not empty.\n",
      "  if diff:\n"
     ]
    },
    {
     "name": "stdout",
     "output_type": "stream",
     "text": [
      "[1]\tvalid_0's auc: 0.697354\n",
      "Training until validation scores don't improve for 10 rounds.\n",
      "[2]\tvalid_0's auc: 0.648091\n",
      "[3]\tvalid_0's auc: 0.66326\n",
      "[4]\tvalid_0's auc: 0.656399\n",
      "[5]\tvalid_0's auc: 0.651263\n",
      "[6]\tvalid_0's auc: 0.665509\n",
      "[7]\tvalid_0's auc: 0.669221\n",
      "[8]\tvalid_0's auc: 0.684165\n",
      "[9]\tvalid_0's auc: 0.708514\n",
      "[10]\tvalid_0's auc: 0.713612\n",
      "[11]\tvalid_0's auc: 0.710739\n",
      "[12]\tvalid_0's auc: 0.710511\n",
      "[13]\tvalid_0's auc: 0.709145\n",
      "[14]\tvalid_0's auc: 0.708381\n",
      "[15]\tvalid_0's auc: 0.708667\n",
      "[16]\tvalid_0's auc: 0.709011\n",
      "[17]\tvalid_0's auc: 0.711408\n",
      "[18]\tvalid_0's auc: 0.71598\n",
      "[19]\tvalid_0's auc: 0.716635\n",
      "[20]\tvalid_0's auc: 0.717252\n",
      "Did not meet early stopping. Best iteration is:\n",
      "[20]\tvalid_0's auc: 0.717252\n"
     ]
    },
    {
     "name": "stderr",
     "output_type": "stream",
     "text": [
      "/anaconda3/lib/python3.6/site-packages/sklearn/preprocessing/label.py:151: DeprecationWarning: The truth value of an empty array is ambiguous. Returning False, but in future this will result in an error. Use `array.size > 0` to check that an array is not empty.\n",
      "  if diff:\n",
      "/anaconda3/lib/python3.6/site-packages/sklearn/preprocessing/label.py:151: DeprecationWarning: The truth value of an empty array is ambiguous. Returning False, but in future this will result in an error. Use `array.size > 0` to check that an array is not empty.\n",
      "  if diff:\n"
     ]
    },
    {
     "name": "stdout",
     "output_type": "stream",
     "text": [
      "[1]\tvalid_0's auc: 0.702063\n",
      "Training until validation scores don't improve for 10 rounds.\n",
      "[2]\tvalid_0's auc: 0.685007\n",
      "[3]\tvalid_0's auc: 0.68821\n",
      "[4]\tvalid_0's auc: 0.677534\n",
      "[5]\tvalid_0's auc: 0.677502\n",
      "[6]\tvalid_0's auc: 0.681708\n",
      "[7]\tvalid_0's auc: 0.687356\n",
      "[8]\tvalid_0's auc: 0.682226\n",
      "[9]\tvalid_0's auc: 0.687498\n",
      "[10]\tvalid_0's auc: 0.683523\n",
      "[11]\tvalid_0's auc: 0.68517\n",
      "Early stopping, best iteration is:\n",
      "[1]\tvalid_0's auc: 0.702063\n"
     ]
    },
    {
     "name": "stderr",
     "output_type": "stream",
     "text": [
      "/anaconda3/lib/python3.6/site-packages/sklearn/preprocessing/label.py:151: DeprecationWarning: The truth value of an empty array is ambiguous. Returning False, but in future this will result in an error. Use `array.size > 0` to check that an array is not empty.\n",
      "  if diff:\n",
      "/anaconda3/lib/python3.6/site-packages/sklearn/preprocessing/label.py:151: DeprecationWarning: The truth value of an empty array is ambiguous. Returning False, but in future this will result in an error. Use `array.size > 0` to check that an array is not empty.\n",
      "  if diff:\n"
     ]
    },
    {
     "name": "stdout",
     "output_type": "stream",
     "text": [
      "[1]\tvalid_0's auc: 0.699414\n",
      "Training until validation scores don't improve for 10 rounds.\n",
      "[2]\tvalid_0's auc: 0.69512\n",
      "[3]\tvalid_0's auc: 0.691186\n",
      "[4]\tvalid_0's auc: 0.693175\n",
      "[5]\tvalid_0's auc: 0.696093\n",
      "[6]\tvalid_0's auc: 0.702746\n",
      "[7]\tvalid_0's auc: 0.697827\n",
      "[8]\tvalid_0's auc: 0.693773\n",
      "[9]\tvalid_0's auc: 0.693858\n",
      "[10]\tvalid_0's auc: 0.700086\n",
      "[11]\tvalid_0's auc: 0.699705\n",
      "[12]\tvalid_0's auc: 0.701623\n",
      "[13]\tvalid_0's auc: 0.702831\n",
      "[14]\tvalid_0's auc: 0.700429\n",
      "[15]\tvalid_0's auc: 0.70177\n",
      "[16]\tvalid_0's auc: 0.702703\n",
      "[17]\tvalid_0's auc: 0.706057\n",
      "[18]\tvalid_0's auc: 0.706168\n",
      "[19]\tvalid_0's auc: 0.705934\n",
      "[20]\tvalid_0's auc: 0.705361\n",
      "Did not meet early stopping. Best iteration is:\n",
      "[18]\tvalid_0's auc: 0.706168\n"
     ]
    },
    {
     "name": "stderr",
     "output_type": "stream",
     "text": [
      "/anaconda3/lib/python3.6/site-packages/sklearn/preprocessing/label.py:151: DeprecationWarning: The truth value of an empty array is ambiguous. Returning False, but in future this will result in an error. Use `array.size > 0` to check that an array is not empty.\n",
      "  if diff:\n",
      "/anaconda3/lib/python3.6/site-packages/sklearn/preprocessing/label.py:151: DeprecationWarning: The truth value of an empty array is ambiguous. Returning False, but in future this will result in an error. Use `array.size > 0` to check that an array is not empty.\n",
      "  if diff:\n"
     ]
    },
    {
     "name": "stdout",
     "output_type": "stream",
     "text": [
      "[1]\tvalid_0's auc: 0.698298\n",
      "Training until validation scores don't improve for 10 rounds.\n",
      "[2]\tvalid_0's auc: 0.663386\n",
      "[3]\tvalid_0's auc: 0.662336\n",
      "[4]\tvalid_0's auc: 0.652911\n",
      "[5]\tvalid_0's auc: 0.64914\n",
      "[6]\tvalid_0's auc: 0.657434\n",
      "[7]\tvalid_0's auc: 0.660698\n",
      "[8]\tvalid_0's auc: 0.674779\n",
      "[9]\tvalid_0's auc: 0.715751\n",
      "[10]\tvalid_0's auc: 0.694866\n",
      "[11]\tvalid_0's auc: 0.691202\n",
      "[12]\tvalid_0's auc: 0.708007\n",
      "[13]\tvalid_0's auc: 0.702398\n",
      "[14]\tvalid_0's auc: 0.695022\n",
      "[15]\tvalid_0's auc: 0.693318\n",
      "[16]\tvalid_0's auc: 0.692632\n",
      "[17]\tvalid_0's auc: 0.69192\n",
      "[18]\tvalid_0's auc: 0.690434\n",
      "[19]\tvalid_0's auc: 0.693657\n",
      "Early stopping, best iteration is:\n",
      "[9]\tvalid_0's auc: 0.715751\n"
     ]
    },
    {
     "name": "stderr",
     "output_type": "stream",
     "text": [
      "/anaconda3/lib/python3.6/site-packages/sklearn/preprocessing/label.py:151: DeprecationWarning: The truth value of an empty array is ambiguous. Returning False, but in future this will result in an error. Use `array.size > 0` to check that an array is not empty.\n",
      "  if diff:\n",
      "/anaconda3/lib/python3.6/site-packages/sklearn/preprocessing/label.py:151: DeprecationWarning: The truth value of an empty array is ambiguous. Returning False, but in future this will result in an error. Use `array.size > 0` to check that an array is not empty.\n",
      "  if diff:\n"
     ]
    },
    {
     "name": "stdout",
     "output_type": "stream",
     "text": [
      "[1]\tvalid_0's auc: 0.706623\n",
      "Training until validation scores don't improve for 10 rounds.\n",
      "[2]\tvalid_0's auc: 0.692451\n",
      "[3]\tvalid_0's auc: 0.697092\n",
      "[4]\tvalid_0's auc: 0.690659\n",
      "[5]\tvalid_0's auc: 0.690625\n",
      "[6]\tvalid_0's auc: 0.691787\n",
      "[7]\tvalid_0's auc: 0.693043\n",
      "[8]\tvalid_0's auc: 0.689546\n",
      "[9]\tvalid_0's auc: 0.699781\n",
      "[10]\tvalid_0's auc: 0.693877\n",
      "[11]\tvalid_0's auc: 0.690708\n",
      "Early stopping, best iteration is:\n",
      "[1]\tvalid_0's auc: 0.706623\n"
     ]
    },
    {
     "name": "stderr",
     "output_type": "stream",
     "text": [
      "/anaconda3/lib/python3.6/site-packages/sklearn/preprocessing/label.py:151: DeprecationWarning: The truth value of an empty array is ambiguous. Returning False, but in future this will result in an error. Use `array.size > 0` to check that an array is not empty.\n",
      "  if diff:\n",
      "/anaconda3/lib/python3.6/site-packages/sklearn/preprocessing/label.py:151: DeprecationWarning: The truth value of an empty array is ambiguous. Returning False, but in future this will result in an error. Use `array.size > 0` to check that an array is not empty.\n",
      "  if diff:\n"
     ]
    },
    {
     "name": "stdout",
     "output_type": "stream",
     "text": [
      "[1]\tvalid_0's auc: 0.703438\n",
      "Training until validation scores don't improve for 10 rounds.\n",
      "[2]\tvalid_0's auc: 0.716567\n",
      "[3]\tvalid_0's auc: 0.716214\n",
      "[4]\tvalid_0's auc: 0.714258\n",
      "[5]\tvalid_0's auc: 0.716444\n",
      "[6]\tvalid_0's auc: 0.721906\n",
      "[7]\tvalid_0's auc: 0.72546\n",
      "[8]\tvalid_0's auc: 0.723932\n",
      "[9]\tvalid_0's auc: 0.724302\n",
      "[10]\tvalid_0's auc: 0.728827\n",
      "[11]\tvalid_0's auc: 0.725557\n",
      "[12]\tvalid_0's auc: 0.728132\n",
      "[13]\tvalid_0's auc: 0.7292\n",
      "[14]\tvalid_0's auc: 0.730235\n",
      "[15]\tvalid_0's auc: 0.733165\n",
      "[16]\tvalid_0's auc: 0.733943\n",
      "[17]\tvalid_0's auc: 0.736133\n",
      "[18]\tvalid_0's auc: 0.736467\n",
      "[19]\tvalid_0's auc: 0.735874\n",
      "[20]\tvalid_0's auc: 0.735585\n",
      "Did not meet early stopping. Best iteration is:\n",
      "[18]\tvalid_0's auc: 0.736467\n"
     ]
    },
    {
     "name": "stderr",
     "output_type": "stream",
     "text": [
      "/anaconda3/lib/python3.6/site-packages/sklearn/preprocessing/label.py:151: DeprecationWarning: The truth value of an empty array is ambiguous. Returning False, but in future this will result in an error. Use `array.size > 0` to check that an array is not empty.\n",
      "  if diff:\n",
      "/anaconda3/lib/python3.6/site-packages/sklearn/preprocessing/label.py:151: DeprecationWarning: The truth value of an empty array is ambiguous. Returning False, but in future this will result in an error. Use `array.size > 0` to check that an array is not empty.\n",
      "  if diff:\n"
     ]
    },
    {
     "name": "stdout",
     "output_type": "stream",
     "text": [
      "[1]\tvalid_0's auc: 0.716983\n",
      "Training until validation scores don't improve for 10 rounds.\n",
      "[2]\tvalid_0's auc: 0.719687\n",
      "[3]\tvalid_0's auc: 0.723385\n",
      "[4]\tvalid_0's auc: 0.723807\n",
      "[5]\tvalid_0's auc: 0.721106\n",
      "[6]\tvalid_0's auc: 0.725644\n",
      "[7]\tvalid_0's auc: 0.729583\n",
      "[8]\tvalid_0's auc: 0.740205\n",
      "[9]\tvalid_0's auc: 0.750901\n",
      "[10]\tvalid_0's auc: 0.752419\n",
      "[11]\tvalid_0's auc: 0.753437\n",
      "[12]\tvalid_0's auc: 0.753461\n",
      "[13]\tvalid_0's auc: 0.751177\n",
      "[14]\tvalid_0's auc: 0.750913\n",
      "[15]\tvalid_0's auc: 0.749984\n",
      "[16]\tvalid_0's auc: 0.749883\n",
      "[17]\tvalid_0's auc: 0.751804\n",
      "[18]\tvalid_0's auc: 0.75379\n",
      "[19]\tvalid_0's auc: 0.752952\n",
      "[20]\tvalid_0's auc: 0.754873\n",
      "Did not meet early stopping. Best iteration is:\n",
      "[20]\tvalid_0's auc: 0.754873\n"
     ]
    },
    {
     "name": "stderr",
     "output_type": "stream",
     "text": [
      "/anaconda3/lib/python3.6/site-packages/sklearn/preprocessing/label.py:151: DeprecationWarning: The truth value of an empty array is ambiguous. Returning False, but in future this will result in an error. Use `array.size > 0` to check that an array is not empty.\n",
      "  if diff:\n",
      "/anaconda3/lib/python3.6/site-packages/sklearn/preprocessing/label.py:151: DeprecationWarning: The truth value of an empty array is ambiguous. Returning False, but in future this will result in an error. Use `array.size > 0` to check that an array is not empty.\n",
      "  if diff:\n"
     ]
    },
    {
     "name": "stdout",
     "output_type": "stream",
     "text": [
      "[1]\tvalid_0's auc: 0.681963\n",
      "Training until validation scores don't improve for 10 rounds.\n",
      "[2]\tvalid_0's auc: 0.689343\n",
      "[3]\tvalid_0's auc: 0.690461\n",
      "[4]\tvalid_0's auc: 0.693186\n",
      "[5]\tvalid_0's auc: 0.695951\n",
      "[6]\tvalid_0's auc: 0.6998\n",
      "[7]\tvalid_0's auc: 0.703091\n",
      "[8]\tvalid_0's auc: 0.707238\n",
      "[9]\tvalid_0's auc: 0.71345\n",
      "[10]\tvalid_0's auc: 0.712894\n",
      "[11]\tvalid_0's auc: 0.714052\n",
      "[12]\tvalid_0's auc: 0.718818\n",
      "[13]\tvalid_0's auc: 0.718875\n",
      "[14]\tvalid_0's auc: 0.719392\n",
      "[15]\tvalid_0's auc: 0.717792\n",
      "[16]\tvalid_0's auc: 0.717215\n",
      "[17]\tvalid_0's auc: 0.717035\n",
      "[18]\tvalid_0's auc: 0.717611\n",
      "[19]\tvalid_0's auc: 0.717478\n",
      "[20]\tvalid_0's auc: 0.717172\n",
      "Did not meet early stopping. Best iteration is:\n",
      "[14]\tvalid_0's auc: 0.719392\n"
     ]
    },
    {
     "name": "stderr",
     "output_type": "stream",
     "text": [
      "/anaconda3/lib/python3.6/site-packages/sklearn/preprocessing/label.py:151: DeprecationWarning: The truth value of an empty array is ambiguous. Returning False, but in future this will result in an error. Use `array.size > 0` to check that an array is not empty.\n",
      "  if diff:\n",
      "/anaconda3/lib/python3.6/site-packages/sklearn/preprocessing/label.py:151: DeprecationWarning: The truth value of an empty array is ambiguous. Returning False, but in future this will result in an error. Use `array.size > 0` to check that an array is not empty.\n",
      "  if diff:\n"
     ]
    },
    {
     "name": "stdout",
     "output_type": "stream",
     "text": [
      "[1]\tvalid_0's auc: 0.699107\n",
      "Training until validation scores don't improve for 10 rounds.\n",
      "[2]\tvalid_0's auc: 0.698646\n",
      "[3]\tvalid_0's auc: 0.702912\n",
      "[4]\tvalid_0's auc: 0.706954\n",
      "[5]\tvalid_0's auc: 0.714341\n",
      "[6]\tvalid_0's auc: 0.719654\n",
      "[7]\tvalid_0's auc: 0.718809\n",
      "[8]\tvalid_0's auc: 0.71786\n",
      "[9]\tvalid_0's auc: 0.721683\n",
      "[10]\tvalid_0's auc: 0.722291\n",
      "[11]\tvalid_0's auc: 0.721875\n",
      "[12]\tvalid_0's auc: 0.723578\n",
      "[13]\tvalid_0's auc: 0.724857\n",
      "[14]\tvalid_0's auc: 0.726139\n",
      "[15]\tvalid_0's auc: 0.727148\n",
      "[16]\tvalid_0's auc: 0.730429\n",
      "[17]\tvalid_0's auc: 0.731809\n",
      "[18]\tvalid_0's auc: 0.732781\n",
      "[19]\tvalid_0's auc: 0.735855\n",
      "[20]\tvalid_0's auc: 0.73412\n",
      "Did not meet early stopping. Best iteration is:\n",
      "[19]\tvalid_0's auc: 0.735855\n"
     ]
    },
    {
     "name": "stderr",
     "output_type": "stream",
     "text": [
      "/anaconda3/lib/python3.6/site-packages/sklearn/preprocessing/label.py:151: DeprecationWarning: The truth value of an empty array is ambiguous. Returning False, but in future this will result in an error. Use `array.size > 0` to check that an array is not empty.\n",
      "  if diff:\n",
      "/anaconda3/lib/python3.6/site-packages/sklearn/preprocessing/label.py:151: DeprecationWarning: The truth value of an empty array is ambiguous. Returning False, but in future this will result in an error. Use `array.size > 0` to check that an array is not empty.\n",
      "  if diff:\n"
     ]
    },
    {
     "name": "stdout",
     "output_type": "stream",
     "text": [
      "[1]\tvalid_0's auc: 0.697354\n",
      "Training until validation scores don't improve for 10 rounds.\n",
      "[2]\tvalid_0's auc: 0.689652\n",
      "[3]\tvalid_0's auc: 0.694652\n",
      "[4]\tvalid_0's auc: 0.694459\n",
      "[5]\tvalid_0's auc: 0.694849\n",
      "[6]\tvalid_0's auc: 0.703048\n",
      "[7]\tvalid_0's auc: 0.709585\n",
      "[8]\tvalid_0's auc: 0.724554\n",
      "[9]\tvalid_0's auc: 0.736555\n",
      "[10]\tvalid_0's auc: 0.740595\n",
      "[11]\tvalid_0's auc: 0.743501\n",
      "[12]\tvalid_0's auc: 0.743621\n",
      "[13]\tvalid_0's auc: 0.74018\n",
      "[14]\tvalid_0's auc: 0.735361\n",
      "[15]\tvalid_0's auc: 0.734608\n",
      "[16]\tvalid_0's auc: 0.735344\n",
      "[17]\tvalid_0's auc: 0.735214\n",
      "[18]\tvalid_0's auc: 0.735632\n",
      "[19]\tvalid_0's auc: 0.734115\n",
      "[20]\tvalid_0's auc: 0.733953\n",
      "Did not meet early stopping. Best iteration is:\n",
      "[12]\tvalid_0's auc: 0.743621\n"
     ]
    },
    {
     "name": "stderr",
     "output_type": "stream",
     "text": [
      "/anaconda3/lib/python3.6/site-packages/sklearn/preprocessing/label.py:151: DeprecationWarning: The truth value of an empty array is ambiguous. Returning False, but in future this will result in an error. Use `array.size > 0` to check that an array is not empty.\n",
      "  if diff:\n",
      "/anaconda3/lib/python3.6/site-packages/sklearn/preprocessing/label.py:151: DeprecationWarning: The truth value of an empty array is ambiguous. Returning False, but in future this will result in an error. Use `array.size > 0` to check that an array is not empty.\n",
      "  if diff:\n"
     ]
    },
    {
     "name": "stdout",
     "output_type": "stream",
     "text": [
      "[1]\tvalid_0's auc: 0.70208\n",
      "Training until validation scores don't improve for 10 rounds.\n",
      "[2]\tvalid_0's auc: 0.694155\n",
      "[3]\tvalid_0's auc: 0.70978\n",
      "[4]\tvalid_0's auc: 0.71372\n",
      "[5]\tvalid_0's auc: 0.711157\n",
      "[6]\tvalid_0's auc: 0.717845\n",
      "[7]\tvalid_0's auc: 0.721244\n",
      "[8]\tvalid_0's auc: 0.71988\n",
      "[9]\tvalid_0's auc: 0.720293\n",
      "[10]\tvalid_0's auc: 0.717579\n",
      "[11]\tvalid_0's auc: 0.716642\n",
      "[12]\tvalid_0's auc: 0.717063\n",
      "[13]\tvalid_0's auc: 0.714828\n",
      "[14]\tvalid_0's auc: 0.714338\n",
      "[15]\tvalid_0's auc: 0.713714\n",
      "[16]\tvalid_0's auc: 0.714944\n",
      "[17]\tvalid_0's auc: 0.716764\n",
      "Early stopping, best iteration is:\n",
      "[7]\tvalid_0's auc: 0.721244\n"
     ]
    },
    {
     "name": "stderr",
     "output_type": "stream",
     "text": [
      "/anaconda3/lib/python3.6/site-packages/sklearn/preprocessing/label.py:151: DeprecationWarning: The truth value of an empty array is ambiguous. Returning False, but in future this will result in an error. Use `array.size > 0` to check that an array is not empty.\n",
      "  if diff:\n",
      "/anaconda3/lib/python3.6/site-packages/sklearn/preprocessing/label.py:151: DeprecationWarning: The truth value of an empty array is ambiguous. Returning False, but in future this will result in an error. Use `array.size > 0` to check that an array is not empty.\n",
      "  if diff:\n"
     ]
    },
    {
     "name": "stdout",
     "output_type": "stream",
     "text": [
      "[1]\tvalid_0's auc: 0.699107\n",
      "Training until validation scores don't improve for 10 rounds.\n",
      "[2]\tvalid_0's auc: 0.713419\n",
      "[3]\tvalid_0's auc: 0.721105\n",
      "[4]\tvalid_0's auc: 0.721301\n",
      "[5]\tvalid_0's auc: 0.726116\n",
      "[6]\tvalid_0's auc: 0.728724\n",
      "[7]\tvalid_0's auc: 0.724138\n",
      "[8]\tvalid_0's auc: 0.719329\n",
      "[9]\tvalid_0's auc: 0.719771\n",
      "[10]\tvalid_0's auc: 0.725724\n",
      "[11]\tvalid_0's auc: 0.722814\n",
      "[12]\tvalid_0's auc: 0.723781\n",
      "[13]\tvalid_0's auc: 0.724528\n",
      "[14]\tvalid_0's auc: 0.723541\n",
      "[15]\tvalid_0's auc: 0.724962\n",
      "[16]\tvalid_0's auc: 0.72761\n",
      "Early stopping, best iteration is:\n",
      "[6]\tvalid_0's auc: 0.728724\n"
     ]
    },
    {
     "name": "stderr",
     "output_type": "stream",
     "text": [
      "/anaconda3/lib/python3.6/site-packages/sklearn/preprocessing/label.py:151: DeprecationWarning: The truth value of an empty array is ambiguous. Returning False, but in future this will result in an error. Use `array.size > 0` to check that an array is not empty.\n",
      "  if diff:\n",
      "/anaconda3/lib/python3.6/site-packages/sklearn/preprocessing/label.py:151: DeprecationWarning: The truth value of an empty array is ambiguous. Returning False, but in future this will result in an error. Use `array.size > 0` to check that an array is not empty.\n",
      "  if diff:\n"
     ]
    },
    {
     "name": "stdout",
     "output_type": "stream",
     "text": [
      "[1]\tvalid_0's auc: 0.698298\n",
      "Training until validation scores don't improve for 10 rounds.\n",
      "[2]\tvalid_0's auc: 0.688498\n",
      "[3]\tvalid_0's auc: 0.691711\n",
      "[4]\tvalid_0's auc: 0.691931\n",
      "[5]\tvalid_0's auc: 0.688215\n",
      "[6]\tvalid_0's auc: 0.693398\n",
      "[7]\tvalid_0's auc: 0.697651\n",
      "[8]\tvalid_0's auc: 0.708739\n",
      "[9]\tvalid_0's auc: 0.728823\n",
      "[10]\tvalid_0's auc: 0.734749\n",
      "[11]\tvalid_0's auc: 0.735201\n",
      "[12]\tvalid_0's auc: 0.735579\n",
      "[13]\tvalid_0's auc: 0.731737\n",
      "[14]\tvalid_0's auc: 0.728979\n",
      "[15]\tvalid_0's auc: 0.727566\n",
      "[16]\tvalid_0's auc: 0.732283\n",
      "[17]\tvalid_0's auc: 0.730953\n",
      "[18]\tvalid_0's auc: 0.732527\n",
      "[19]\tvalid_0's auc: 0.731105\n",
      "[20]\tvalid_0's auc: 0.732048\n",
      "Did not meet early stopping. Best iteration is:\n",
      "[12]\tvalid_0's auc: 0.735579\n"
     ]
    },
    {
     "name": "stderr",
     "output_type": "stream",
     "text": [
      "/anaconda3/lib/python3.6/site-packages/sklearn/preprocessing/label.py:151: DeprecationWarning: The truth value of an empty array is ambiguous. Returning False, but in future this will result in an error. Use `array.size > 0` to check that an array is not empty.\n",
      "  if diff:\n",
      "/anaconda3/lib/python3.6/site-packages/sklearn/preprocessing/label.py:151: DeprecationWarning: The truth value of an empty array is ambiguous. Returning False, but in future this will result in an error. Use `array.size > 0` to check that an array is not empty.\n",
      "  if diff:\n"
     ]
    },
    {
     "name": "stdout",
     "output_type": "stream",
     "text": [
      "[1]\tvalid_0's auc: 0.708015\n",
      "Training until validation scores don't improve for 10 rounds.\n",
      "[2]\tvalid_0's auc: 0.704142\n",
      "[3]\tvalid_0's auc: 0.708807\n",
      "[4]\tvalid_0's auc: 0.70401\n",
      "[5]\tvalid_0's auc: 0.706933\n",
      "[6]\tvalid_0's auc: 0.717083\n",
      "[7]\tvalid_0's auc: 0.716128\n",
      "[8]\tvalid_0's auc: 0.713519\n",
      "[9]\tvalid_0's auc: 0.721939\n",
      "[10]\tvalid_0's auc: 0.716623\n",
      "[11]\tvalid_0's auc: 0.716579\n",
      "[12]\tvalid_0's auc: 0.715742\n",
      "[13]\tvalid_0's auc: 0.716061\n",
      "[14]\tvalid_0's auc: 0.713882\n",
      "[15]\tvalid_0's auc: 0.710448\n",
      "[16]\tvalid_0's auc: 0.709808\n",
      "[17]\tvalid_0's auc: 0.71062\n",
      "[18]\tvalid_0's auc: 0.709873\n",
      "[19]\tvalid_0's auc: 0.70869\n",
      "Early stopping, best iteration is:\n",
      "[9]\tvalid_0's auc: 0.721939\n"
     ]
    },
    {
     "name": "stderr",
     "output_type": "stream",
     "text": [
      "/anaconda3/lib/python3.6/site-packages/sklearn/preprocessing/label.py:151: DeprecationWarning: The truth value of an empty array is ambiguous. Returning False, but in future this will result in an error. Use `array.size > 0` to check that an array is not empty.\n",
      "  if diff:\n",
      "/anaconda3/lib/python3.6/site-packages/sklearn/preprocessing/label.py:151: DeprecationWarning: The truth value of an empty array is ambiguous. Returning False, but in future this will result in an error. Use `array.size > 0` to check that an array is not empty.\n",
      "  if diff:\n"
     ]
    },
    {
     "name": "stdout",
     "output_type": "stream",
     "text": [
      "[1]\tvalid_0's auc: 0.703438\n",
      "Training until validation scores don't improve for 10 rounds.\n",
      "[2]\tvalid_0's auc: 0.71149\n",
      "[3]\tvalid_0's auc: 0.718233\n",
      "[4]\tvalid_0's auc: 0.726602\n",
      "[5]\tvalid_0's auc: 0.735787\n",
      "[6]\tvalid_0's auc: 0.742157\n",
      "[7]\tvalid_0's auc: 0.744481\n",
      "[8]\tvalid_0's auc: 0.7437\n",
      "[9]\tvalid_0's auc: 0.744417\n",
      "[10]\tvalid_0's auc: 0.743104\n",
      "[11]\tvalid_0's auc: 0.743475\n",
      "[12]\tvalid_0's auc: 0.744066\n",
      "[13]\tvalid_0's auc: 0.748477\n",
      "[14]\tvalid_0's auc: 0.750737\n",
      "[15]\tvalid_0's auc: 0.750596\n",
      "[16]\tvalid_0's auc: 0.750237\n",
      "[17]\tvalid_0's auc: 0.752861\n",
      "[18]\tvalid_0's auc: 0.753723\n",
      "[19]\tvalid_0's auc: 0.753935\n",
      "[20]\tvalid_0's auc: 0.754305\n",
      "Did not meet early stopping. Best iteration is:\n",
      "[20]\tvalid_0's auc: 0.754305\n"
     ]
    },
    {
     "name": "stderr",
     "output_type": "stream",
     "text": [
      "/anaconda3/lib/python3.6/site-packages/sklearn/preprocessing/label.py:151: DeprecationWarning: The truth value of an empty array is ambiguous. Returning False, but in future this will result in an error. Use `array.size > 0` to check that an array is not empty.\n",
      "  if diff:\n",
      "/anaconda3/lib/python3.6/site-packages/sklearn/preprocessing/label.py:151: DeprecationWarning: The truth value of an empty array is ambiguous. Returning False, but in future this will result in an error. Use `array.size > 0` to check that an array is not empty.\n",
      "  if diff:\n"
     ]
    },
    {
     "name": "stdout",
     "output_type": "stream",
     "text": [
      "[1]\tvalid_0's auc: 0.716983\n",
      "Training until validation scores don't improve for 10 rounds.\n",
      "[2]\tvalid_0's auc: 0.727401\n",
      "[3]\tvalid_0's auc: 0.736034\n",
      "[4]\tvalid_0's auc: 0.747611\n",
      "[5]\tvalid_0's auc: 0.748447\n",
      "[6]\tvalid_0's auc: 0.754239\n",
      "[7]\tvalid_0's auc: 0.755691\n",
      "[8]\tvalid_0's auc: 0.762719\n",
      "[9]\tvalid_0's auc: 0.766148\n",
      "[10]\tvalid_0's auc: 0.767053\n",
      "[11]\tvalid_0's auc: 0.765276\n",
      "[12]\tvalid_0's auc: 0.766779\n",
      "[13]\tvalid_0's auc: 0.764906\n",
      "[14]\tvalid_0's auc: 0.761582\n",
      "[15]\tvalid_0's auc: 0.761737\n",
      "[16]\tvalid_0's auc: 0.763306\n",
      "[17]\tvalid_0's auc: 0.76445\n",
      "[18]\tvalid_0's auc: 0.765166\n",
      "[19]\tvalid_0's auc: 0.764082\n",
      "[20]\tvalid_0's auc: 0.76287\n",
      "Early stopping, best iteration is:\n",
      "[10]\tvalid_0's auc: 0.767053\n"
     ]
    },
    {
     "name": "stderr",
     "output_type": "stream",
     "text": [
      "/anaconda3/lib/python3.6/site-packages/sklearn/preprocessing/label.py:151: DeprecationWarning: The truth value of an empty array is ambiguous. Returning False, but in future this will result in an error. Use `array.size > 0` to check that an array is not empty.\n",
      "  if diff:\n",
      "/anaconda3/lib/python3.6/site-packages/sklearn/preprocessing/label.py:151: DeprecationWarning: The truth value of an empty array is ambiguous. Returning False, but in future this will result in an error. Use `array.size > 0` to check that an array is not empty.\n",
      "  if diff:\n"
     ]
    },
    {
     "name": "stdout",
     "output_type": "stream",
     "text": [
      "[1]\tvalid_0's auc: 0.681963\n",
      "Training until validation scores don't improve for 10 rounds.\n",
      "[2]\tvalid_0's auc: 0.696742\n",
      "[3]\tvalid_0's auc: 0.702769\n",
      "[4]\tvalid_0's auc: 0.71213\n",
      "[5]\tvalid_0's auc: 0.717493\n",
      "[6]\tvalid_0's auc: 0.726409\n",
      "[7]\tvalid_0's auc: 0.730267\n",
      "[8]\tvalid_0's auc: 0.729294\n",
      "[9]\tvalid_0's auc: 0.730088\n",
      "[10]\tvalid_0's auc: 0.727199\n",
      "[11]\tvalid_0's auc: 0.730179\n",
      "[12]\tvalid_0's auc: 0.73302\n",
      "[13]\tvalid_0's auc: 0.732972\n",
      "[14]\tvalid_0's auc: 0.733758\n",
      "[15]\tvalid_0's auc: 0.73481\n",
      "[16]\tvalid_0's auc: 0.734868\n",
      "[17]\tvalid_0's auc: 0.73549\n",
      "[18]\tvalid_0's auc: 0.735512\n",
      "[19]\tvalid_0's auc: 0.735078\n",
      "[20]\tvalid_0's auc: 0.733976\n",
      "Did not meet early stopping. Best iteration is:\n",
      "[18]\tvalid_0's auc: 0.735512\n"
     ]
    },
    {
     "name": "stderr",
     "output_type": "stream",
     "text": [
      "/anaconda3/lib/python3.6/site-packages/sklearn/preprocessing/label.py:151: DeprecationWarning: The truth value of an empty array is ambiguous. Returning False, but in future this will result in an error. Use `array.size > 0` to check that an array is not empty.\n",
      "  if diff:\n",
      "/anaconda3/lib/python3.6/site-packages/sklearn/preprocessing/label.py:151: DeprecationWarning: The truth value of an empty array is ambiguous. Returning False, but in future this will result in an error. Use `array.size > 0` to check that an array is not empty.\n",
      "  if diff:\n"
     ]
    },
    {
     "name": "stdout",
     "output_type": "stream",
     "text": [
      "[1]\tvalid_0's auc: 0.699107\n",
      "Training until validation scores don't improve for 10 rounds.\n",
      "[2]\tvalid_0's auc: 0.705365\n",
      "[3]\tvalid_0's auc: 0.720847\n",
      "[4]\tvalid_0's auc: 0.729584\n",
      "[5]\tvalid_0's auc: 0.731811\n",
      "[6]\tvalid_0's auc: 0.7327\n",
      "[7]\tvalid_0's auc: 0.734484\n",
      "[8]\tvalid_0's auc: 0.73615\n",
      "[9]\tvalid_0's auc: 0.73693\n",
      "[10]\tvalid_0's auc: 0.736439\n",
      "[11]\tvalid_0's auc: 0.73807\n",
      "[12]\tvalid_0's auc: 0.738347\n",
      "[13]\tvalid_0's auc: 0.740241\n",
      "[14]\tvalid_0's auc: 0.74115\n",
      "[15]\tvalid_0's auc: 0.743116\n",
      "[16]\tvalid_0's auc: 0.743889\n",
      "[17]\tvalid_0's auc: 0.745508\n",
      "[18]\tvalid_0's auc: 0.745529\n",
      "[19]\tvalid_0's auc: 0.74541\n",
      "[20]\tvalid_0's auc: 0.744207\n",
      "Did not meet early stopping. Best iteration is:\n",
      "[18]\tvalid_0's auc: 0.745529\n"
     ]
    },
    {
     "name": "stderr",
     "output_type": "stream",
     "text": [
      "/anaconda3/lib/python3.6/site-packages/sklearn/preprocessing/label.py:151: DeprecationWarning: The truth value of an empty array is ambiguous. Returning False, but in future this will result in an error. Use `array.size > 0` to check that an array is not empty.\n",
      "  if diff:\n",
      "/anaconda3/lib/python3.6/site-packages/sklearn/preprocessing/label.py:151: DeprecationWarning: The truth value of an empty array is ambiguous. Returning False, but in future this will result in an error. Use `array.size > 0` to check that an array is not empty.\n",
      "  if diff:\n"
     ]
    },
    {
     "name": "stdout",
     "output_type": "stream",
     "text": [
      "[1]\tvalid_0's auc: 0.697354\n",
      "Training until validation scores don't improve for 10 rounds.\n",
      "[2]\tvalid_0's auc: 0.712315\n",
      "[3]\tvalid_0's auc: 0.716459\n",
      "[4]\tvalid_0's auc: 0.719342\n",
      "[5]\tvalid_0's auc: 0.717675\n",
      "[6]\tvalid_0's auc: 0.723742\n",
      "[7]\tvalid_0's auc: 0.727395\n",
      "[8]\tvalid_0's auc: 0.736592\n",
      "[9]\tvalid_0's auc: 0.743111\n",
      "[10]\tvalid_0's auc: 0.746745\n",
      "[11]\tvalid_0's auc: 0.749092\n",
      "[12]\tvalid_0's auc: 0.752242\n",
      "[13]\tvalid_0's auc: 0.749869\n",
      "[14]\tvalid_0's auc: 0.750754\n",
      "[15]\tvalid_0's auc: 0.750793\n",
      "[16]\tvalid_0's auc: 0.753805\n",
      "[17]\tvalid_0's auc: 0.75584\n",
      "[18]\tvalid_0's auc: 0.753981\n",
      "[19]\tvalid_0's auc: 0.754526\n",
      "[20]\tvalid_0's auc: 0.752672\n",
      "Did not meet early stopping. Best iteration is:\n",
      "[17]\tvalid_0's auc: 0.75584\n"
     ]
    },
    {
     "name": "stderr",
     "output_type": "stream",
     "text": [
      "/anaconda3/lib/python3.6/site-packages/sklearn/preprocessing/label.py:151: DeprecationWarning: The truth value of an empty array is ambiguous. Returning False, but in future this will result in an error. Use `array.size > 0` to check that an array is not empty.\n",
      "  if diff:\n",
      "/anaconda3/lib/python3.6/site-packages/sklearn/preprocessing/label.py:151: DeprecationWarning: The truth value of an empty array is ambiguous. Returning False, but in future this will result in an error. Use `array.size > 0` to check that an array is not empty.\n",
      "  if diff:\n"
     ]
    },
    {
     "name": "stdout",
     "output_type": "stream",
     "text": [
      "[1]\tvalid_0's auc: 0.70208\n",
      "Training until validation scores don't improve for 10 rounds.\n",
      "[2]\tvalid_0's auc: 0.704129\n",
      "[3]\tvalid_0's auc: 0.714263\n",
      "[4]\tvalid_0's auc: 0.716023\n",
      "[5]\tvalid_0's auc: 0.717798\n",
      "[6]\tvalid_0's auc: 0.723668\n",
      "[7]\tvalid_0's auc: 0.728005\n",
      "[8]\tvalid_0's auc: 0.729451\n",
      "[9]\tvalid_0's auc: 0.734743\n",
      "[10]\tvalid_0's auc: 0.735244\n",
      "[11]\tvalid_0's auc: 0.735124\n",
      "[12]\tvalid_0's auc: 0.737385\n",
      "[13]\tvalid_0's auc: 0.738048\n",
      "[14]\tvalid_0's auc: 0.737561\n",
      "[15]\tvalid_0's auc: 0.737505\n",
      "[16]\tvalid_0's auc: 0.740269\n",
      "[17]\tvalid_0's auc: 0.739996\n",
      "[18]\tvalid_0's auc: 0.739927\n",
      "[19]\tvalid_0's auc: 0.73939\n",
      "[20]\tvalid_0's auc: 0.739424\n",
      "Did not meet early stopping. Best iteration is:\n",
      "[16]\tvalid_0's auc: 0.740269\n"
     ]
    },
    {
     "name": "stderr",
     "output_type": "stream",
     "text": [
      "/anaconda3/lib/python3.6/site-packages/sklearn/preprocessing/label.py:151: DeprecationWarning: The truth value of an empty array is ambiguous. Returning False, but in future this will result in an error. Use `array.size > 0` to check that an array is not empty.\n",
      "  if diff:\n",
      "/anaconda3/lib/python3.6/site-packages/sklearn/preprocessing/label.py:151: DeprecationWarning: The truth value of an empty array is ambiguous. Returning False, but in future this will result in an error. Use `array.size > 0` to check that an array is not empty.\n",
      "  if diff:\n"
     ]
    },
    {
     "name": "stdout",
     "output_type": "stream",
     "text": [
      "[1]\tvalid_0's auc: 0.699107\n",
      "Training until validation scores don't improve for 10 rounds.\n",
      "[2]\tvalid_0's auc: 0.720284\n",
      "[3]\tvalid_0's auc: 0.725758\n",
      "[4]\tvalid_0's auc: 0.725901\n",
      "[5]\tvalid_0's auc: 0.728031\n",
      "[6]\tvalid_0's auc: 0.731551\n",
      "[7]\tvalid_0's auc: 0.731104\n",
      "[8]\tvalid_0's auc: 0.729173\n",
      "[9]\tvalid_0's auc: 0.730695\n",
      "[10]\tvalid_0's auc: 0.734002\n",
      "[11]\tvalid_0's auc: 0.732415\n",
      "[12]\tvalid_0's auc: 0.733366\n",
      "[13]\tvalid_0's auc: 0.735791\n",
      "[14]\tvalid_0's auc: 0.735896\n",
      "[15]\tvalid_0's auc: 0.737869\n",
      "[16]\tvalid_0's auc: 0.739116\n",
      "[17]\tvalid_0's auc: 0.738768\n",
      "[18]\tvalid_0's auc: 0.738757\n",
      "[19]\tvalid_0's auc: 0.740247\n",
      "[20]\tvalid_0's auc: 0.739998\n",
      "Did not meet early stopping. Best iteration is:\n",
      "[19]\tvalid_0's auc: 0.740247\n"
     ]
    },
    {
     "name": "stderr",
     "output_type": "stream",
     "text": [
      "/anaconda3/lib/python3.6/site-packages/sklearn/preprocessing/label.py:151: DeprecationWarning: The truth value of an empty array is ambiguous. Returning False, but in future this will result in an error. Use `array.size > 0` to check that an array is not empty.\n",
      "  if diff:\n",
      "/anaconda3/lib/python3.6/site-packages/sklearn/preprocessing/label.py:151: DeprecationWarning: The truth value of an empty array is ambiguous. Returning False, but in future this will result in an error. Use `array.size > 0` to check that an array is not empty.\n",
      "  if diff:\n"
     ]
    },
    {
     "name": "stdout",
     "output_type": "stream",
     "text": [
      "[1]\tvalid_0's auc: 0.698298\n",
      "Training until validation scores don't improve for 10 rounds.\n",
      "[2]\tvalid_0's auc: 0.705455\n",
      "[3]\tvalid_0's auc: 0.718449\n",
      "[4]\tvalid_0's auc: 0.721893\n",
      "[5]\tvalid_0's auc: 0.72422\n",
      "[6]\tvalid_0's auc: 0.728908\n",
      "[7]\tvalid_0's auc: 0.727954\n",
      "[8]\tvalid_0's auc: 0.738647\n",
      "[9]\tvalid_0's auc: 0.743865\n",
      "[10]\tvalid_0's auc: 0.749103\n",
      "[11]\tvalid_0's auc: 0.750552\n",
      "[12]\tvalid_0's auc: 0.749017\n",
      "[13]\tvalid_0's auc: 0.74525\n",
      "[14]\tvalid_0's auc: 0.743905\n",
      "[15]\tvalid_0's auc: 0.74295\n",
      "[16]\tvalid_0's auc: 0.746229\n",
      "[17]\tvalid_0's auc: 0.744446\n",
      "[18]\tvalid_0's auc: 0.746606\n",
      "[19]\tvalid_0's auc: 0.745427\n",
      "[20]\tvalid_0's auc: 0.747362\n",
      "Did not meet early stopping. Best iteration is:\n",
      "[11]\tvalid_0's auc: 0.750552\n"
     ]
    },
    {
     "name": "stderr",
     "output_type": "stream",
     "text": [
      "/anaconda3/lib/python3.6/site-packages/sklearn/preprocessing/label.py:151: DeprecationWarning: The truth value of an empty array is ambiguous. Returning False, but in future this will result in an error. Use `array.size > 0` to check that an array is not empty.\n",
      "  if diff:\n",
      "/anaconda3/lib/python3.6/site-packages/sklearn/preprocessing/label.py:151: DeprecationWarning: The truth value of an empty array is ambiguous. Returning False, but in future this will result in an error. Use `array.size > 0` to check that an array is not empty.\n",
      "  if diff:\n"
     ]
    },
    {
     "name": "stdout",
     "output_type": "stream",
     "text": [
      "[1]\tvalid_0's auc: 0.706623\n",
      "Training until validation scores don't improve for 10 rounds.\n",
      "[2]\tvalid_0's auc: 0.713941\n",
      "[3]\tvalid_0's auc: 0.717321\n",
      "[4]\tvalid_0's auc: 0.722061\n",
      "[5]\tvalid_0's auc: 0.720062\n",
      "[6]\tvalid_0's auc: 0.723928\n",
      "[7]\tvalid_0's auc: 0.726704\n",
      "[8]\tvalid_0's auc: 0.727272\n",
      "[9]\tvalid_0's auc: 0.728522\n",
      "[10]\tvalid_0's auc: 0.727767\n",
      "[11]\tvalid_0's auc: 0.726795\n",
      "[12]\tvalid_0's auc: 0.728371\n",
      "[13]\tvalid_0's auc: 0.728349\n",
      "[14]\tvalid_0's auc: 0.728895\n",
      "[15]\tvalid_0's auc: 0.727911\n",
      "[16]\tvalid_0's auc: 0.727754\n",
      "[17]\tvalid_0's auc: 0.728776\n",
      "[18]\tvalid_0's auc: 0.729189\n",
      "[19]\tvalid_0's auc: 0.729317\n",
      "[20]\tvalid_0's auc: 0.730432\n",
      "Did not meet early stopping. Best iteration is:\n",
      "[20]\tvalid_0's auc: 0.730432\n"
     ]
    },
    {
     "name": "stderr",
     "output_type": "stream",
     "text": [
      "/anaconda3/lib/python3.6/site-packages/sklearn/preprocessing/label.py:151: DeprecationWarning: The truth value of an empty array is ambiguous. Returning False, but in future this will result in an error. Use `array.size > 0` to check that an array is not empty.\n",
      "  if diff:\n",
      "/anaconda3/lib/python3.6/site-packages/sklearn/preprocessing/label.py:151: DeprecationWarning: The truth value of an empty array is ambiguous. Returning False, but in future this will result in an error. Use `array.size > 0` to check that an array is not empty.\n",
      "  if diff:\n"
     ]
    },
    {
     "name": "stdout",
     "output_type": "stream",
     "text": [
      "[1]\tvalid_0's auc: 0.703438\n",
      "Training until validation scores don't improve for 10 rounds.\n",
      "[2]\tvalid_0's auc: 0.724057\n",
      "[3]\tvalid_0's auc: 0.735411\n",
      "[4]\tvalid_0's auc: 0.737228\n",
      "[5]\tvalid_0's auc: 0.737286\n",
      "[6]\tvalid_0's auc: 0.742734\n",
      "[7]\tvalid_0's auc: 0.746601\n",
      "[8]\tvalid_0's auc: 0.746111\n",
      "[9]\tvalid_0's auc: 0.747891\n",
      "[10]\tvalid_0's auc: 0.748918\n",
      "[11]\tvalid_0's auc: 0.748947\n",
      "[12]\tvalid_0's auc: 0.74949\n",
      "[13]\tvalid_0's auc: 0.750161\n",
      "[14]\tvalid_0's auc: 0.75256\n",
      "[15]\tvalid_0's auc: 0.752886\n",
      "[16]\tvalid_0's auc: 0.752391\n",
      "[17]\tvalid_0's auc: 0.754783\n",
      "[18]\tvalid_0's auc: 0.755685\n",
      "[19]\tvalid_0's auc: 0.757307\n",
      "[20]\tvalid_0's auc: 0.757623\n",
      "Did not meet early stopping. Best iteration is:\n",
      "[20]\tvalid_0's auc: 0.757623\n"
     ]
    },
    {
     "name": "stderr",
     "output_type": "stream",
     "text": [
      "/anaconda3/lib/python3.6/site-packages/sklearn/preprocessing/label.py:151: DeprecationWarning: The truth value of an empty array is ambiguous. Returning False, but in future this will result in an error. Use `array.size > 0` to check that an array is not empty.\n",
      "  if diff:\n",
      "/anaconda3/lib/python3.6/site-packages/sklearn/preprocessing/label.py:151: DeprecationWarning: The truth value of an empty array is ambiguous. Returning False, but in future this will result in an error. Use `array.size > 0` to check that an array is not empty.\n",
      "  if diff:\n"
     ]
    },
    {
     "name": "stdout",
     "output_type": "stream",
     "text": [
      "[1]\tvalid_0's auc: 0.716983\n",
      "Training until validation scores don't improve for 10 rounds.\n",
      "[2]\tvalid_0's auc: 0.72528\n",
      "[3]\tvalid_0's auc: 0.728866\n",
      "[4]\tvalid_0's auc: 0.74165\n",
      "[5]\tvalid_0's auc: 0.746119\n",
      "[6]\tvalid_0's auc: 0.752341\n",
      "[7]\tvalid_0's auc: 0.752703\n",
      "[8]\tvalid_0's auc: 0.756044\n",
      "[9]\tvalid_0's auc: 0.760614\n",
      "[10]\tvalid_0's auc: 0.761835\n",
      "[11]\tvalid_0's auc: 0.762454\n",
      "[12]\tvalid_0's auc: 0.765322\n",
      "[13]\tvalid_0's auc: 0.765083\n",
      "[14]\tvalid_0's auc: 0.763889\n",
      "[15]\tvalid_0's auc: 0.764646\n",
      "[16]\tvalid_0's auc: 0.766035\n",
      "[17]\tvalid_0's auc: 0.766693\n",
      "[18]\tvalid_0's auc: 0.765567\n",
      "[19]\tvalid_0's auc: 0.765929\n",
      "[20]\tvalid_0's auc: 0.766552\n",
      "Did not meet early stopping. Best iteration is:\n",
      "[17]\tvalid_0's auc: 0.766693\n"
     ]
    },
    {
     "name": "stderr",
     "output_type": "stream",
     "text": [
      "/anaconda3/lib/python3.6/site-packages/sklearn/preprocessing/label.py:151: DeprecationWarning: The truth value of an empty array is ambiguous. Returning False, but in future this will result in an error. Use `array.size > 0` to check that an array is not empty.\n",
      "  if diff:\n",
      "/anaconda3/lib/python3.6/site-packages/sklearn/preprocessing/label.py:151: DeprecationWarning: The truth value of an empty array is ambiguous. Returning False, but in future this will result in an error. Use `array.size > 0` to check that an array is not empty.\n",
      "  if diff:\n"
     ]
    },
    {
     "name": "stdout",
     "output_type": "stream",
     "text": [
      "[1]\tvalid_0's auc: 0.681963\n",
      "Training until validation scores don't improve for 10 rounds.\n",
      "[2]\tvalid_0's auc: 0.69011\n",
      "[3]\tvalid_0's auc: 0.706837\n",
      "[4]\tvalid_0's auc: 0.721249\n",
      "[5]\tvalid_0's auc: 0.722917\n",
      "[6]\tvalid_0's auc: 0.728494\n",
      "[7]\tvalid_0's auc: 0.730231\n",
      "[8]\tvalid_0's auc: 0.735547\n",
      "[9]\tvalid_0's auc: 0.737999\n",
      "[10]\tvalid_0's auc: 0.737738\n",
      "[11]\tvalid_0's auc: 0.741074\n",
      "[12]\tvalid_0's auc: 0.744671\n",
      "[13]\tvalid_0's auc: 0.746092\n",
      "[14]\tvalid_0's auc: 0.746951\n",
      "[15]\tvalid_0's auc: 0.746755\n",
      "[16]\tvalid_0's auc: 0.747366\n",
      "[17]\tvalid_0's auc: 0.74887\n",
      "[18]\tvalid_0's auc: 0.749617\n",
      "[19]\tvalid_0's auc: 0.749761\n",
      "[20]\tvalid_0's auc: 0.750328\n",
      "Did not meet early stopping. Best iteration is:\n",
      "[20]\tvalid_0's auc: 0.750328\n"
     ]
    },
    {
     "name": "stderr",
     "output_type": "stream",
     "text": [
      "/anaconda3/lib/python3.6/site-packages/sklearn/preprocessing/label.py:151: DeprecationWarning: The truth value of an empty array is ambiguous. Returning False, but in future this will result in an error. Use `array.size > 0` to check that an array is not empty.\n",
      "  if diff:\n",
      "/anaconda3/lib/python3.6/site-packages/sklearn/preprocessing/label.py:151: DeprecationWarning: The truth value of an empty array is ambiguous. Returning False, but in future this will result in an error. Use `array.size > 0` to check that an array is not empty.\n",
      "  if diff:\n"
     ]
    },
    {
     "name": "stdout",
     "output_type": "stream",
     "text": [
      "[1]\tvalid_0's auc: 0.699107\n",
      "Training until validation scores don't improve for 10 rounds.\n",
      "[2]\tvalid_0's auc: 0.725721\n",
      "[3]\tvalid_0's auc: 0.741021\n",
      "[4]\tvalid_0's auc: 0.738179\n",
      "[5]\tvalid_0's auc: 0.743569\n",
      "[6]\tvalid_0's auc: 0.747799\n",
      "[7]\tvalid_0's auc: 0.747917\n",
      "[8]\tvalid_0's auc: 0.749745\n",
      "[9]\tvalid_0's auc: 0.750686\n",
      "[10]\tvalid_0's auc: 0.749583\n",
      "[11]\tvalid_0's auc: 0.751596\n",
      "[12]\tvalid_0's auc: 0.754046\n",
      "[13]\tvalid_0's auc: 0.755557\n",
      "[14]\tvalid_0's auc: 0.755693\n",
      "[15]\tvalid_0's auc: 0.755775\n",
      "[16]\tvalid_0's auc: 0.756974\n",
      "[17]\tvalid_0's auc: 0.758476\n",
      "[18]\tvalid_0's auc: 0.758676\n",
      "[19]\tvalid_0's auc: 0.759896\n",
      "[20]\tvalid_0's auc: 0.759181\n",
      "Did not meet early stopping. Best iteration is:\n",
      "[19]\tvalid_0's auc: 0.759896\n"
     ]
    },
    {
     "name": "stderr",
     "output_type": "stream",
     "text": [
      "/anaconda3/lib/python3.6/site-packages/sklearn/preprocessing/label.py:151: DeprecationWarning: The truth value of an empty array is ambiguous. Returning False, but in future this will result in an error. Use `array.size > 0` to check that an array is not empty.\n",
      "  if diff:\n",
      "/anaconda3/lib/python3.6/site-packages/sklearn/preprocessing/label.py:151: DeprecationWarning: The truth value of an empty array is ambiguous. Returning False, but in future this will result in an error. Use `array.size > 0` to check that an array is not empty.\n",
      "  if diff:\n"
     ]
    },
    {
     "name": "stdout",
     "output_type": "stream",
     "text": [
      "[1]\tvalid_0's auc: 0.697354\n",
      "Training until validation scores don't improve for 10 rounds.\n",
      "[2]\tvalid_0's auc: 0.717869\n",
      "[3]\tvalid_0's auc: 0.729058\n",
      "[4]\tvalid_0's auc: 0.74233\n",
      "[5]\tvalid_0's auc: 0.748248\n",
      "[6]\tvalid_0's auc: 0.75339\n",
      "[7]\tvalid_0's auc: 0.752112\n",
      "[8]\tvalid_0's auc: 0.754762\n",
      "[9]\tvalid_0's auc: 0.760479\n",
      "[10]\tvalid_0's auc: 0.761854\n",
      "[11]\tvalid_0's auc: 0.761488\n",
      "[12]\tvalid_0's auc: 0.764529\n",
      "[13]\tvalid_0's auc: 0.762924\n",
      "[14]\tvalid_0's auc: 0.762566\n",
      "[15]\tvalid_0's auc: 0.763454\n",
      "[16]\tvalid_0's auc: 0.762689\n",
      "[17]\tvalid_0's auc: 0.761559\n",
      "[18]\tvalid_0's auc: 0.762348\n",
      "[19]\tvalid_0's auc: 0.762751\n",
      "[20]\tvalid_0's auc: 0.762766\n",
      "Did not meet early stopping. Best iteration is:\n",
      "[12]\tvalid_0's auc: 0.764529\n"
     ]
    },
    {
     "name": "stderr",
     "output_type": "stream",
     "text": [
      "/anaconda3/lib/python3.6/site-packages/sklearn/preprocessing/label.py:151: DeprecationWarning: The truth value of an empty array is ambiguous. Returning False, but in future this will result in an error. Use `array.size > 0` to check that an array is not empty.\n",
      "  if diff:\n",
      "/anaconda3/lib/python3.6/site-packages/sklearn/preprocessing/label.py:151: DeprecationWarning: The truth value of an empty array is ambiguous. Returning False, but in future this will result in an error. Use `array.size > 0` to check that an array is not empty.\n",
      "  if diff:\n"
     ]
    },
    {
     "name": "stdout",
     "output_type": "stream",
     "text": [
      "[1]\tvalid_0's auc: 0.70208\n",
      "Training until validation scores don't improve for 10 rounds.\n",
      "[2]\tvalid_0's auc: 0.698604\n",
      "[3]\tvalid_0's auc: 0.710668\n",
      "[4]\tvalid_0's auc: 0.716481\n",
      "[5]\tvalid_0's auc: 0.718214\n",
      "[6]\tvalid_0's auc: 0.724855\n",
      "[7]\tvalid_0's auc: 0.72641\n",
      "[8]\tvalid_0's auc: 0.729361\n",
      "[9]\tvalid_0's auc: 0.730296\n",
      "[10]\tvalid_0's auc: 0.735083\n",
      "[11]\tvalid_0's auc: 0.736058\n",
      "[12]\tvalid_0's auc: 0.740399\n",
      "[13]\tvalid_0's auc: 0.739012\n",
      "[14]\tvalid_0's auc: 0.740238\n",
      "[15]\tvalid_0's auc: 0.741354\n",
      "[16]\tvalid_0's auc: 0.740324\n",
      "[17]\tvalid_0's auc: 0.7407\n",
      "[18]\tvalid_0's auc: 0.74115\n",
      "[19]\tvalid_0's auc: 0.741394\n",
      "[20]\tvalid_0's auc: 0.742127\n",
      "Did not meet early stopping. Best iteration is:\n",
      "[20]\tvalid_0's auc: 0.742127\n"
     ]
    },
    {
     "name": "stderr",
     "output_type": "stream",
     "text": [
      "/anaconda3/lib/python3.6/site-packages/sklearn/preprocessing/label.py:151: DeprecationWarning: The truth value of an empty array is ambiguous. Returning False, but in future this will result in an error. Use `array.size > 0` to check that an array is not empty.\n",
      "  if diff:\n",
      "/anaconda3/lib/python3.6/site-packages/sklearn/preprocessing/label.py:151: DeprecationWarning: The truth value of an empty array is ambiguous. Returning False, but in future this will result in an error. Use `array.size > 0` to check that an array is not empty.\n",
      "  if diff:\n"
     ]
    },
    {
     "name": "stdout",
     "output_type": "stream",
     "text": [
      "[1]\tvalid_0's auc: 0.699107\n",
      "Training until validation scores don't improve for 10 rounds.\n",
      "[2]\tvalid_0's auc: 0.718395\n",
      "[3]\tvalid_0's auc: 0.732634\n",
      "[4]\tvalid_0's auc: 0.729101\n",
      "[5]\tvalid_0's auc: 0.729234\n",
      "[6]\tvalid_0's auc: 0.737309\n",
      "[7]\tvalid_0's auc: 0.737743\n",
      "[8]\tvalid_0's auc: 0.738816\n",
      "[9]\tvalid_0's auc: 0.739935\n",
      "[10]\tvalid_0's auc: 0.738925\n",
      "[11]\tvalid_0's auc: 0.740361\n",
      "[12]\tvalid_0's auc: 0.740974\n",
      "[13]\tvalid_0's auc: 0.742627\n",
      "[14]\tvalid_0's auc: 0.743415\n",
      "[15]\tvalid_0's auc: 0.743885\n",
      "[16]\tvalid_0's auc: 0.743295\n",
      "[17]\tvalid_0's auc: 0.74527\n",
      "[18]\tvalid_0's auc: 0.74649\n",
      "[19]\tvalid_0's auc: 0.747418\n",
      "[20]\tvalid_0's auc: 0.747395\n",
      "Did not meet early stopping. Best iteration is:\n",
      "[19]\tvalid_0's auc: 0.747418\n"
     ]
    },
    {
     "name": "stderr",
     "output_type": "stream",
     "text": [
      "/anaconda3/lib/python3.6/site-packages/sklearn/preprocessing/label.py:151: DeprecationWarning: The truth value of an empty array is ambiguous. Returning False, but in future this will result in an error. Use `array.size > 0` to check that an array is not empty.\n",
      "  if diff:\n",
      "/anaconda3/lib/python3.6/site-packages/sklearn/preprocessing/label.py:151: DeprecationWarning: The truth value of an empty array is ambiguous. Returning False, but in future this will result in an error. Use `array.size > 0` to check that an array is not empty.\n",
      "  if diff:\n"
     ]
    },
    {
     "name": "stdout",
     "output_type": "stream",
     "text": [
      "[1]\tvalid_0's auc: 0.698298\n",
      "Training until validation scores don't improve for 10 rounds.\n",
      "[2]\tvalid_0's auc: 0.719751\n",
      "[3]\tvalid_0's auc: 0.723617\n",
      "[4]\tvalid_0's auc: 0.729101\n",
      "[5]\tvalid_0's auc: 0.726446\n",
      "[6]\tvalid_0's auc: 0.738713\n",
      "[7]\tvalid_0's auc: 0.743118\n",
      "[8]\tvalid_0's auc: 0.747032\n",
      "[9]\tvalid_0's auc: 0.752235\n",
      "[10]\tvalid_0's auc: 0.755665\n",
      "[11]\tvalid_0's auc: 0.755198\n",
      "[12]\tvalid_0's auc: 0.760161\n",
      "[13]\tvalid_0's auc: 0.759543\n",
      "[14]\tvalid_0's auc: 0.75936\n",
      "[15]\tvalid_0's auc: 0.759938\n",
      "[16]\tvalid_0's auc: 0.76006\n",
      "[17]\tvalid_0's auc: 0.759625\n",
      "[18]\tvalid_0's auc: 0.760778\n",
      "[19]\tvalid_0's auc: 0.761452\n",
      "[20]\tvalid_0's auc: 0.761329\n",
      "Did not meet early stopping. Best iteration is:\n",
      "[19]\tvalid_0's auc: 0.761452\n"
     ]
    },
    {
     "name": "stderr",
     "output_type": "stream",
     "text": [
      "/anaconda3/lib/python3.6/site-packages/sklearn/preprocessing/label.py:151: DeprecationWarning: The truth value of an empty array is ambiguous. Returning False, but in future this will result in an error. Use `array.size > 0` to check that an array is not empty.\n",
      "  if diff:\n",
      "/anaconda3/lib/python3.6/site-packages/sklearn/preprocessing/label.py:151: DeprecationWarning: The truth value of an empty array is ambiguous. Returning False, but in future this will result in an error. Use `array.size > 0` to check that an array is not empty.\n",
      "  if diff:\n"
     ]
    },
    {
     "name": "stdout",
     "output_type": "stream",
     "text": [
      "[1]\tvalid_0's auc: 0.706623\n",
      "Training until validation scores don't improve for 10 rounds.\n",
      "[2]\tvalid_0's auc: 0.713606\n",
      "[3]\tvalid_0's auc: 0.723726\n",
      "[4]\tvalid_0's auc: 0.723425\n",
      "[5]\tvalid_0's auc: 0.721516\n",
      "[6]\tvalid_0's auc: 0.726942\n",
      "[7]\tvalid_0's auc: 0.733618\n",
      "[8]\tvalid_0's auc: 0.738281\n",
      "[9]\tvalid_0's auc: 0.740766\n",
      "[10]\tvalid_0's auc: 0.74128\n",
      "[11]\tvalid_0's auc: 0.740759\n",
      "[12]\tvalid_0's auc: 0.745819\n",
      "[13]\tvalid_0's auc: 0.74621\n",
      "[14]\tvalid_0's auc: 0.746906\n",
      "[15]\tvalid_0's auc: 0.74744\n",
      "[16]\tvalid_0's auc: 0.747971\n",
      "[17]\tvalid_0's auc: 0.74826\n",
      "[18]\tvalid_0's auc: 0.749034\n",
      "[19]\tvalid_0's auc: 0.749638\n",
      "[20]\tvalid_0's auc: 0.748721\n",
      "Did not meet early stopping. Best iteration is:\n",
      "[19]\tvalid_0's auc: 0.749638\n"
     ]
    },
    {
     "name": "stderr",
     "output_type": "stream",
     "text": [
      "/anaconda3/lib/python3.6/site-packages/sklearn/preprocessing/label.py:151: DeprecationWarning: The truth value of an empty array is ambiguous. Returning False, but in future this will result in an error. Use `array.size > 0` to check that an array is not empty.\n",
      "  if diff:\n",
      "/anaconda3/lib/python3.6/site-packages/sklearn/preprocessing/label.py:151: DeprecationWarning: The truth value of an empty array is ambiguous. Returning False, but in future this will result in an error. Use `array.size > 0` to check that an array is not empty.\n",
      "  if diff:\n"
     ]
    },
    {
     "name": "stdout",
     "output_type": "stream",
     "text": [
      "[1]\tvalid_0's auc: 0.687783\n",
      "Training until validation scores don't improve for 10 rounds.\n",
      "[2]\tvalid_0's auc: 0.680069\n",
      "[3]\tvalid_0's auc: 0.689317\n",
      "[4]\tvalid_0's auc: 0.681709\n",
      "[5]\tvalid_0's auc: 0.676654\n",
      "[6]\tvalid_0's auc: 0.687072\n",
      "[7]\tvalid_0's auc: 0.703237\n",
      "[8]\tvalid_0's auc: 0.706807\n",
      "[9]\tvalid_0's auc: 0.725815\n",
      "[10]\tvalid_0's auc: 0.726135\n",
      "[11]\tvalid_0's auc: 0.727577\n",
      "[12]\tvalid_0's auc: 0.731317\n",
      "[13]\tvalid_0's auc: 0.727753\n",
      "[14]\tvalid_0's auc: 0.728098\n",
      "[15]\tvalid_0's auc: 0.725349\n",
      "[16]\tvalid_0's auc: 0.728259\n",
      "[17]\tvalid_0's auc: 0.727439\n",
      "[18]\tvalid_0's auc: 0.724588\n",
      "[19]\tvalid_0's auc: 0.724419\n",
      "[20]\tvalid_0's auc: 0.72447\n",
      "Did not meet early stopping. Best iteration is:\n",
      "[12]\tvalid_0's auc: 0.731317\n"
     ]
    },
    {
     "data": {
      "text/plain": [
       "GridSearchCV(cv=None, error_score='raise',\n",
       "       estimator=LGBMClassifier(boosting_type='gbdt', class_weight=None, colsample_bytree=1.0,\n",
       "        learning_rate=0.1, max_depth=-1, min_child_samples=20,\n",
       "        min_child_weight=0.001, min_split_gain=0.0, n_estimators=100,\n",
       "        n_jobs=-1, num_leaves=31, objective=None, random_state=None,\n",
       "        reg_alpha=0.0, reg_lambda=0.0, silent=True, subsample=1.0,\n",
       "        subsample_for_bin=200000, subsample_freq=0),\n",
       "       fit_params=None, iid=True, n_jobs=1,\n",
       "       param_grid={'learning_rate': [0.25, 0.2, 0.15, 0.1, 0.05], 'feature_fraction': [0.55], 'min_data_in_leaf': [5000], 'max_depth': [18], 'num_leaves': [60], 'n_estimators': [20], 'scale_pos_weight': [3, 4, 5]},\n",
       "       pre_dispatch='2*n_jobs', refit=True, return_train_score='warn',\n",
       "       scoring=None, verbose=0)"
      ]
     },
     "execution_count": 280,
     "metadata": {},
     "output_type": "execute_result"
    }
   ],
   "source": [
    "model.fit(train_data.data, train_data.label, eval_set=[(cv_data.data, cv_data.label)], early_stopping_rounds=10, eval_metric='auc')"
   ]
  },
  {
   "cell_type": "code",
   "execution_count": 283,
   "metadata": {},
   "outputs": [
    {
     "name": "stdout",
     "output_type": "stream",
     "text": [
      "LGBMClassifier(boosting_type='gbdt', class_weight=None, colsample_bytree=1.0,\n",
      "        feature_fraction=0.55, learning_rate=0.25, max_depth=18,\n",
      "        min_child_samples=20, min_child_weight=0.001,\n",
      "        min_data_in_leaf=5000, min_split_gain=0.0, n_estimators=20,\n",
      "        n_jobs=-1, num_leaves=60, objective=None, random_state=None,\n",
      "        reg_alpha=0.0, reg_lambda=0.0, scale_pos_weight=3, silent=True,\n",
      "        subsample=1.0, subsample_for_bin=200000, subsample_freq=0)\n",
      "{'feature_fraction': 0.55, 'learning_rate': 0.25, 'max_depth': 18, 'min_data_in_leaf': 5000, 'n_estimators': 20, 'num_leaves': 60, 'scale_pos_weight': 3}\n"
     ]
    }
   ],
   "source": [
    "print(model.best_estimator_)\n",
    "print(model.best_params_)\n",
    "# print(para)"
   ]
  },
  {
   "cell_type": "code",
   "execution_count": 42,
   "metadata": {},
   "outputs": [],
   "source": [
    "param_grid = {\n",
    "    'learning_rate': [0.25, 0.2],\n",
    "    'feature_fraction': [0.55],\n",
    "    'min_data_in_leaf': [5000], \n",
    "    'max_depth': [18],\n",
    "    'num_leaves': [60],\n",
    "    'n_estimators': [20, 25, 30],\n",
    "    'scale_pos_weight': [3]\n",
    "}\n",
    "\n",
    "estimator = lgb.LGBMClassifier(num_leaves=31)\n",
    "\n",
    "model = GridSearchCV(estimator, param_grid)"
   ]
  },
  {
   "cell_type": "code",
   "execution_count": 43,
   "metadata": {},
   "outputs": [
    {
     "name": "stdout",
     "output_type": "stream",
     "text": [
      "[1]\tvalid_0's auc: 0.664858\n",
      "Training until validation scores don't improve for 10 rounds.\n",
      "[2]\tvalid_0's auc: 0.660108\n",
      "[3]\tvalid_0's auc: 0.679713\n",
      "[4]\tvalid_0's auc: 0.677347\n",
      "[5]\tvalid_0's auc: 0.675087\n",
      "[6]\tvalid_0's auc: 0.71594\n",
      "[7]\tvalid_0's auc: 0.7162\n",
      "[8]\tvalid_0's auc: 0.71343\n",
      "[9]\tvalid_0's auc: 0.722356\n",
      "[10]\tvalid_0's auc: 0.717881\n",
      "[11]\tvalid_0's auc: 0.720788\n",
      "[12]\tvalid_0's auc: 0.719374\n",
      "[13]\tvalid_0's auc: 0.71998\n",
      "[14]\tvalid_0's auc: 0.718797\n",
      "[15]\tvalid_0's auc: 0.720875\n",
      "[16]\tvalid_0's auc: 0.719009\n",
      "[17]\tvalid_0's auc: 0.718559\n",
      "[18]\tvalid_0's auc: 0.723294\n",
      "[19]\tvalid_0's auc: 0.723172\n",
      "[20]\tvalid_0's auc: 0.722302\n",
      "Did not meet early stopping. Best iteration is:\n",
      "[18]\tvalid_0's auc: 0.723294\n"
     ]
    },
    {
     "name": "stderr",
     "output_type": "stream",
     "text": [
      "/anaconda3/lib/python3.6/site-packages/sklearn/preprocessing/label.py:151: DeprecationWarning: The truth value of an empty array is ambiguous. Returning False, but in future this will result in an error. Use `array.size > 0` to check that an array is not empty.\n",
      "  if diff:\n",
      "/anaconda3/lib/python3.6/site-packages/sklearn/preprocessing/label.py:151: DeprecationWarning: The truth value of an empty array is ambiguous. Returning False, but in future this will result in an error. Use `array.size > 0` to check that an array is not empty.\n",
      "  if diff:\n"
     ]
    },
    {
     "name": "stdout",
     "output_type": "stream",
     "text": [
      "[1]\tvalid_0's auc: 0.707263\n",
      "Training until validation scores don't improve for 10 rounds.\n",
      "[2]\tvalid_0's auc: 0.692223\n",
      "[3]\tvalid_0's auc: 0.70624\n",
      "[4]\tvalid_0's auc: 0.697566\n",
      "[5]\tvalid_0's auc: 0.69773\n",
      "[6]\tvalid_0's auc: 0.703467\n",
      "[7]\tvalid_0's auc: 0.711504\n",
      "[8]\tvalid_0's auc: 0.70998\n",
      "[9]\tvalid_0's auc: 0.722309\n",
      "[10]\tvalid_0's auc: 0.718293\n",
      "[11]\tvalid_0's auc: 0.721258\n",
      "[12]\tvalid_0's auc: 0.730255\n",
      "[13]\tvalid_0's auc: 0.727446\n",
      "[14]\tvalid_0's auc: 0.723718\n",
      "[15]\tvalid_0's auc: 0.723679\n",
      "[16]\tvalid_0's auc: 0.723629\n",
      "[17]\tvalid_0's auc: 0.721131\n",
      "[18]\tvalid_0's auc: 0.721213\n",
      "[19]\tvalid_0's auc: 0.718721\n",
      "[20]\tvalid_0's auc: 0.71848\n",
      "Did not meet early stopping. Best iteration is:\n",
      "[12]\tvalid_0's auc: 0.730255\n"
     ]
    },
    {
     "name": "stderr",
     "output_type": "stream",
     "text": [
      "/anaconda3/lib/python3.6/site-packages/sklearn/preprocessing/label.py:151: DeprecationWarning: The truth value of an empty array is ambiguous. Returning False, but in future this will result in an error. Use `array.size > 0` to check that an array is not empty.\n",
      "  if diff:\n",
      "/anaconda3/lib/python3.6/site-packages/sklearn/preprocessing/label.py:151: DeprecationWarning: The truth value of an empty array is ambiguous. Returning False, but in future this will result in an error. Use `array.size > 0` to check that an array is not empty.\n",
      "  if diff:\n"
     ]
    },
    {
     "name": "stdout",
     "output_type": "stream",
     "text": [
      "[1]\tvalid_0's auc: 0.714119\n",
      "Training until validation scores don't improve for 10 rounds.\n",
      "[2]\tvalid_0's auc: 0.707026\n",
      "[3]\tvalid_0's auc: 0.710141\n",
      "[4]\tvalid_0's auc: 0.711485\n",
      "[5]\tvalid_0's auc: 0.709457\n",
      "[6]\tvalid_0's auc: 0.70761\n",
      "[7]\tvalid_0's auc: 0.717916\n",
      "[8]\tvalid_0's auc: 0.714338\n",
      "[9]\tvalid_0's auc: 0.730682\n",
      "[10]\tvalid_0's auc: 0.729105\n",
      "[11]\tvalid_0's auc: 0.731322\n",
      "[12]\tvalid_0's auc: 0.735009\n",
      "[13]\tvalid_0's auc: 0.733345\n",
      "[14]\tvalid_0's auc: 0.730931\n",
      "[15]\tvalid_0's auc: 0.729733\n",
      "[16]\tvalid_0's auc: 0.725484\n",
      "[17]\tvalid_0's auc: 0.726253\n",
      "[18]\tvalid_0's auc: 0.727208\n",
      "[19]\tvalid_0's auc: 0.727097\n",
      "[20]\tvalid_0's auc: 0.726007\n",
      "Did not meet early stopping. Best iteration is:\n",
      "[12]\tvalid_0's auc: 0.735009\n"
     ]
    },
    {
     "name": "stderr",
     "output_type": "stream",
     "text": [
      "/anaconda3/lib/python3.6/site-packages/sklearn/preprocessing/label.py:151: DeprecationWarning: The truth value of an empty array is ambiguous. Returning False, but in future this will result in an error. Use `array.size > 0` to check that an array is not empty.\n",
      "  if diff:\n",
      "/anaconda3/lib/python3.6/site-packages/sklearn/preprocessing/label.py:151: DeprecationWarning: The truth value of an empty array is ambiguous. Returning False, but in future this will result in an error. Use `array.size > 0` to check that an array is not empty.\n",
      "  if diff:\n"
     ]
    },
    {
     "name": "stdout",
     "output_type": "stream",
     "text": [
      "[1]\tvalid_0's auc: 0.664858\n",
      "Training until validation scores don't improve for 10 rounds.\n",
      "[2]\tvalid_0's auc: 0.660108\n",
      "[3]\tvalid_0's auc: 0.679713\n",
      "[4]\tvalid_0's auc: 0.677347\n",
      "[5]\tvalid_0's auc: 0.675087\n",
      "[6]\tvalid_0's auc: 0.71594\n",
      "[7]\tvalid_0's auc: 0.7162\n",
      "[8]\tvalid_0's auc: 0.71343\n",
      "[9]\tvalid_0's auc: 0.722356\n",
      "[10]\tvalid_0's auc: 0.717881\n",
      "[11]\tvalid_0's auc: 0.720788\n",
      "[12]\tvalid_0's auc: 0.719374\n",
      "[13]\tvalid_0's auc: 0.71998\n",
      "[14]\tvalid_0's auc: 0.718797\n",
      "[15]\tvalid_0's auc: 0.720875\n",
      "[16]\tvalid_0's auc: 0.719009\n",
      "[17]\tvalid_0's auc: 0.718559\n",
      "[18]\tvalid_0's auc: 0.723294\n",
      "[19]\tvalid_0's auc: 0.723172\n",
      "[20]\tvalid_0's auc: 0.722302\n",
      "[21]\tvalid_0's auc: 0.726788\n",
      "[22]\tvalid_0's auc: 0.726394\n",
      "[23]\tvalid_0's auc: 0.7294\n",
      "[24]\tvalid_0's auc: 0.728747\n",
      "[25]\tvalid_0's auc: 0.727963\n",
      "Did not meet early stopping. Best iteration is:\n",
      "[23]\tvalid_0's auc: 0.7294\n"
     ]
    },
    {
     "name": "stderr",
     "output_type": "stream",
     "text": [
      "/anaconda3/lib/python3.6/site-packages/sklearn/preprocessing/label.py:151: DeprecationWarning: The truth value of an empty array is ambiguous. Returning False, but in future this will result in an error. Use `array.size > 0` to check that an array is not empty.\n",
      "  if diff:\n",
      "/anaconda3/lib/python3.6/site-packages/sklearn/preprocessing/label.py:151: DeprecationWarning: The truth value of an empty array is ambiguous. Returning False, but in future this will result in an error. Use `array.size > 0` to check that an array is not empty.\n",
      "  if diff:\n"
     ]
    },
    {
     "name": "stdout",
     "output_type": "stream",
     "text": [
      "[1]\tvalid_0's auc: 0.707263\n",
      "Training until validation scores don't improve for 10 rounds.\n",
      "[2]\tvalid_0's auc: 0.692223\n",
      "[3]\tvalid_0's auc: 0.70624\n",
      "[4]\tvalid_0's auc: 0.697566\n",
      "[5]\tvalid_0's auc: 0.69773\n",
      "[6]\tvalid_0's auc: 0.703467\n",
      "[7]\tvalid_0's auc: 0.711504\n",
      "[8]\tvalid_0's auc: 0.70998\n",
      "[9]\tvalid_0's auc: 0.722309\n",
      "[10]\tvalid_0's auc: 0.718293\n",
      "[11]\tvalid_0's auc: 0.721258\n",
      "[12]\tvalid_0's auc: 0.730255\n",
      "[13]\tvalid_0's auc: 0.727446\n",
      "[14]\tvalid_0's auc: 0.723718\n",
      "[15]\tvalid_0's auc: 0.723679\n",
      "[16]\tvalid_0's auc: 0.723629\n",
      "[17]\tvalid_0's auc: 0.721131\n",
      "[18]\tvalid_0's auc: 0.721213\n",
      "[19]\tvalid_0's auc: 0.718721\n",
      "[20]\tvalid_0's auc: 0.71848\n",
      "[21]\tvalid_0's auc: 0.727652\n",
      "[22]\tvalid_0's auc: 0.724165\n",
      "Early stopping, best iteration is:\n",
      "[12]\tvalid_0's auc: 0.730255\n"
     ]
    },
    {
     "name": "stderr",
     "output_type": "stream",
     "text": [
      "/anaconda3/lib/python3.6/site-packages/sklearn/preprocessing/label.py:151: DeprecationWarning: The truth value of an empty array is ambiguous. Returning False, but in future this will result in an error. Use `array.size > 0` to check that an array is not empty.\n",
      "  if diff:\n",
      "/anaconda3/lib/python3.6/site-packages/sklearn/preprocessing/label.py:151: DeprecationWarning: The truth value of an empty array is ambiguous. Returning False, but in future this will result in an error. Use `array.size > 0` to check that an array is not empty.\n",
      "  if diff:\n"
     ]
    },
    {
     "name": "stdout",
     "output_type": "stream",
     "text": [
      "[1]\tvalid_0's auc: 0.714119\n",
      "Training until validation scores don't improve for 10 rounds.\n",
      "[2]\tvalid_0's auc: 0.707026\n",
      "[3]\tvalid_0's auc: 0.710141\n",
      "[4]\tvalid_0's auc: 0.711485\n",
      "[5]\tvalid_0's auc: 0.709457\n",
      "[6]\tvalid_0's auc: 0.70761\n",
      "[7]\tvalid_0's auc: 0.717916\n",
      "[8]\tvalid_0's auc: 0.714338\n",
      "[9]\tvalid_0's auc: 0.730682\n",
      "[10]\tvalid_0's auc: 0.729105\n",
      "[11]\tvalid_0's auc: 0.731322\n",
      "[12]\tvalid_0's auc: 0.735009\n",
      "[13]\tvalid_0's auc: 0.733345\n",
      "[14]\tvalid_0's auc: 0.730931\n",
      "[15]\tvalid_0's auc: 0.729733\n",
      "[16]\tvalid_0's auc: 0.725484\n",
      "[17]\tvalid_0's auc: 0.726253\n",
      "[18]\tvalid_0's auc: 0.727208\n",
      "[19]\tvalid_0's auc: 0.727097\n",
      "[20]\tvalid_0's auc: 0.726007\n",
      "[21]\tvalid_0's auc: 0.727881\n",
      "[22]\tvalid_0's auc: 0.728502\n",
      "Early stopping, best iteration is:\n",
      "[12]\tvalid_0's auc: 0.735009\n"
     ]
    },
    {
     "name": "stderr",
     "output_type": "stream",
     "text": [
      "/anaconda3/lib/python3.6/site-packages/sklearn/preprocessing/label.py:151: DeprecationWarning: The truth value of an empty array is ambiguous. Returning False, but in future this will result in an error. Use `array.size > 0` to check that an array is not empty.\n",
      "  if diff:\n",
      "/anaconda3/lib/python3.6/site-packages/sklearn/preprocessing/label.py:151: DeprecationWarning: The truth value of an empty array is ambiguous. Returning False, but in future this will result in an error. Use `array.size > 0` to check that an array is not empty.\n",
      "  if diff:\n"
     ]
    },
    {
     "name": "stdout",
     "output_type": "stream",
     "text": [
      "[1]\tvalid_0's auc: 0.664858\n",
      "Training until validation scores don't improve for 10 rounds.\n",
      "[2]\tvalid_0's auc: 0.660108\n",
      "[3]\tvalid_0's auc: 0.679713\n",
      "[4]\tvalid_0's auc: 0.677347\n",
      "[5]\tvalid_0's auc: 0.675087\n",
      "[6]\tvalid_0's auc: 0.71594\n",
      "[7]\tvalid_0's auc: 0.7162\n",
      "[8]\tvalid_0's auc: 0.71343\n",
      "[9]\tvalid_0's auc: 0.722356\n",
      "[10]\tvalid_0's auc: 0.717881\n",
      "[11]\tvalid_0's auc: 0.720788\n",
      "[12]\tvalid_0's auc: 0.719374\n",
      "[13]\tvalid_0's auc: 0.71998\n",
      "[14]\tvalid_0's auc: 0.718797\n",
      "[15]\tvalid_0's auc: 0.720875\n",
      "[16]\tvalid_0's auc: 0.719009\n",
      "[17]\tvalid_0's auc: 0.718559\n",
      "[18]\tvalid_0's auc: 0.723294\n",
      "[19]\tvalid_0's auc: 0.723172\n",
      "[20]\tvalid_0's auc: 0.722302\n",
      "[21]\tvalid_0's auc: 0.726788\n",
      "[22]\tvalid_0's auc: 0.726394\n",
      "[23]\tvalid_0's auc: 0.7294\n",
      "[24]\tvalid_0's auc: 0.728747\n",
      "[25]\tvalid_0's auc: 0.727963\n",
      "[26]\tvalid_0's auc: 0.727551\n",
      "[27]\tvalid_0's auc: 0.729092\n",
      "[28]\tvalid_0's auc: 0.729057\n",
      "[29]\tvalid_0's auc: 0.729004\n"
     ]
    },
    {
     "name": "stderr",
     "output_type": "stream",
     "text": [
      "/anaconda3/lib/python3.6/site-packages/sklearn/preprocessing/label.py:151: DeprecationWarning: The truth value of an empty array is ambiguous. Returning False, but in future this will result in an error. Use `array.size > 0` to check that an array is not empty.\n",
      "  if diff:\n",
      "/anaconda3/lib/python3.6/site-packages/sklearn/preprocessing/label.py:151: DeprecationWarning: The truth value of an empty array is ambiguous. Returning False, but in future this will result in an error. Use `array.size > 0` to check that an array is not empty.\n",
      "  if diff:\n"
     ]
    },
    {
     "name": "stdout",
     "output_type": "stream",
     "text": [
      "[30]\tvalid_0's auc: 0.728527\n",
      "Did not meet early stopping. Best iteration is:\n",
      "[23]\tvalid_0's auc: 0.7294\n",
      "[1]\tvalid_0's auc: 0.707263\n",
      "Training until validation scores don't improve for 10 rounds.\n",
      "[2]\tvalid_0's auc: 0.692223\n",
      "[3]\tvalid_0's auc: 0.70624\n",
      "[4]\tvalid_0's auc: 0.697566\n",
      "[5]\tvalid_0's auc: 0.69773\n",
      "[6]\tvalid_0's auc: 0.703467\n",
      "[7]\tvalid_0's auc: 0.711504\n",
      "[8]\tvalid_0's auc: 0.70998\n",
      "[9]\tvalid_0's auc: 0.722309\n",
      "[10]\tvalid_0's auc: 0.718293\n",
      "[11]\tvalid_0's auc: 0.721258\n",
      "[12]\tvalid_0's auc: 0.730255\n",
      "[13]\tvalid_0's auc: 0.727446\n",
      "[14]\tvalid_0's auc: 0.723718\n",
      "[15]\tvalid_0's auc: 0.723679\n",
      "[16]\tvalid_0's auc: 0.723629\n",
      "[17]\tvalid_0's auc: 0.721131\n",
      "[18]\tvalid_0's auc: 0.721213\n",
      "[19]\tvalid_0's auc: 0.718721\n",
      "[20]\tvalid_0's auc: 0.71848\n",
      "[21]\tvalid_0's auc: 0.727652\n",
      "[22]\tvalid_0's auc: 0.724165\n",
      "Early stopping, best iteration is:\n",
      "[12]\tvalid_0's auc: 0.730255\n"
     ]
    },
    {
     "name": "stderr",
     "output_type": "stream",
     "text": [
      "/anaconda3/lib/python3.6/site-packages/sklearn/preprocessing/label.py:151: DeprecationWarning: The truth value of an empty array is ambiguous. Returning False, but in future this will result in an error. Use `array.size > 0` to check that an array is not empty.\n",
      "  if diff:\n",
      "/anaconda3/lib/python3.6/site-packages/sklearn/preprocessing/label.py:151: DeprecationWarning: The truth value of an empty array is ambiguous. Returning False, but in future this will result in an error. Use `array.size > 0` to check that an array is not empty.\n",
      "  if diff:\n"
     ]
    },
    {
     "name": "stdout",
     "output_type": "stream",
     "text": [
      "[1]\tvalid_0's auc: 0.714119\n",
      "Training until validation scores don't improve for 10 rounds.\n",
      "[2]\tvalid_0's auc: 0.707026\n",
      "[3]\tvalid_0's auc: 0.710141\n",
      "[4]\tvalid_0's auc: 0.711485\n",
      "[5]\tvalid_0's auc: 0.709457\n",
      "[6]\tvalid_0's auc: 0.70761\n",
      "[7]\tvalid_0's auc: 0.717916\n",
      "[8]\tvalid_0's auc: 0.714338\n",
      "[9]\tvalid_0's auc: 0.730682\n",
      "[10]\tvalid_0's auc: 0.729105\n",
      "[11]\tvalid_0's auc: 0.731322\n",
      "[12]\tvalid_0's auc: 0.735009\n",
      "[13]\tvalid_0's auc: 0.733345\n",
      "[14]\tvalid_0's auc: 0.730931\n",
      "[15]\tvalid_0's auc: 0.729733\n",
      "[16]\tvalid_0's auc: 0.725484\n",
      "[17]\tvalid_0's auc: 0.726253\n",
      "[18]\tvalid_0's auc: 0.727208\n",
      "[19]\tvalid_0's auc: 0.727097\n",
      "[20]\tvalid_0's auc: 0.726007\n",
      "[21]\tvalid_0's auc: 0.727881\n",
      "[22]\tvalid_0's auc: 0.728502\n",
      "Early stopping, best iteration is:\n",
      "[12]\tvalid_0's auc: 0.735009\n"
     ]
    },
    {
     "name": "stderr",
     "output_type": "stream",
     "text": [
      "/anaconda3/lib/python3.6/site-packages/sklearn/preprocessing/label.py:151: DeprecationWarning: The truth value of an empty array is ambiguous. Returning False, but in future this will result in an error. Use `array.size > 0` to check that an array is not empty.\n",
      "  if diff:\n",
      "/anaconda3/lib/python3.6/site-packages/sklearn/preprocessing/label.py:151: DeprecationWarning: The truth value of an empty array is ambiguous. Returning False, but in future this will result in an error. Use `array.size > 0` to check that an array is not empty.\n",
      "  if diff:\n"
     ]
    },
    {
     "name": "stdout",
     "output_type": "stream",
     "text": [
      "[1]\tvalid_0's auc: 0.664858\n",
      "Training until validation scores don't improve for 10 rounds.\n",
      "[2]\tvalid_0's auc: 0.688884\n",
      "[3]\tvalid_0's auc: 0.695086\n",
      "[4]\tvalid_0's auc: 0.688009\n",
      "[5]\tvalid_0's auc: 0.692144\n",
      "[6]\tvalid_0's auc: 0.704797\n",
      "[7]\tvalid_0's auc: 0.713213\n",
      "[8]\tvalid_0's auc: 0.710427\n",
      "[9]\tvalid_0's auc: 0.713501\n",
      "[10]\tvalid_0's auc: 0.711622\n",
      "[11]\tvalid_0's auc: 0.715691\n",
      "[12]\tvalid_0's auc: 0.721298\n",
      "[13]\tvalid_0's auc: 0.719471\n",
      "[14]\tvalid_0's auc: 0.716526\n",
      "[15]\tvalid_0's auc: 0.712172\n",
      "[16]\tvalid_0's auc: 0.710072\n",
      "[17]\tvalid_0's auc: 0.708643\n",
      "[18]\tvalid_0's auc: 0.710989\n",
      "[19]\tvalid_0's auc: 0.713205\n",
      "[20]\tvalid_0's auc: 0.715707\n",
      "Did not meet early stopping. Best iteration is:\n",
      "[12]\tvalid_0's auc: 0.721298\n"
     ]
    },
    {
     "name": "stderr",
     "output_type": "stream",
     "text": [
      "/anaconda3/lib/python3.6/site-packages/sklearn/preprocessing/label.py:151: DeprecationWarning: The truth value of an empty array is ambiguous. Returning False, but in future this will result in an error. Use `array.size > 0` to check that an array is not empty.\n",
      "  if diff:\n",
      "/anaconda3/lib/python3.6/site-packages/sklearn/preprocessing/label.py:151: DeprecationWarning: The truth value of an empty array is ambiguous. Returning False, but in future this will result in an error. Use `array.size > 0` to check that an array is not empty.\n",
      "  if diff:\n"
     ]
    },
    {
     "name": "stdout",
     "output_type": "stream",
     "text": [
      "[1]\tvalid_0's auc: 0.707263\n",
      "Training until validation scores don't improve for 10 rounds.\n",
      "[2]\tvalid_0's auc: 0.724869\n",
      "[3]\tvalid_0's auc: 0.723987\n",
      "[4]\tvalid_0's auc: 0.72063\n",
      "[5]\tvalid_0's auc: 0.712544\n",
      "[6]\tvalid_0's auc: 0.723835\n",
      "[7]\tvalid_0's auc: 0.727572\n",
      "[8]\tvalid_0's auc: 0.729069\n",
      "[9]\tvalid_0's auc: 0.740899\n",
      "[10]\tvalid_0's auc: 0.742669\n",
      "[11]\tvalid_0's auc: 0.744725\n",
      "[12]\tvalid_0's auc: 0.752356\n",
      "[13]\tvalid_0's auc: 0.752344\n",
      "[14]\tvalid_0's auc: 0.753969\n",
      "[15]\tvalid_0's auc: 0.751708\n",
      "[16]\tvalid_0's auc: 0.747747\n",
      "[17]\tvalid_0's auc: 0.743547\n",
      "[18]\tvalid_0's auc: 0.745851\n",
      "[19]\tvalid_0's auc: 0.744237\n",
      "[20]\tvalid_0's auc: 0.741473\n",
      "Did not meet early stopping. Best iteration is:\n",
      "[14]\tvalid_0's auc: 0.753969\n"
     ]
    },
    {
     "name": "stderr",
     "output_type": "stream",
     "text": [
      "/anaconda3/lib/python3.6/site-packages/sklearn/preprocessing/label.py:151: DeprecationWarning: The truth value of an empty array is ambiguous. Returning False, but in future this will result in an error. Use `array.size > 0` to check that an array is not empty.\n",
      "  if diff:\n",
      "/anaconda3/lib/python3.6/site-packages/sklearn/preprocessing/label.py:151: DeprecationWarning: The truth value of an empty array is ambiguous. Returning False, but in future this will result in an error. Use `array.size > 0` to check that an array is not empty.\n",
      "  if diff:\n"
     ]
    },
    {
     "name": "stdout",
     "output_type": "stream",
     "text": [
      "[1]\tvalid_0's auc: 0.71472\n",
      "Training until validation scores don't improve for 10 rounds.\n",
      "[2]\tvalid_0's auc: 0.726621\n",
      "[3]\tvalid_0's auc: 0.724302\n",
      "[4]\tvalid_0's auc: 0.719362\n",
      "[5]\tvalid_0's auc: 0.720837\n",
      "[6]\tvalid_0's auc: 0.715693\n",
      "[7]\tvalid_0's auc: 0.721378\n",
      "[8]\tvalid_0's auc: 0.718819\n",
      "[9]\tvalid_0's auc: 0.729248\n",
      "[10]\tvalid_0's auc: 0.726165\n",
      "[11]\tvalid_0's auc: 0.727229\n",
      "[12]\tvalid_0's auc: 0.733261\n",
      "[13]\tvalid_0's auc: 0.731021\n",
      "[14]\tvalid_0's auc: 0.730302\n",
      "[15]\tvalid_0's auc: 0.728527\n",
      "[16]\tvalid_0's auc: 0.72992\n",
      "[17]\tvalid_0's auc: 0.732748\n",
      "[18]\tvalid_0's auc: 0.731973\n",
      "[19]\tvalid_0's auc: 0.730181\n",
      "[20]\tvalid_0's auc: 0.729444\n",
      "Did not meet early stopping. Best iteration is:\n",
      "[12]\tvalid_0's auc: 0.733261\n"
     ]
    },
    {
     "name": "stderr",
     "output_type": "stream",
     "text": [
      "/anaconda3/lib/python3.6/site-packages/sklearn/preprocessing/label.py:151: DeprecationWarning: The truth value of an empty array is ambiguous. Returning False, but in future this will result in an error. Use `array.size > 0` to check that an array is not empty.\n",
      "  if diff:\n",
      "/anaconda3/lib/python3.6/site-packages/sklearn/preprocessing/label.py:151: DeprecationWarning: The truth value of an empty array is ambiguous. Returning False, but in future this will result in an error. Use `array.size > 0` to check that an array is not empty.\n",
      "  if diff:\n"
     ]
    },
    {
     "name": "stdout",
     "output_type": "stream",
     "text": [
      "[1]\tvalid_0's auc: 0.664858\n",
      "Training until validation scores don't improve for 10 rounds.\n",
      "[2]\tvalid_0's auc: 0.688884\n",
      "[3]\tvalid_0's auc: 0.695086\n",
      "[4]\tvalid_0's auc: 0.688009\n",
      "[5]\tvalid_0's auc: 0.692144\n",
      "[6]\tvalid_0's auc: 0.704797\n",
      "[7]\tvalid_0's auc: 0.713213\n",
      "[8]\tvalid_0's auc: 0.710427\n",
      "[9]\tvalid_0's auc: 0.713501\n",
      "[10]\tvalid_0's auc: 0.711622\n",
      "[11]\tvalid_0's auc: 0.715691\n",
      "[12]\tvalid_0's auc: 0.721298\n",
      "[13]\tvalid_0's auc: 0.719471\n",
      "[14]\tvalid_0's auc: 0.716526\n",
      "[15]\tvalid_0's auc: 0.712172\n",
      "[16]\tvalid_0's auc: 0.710072\n",
      "[17]\tvalid_0's auc: 0.708643\n",
      "[18]\tvalid_0's auc: 0.710989\n",
      "[19]\tvalid_0's auc: 0.713205\n",
      "[20]\tvalid_0's auc: 0.715707\n",
      "[21]\tvalid_0's auc: 0.722187\n",
      "[22]\tvalid_0's auc: 0.723633\n",
      "[23]\tvalid_0's auc: 0.725592\n",
      "[24]\tvalid_0's auc: 0.726662\n",
      "[25]\tvalid_0's auc: 0.72834\n",
      "Did not meet early stopping. Best iteration is:\n",
      "[25]\tvalid_0's auc: 0.72834\n"
     ]
    },
    {
     "name": "stderr",
     "output_type": "stream",
     "text": [
      "/anaconda3/lib/python3.6/site-packages/sklearn/preprocessing/label.py:151: DeprecationWarning: The truth value of an empty array is ambiguous. Returning False, but in future this will result in an error. Use `array.size > 0` to check that an array is not empty.\n",
      "  if diff:\n",
      "/anaconda3/lib/python3.6/site-packages/sklearn/preprocessing/label.py:151: DeprecationWarning: The truth value of an empty array is ambiguous. Returning False, but in future this will result in an error. Use `array.size > 0` to check that an array is not empty.\n",
      "  if diff:\n"
     ]
    },
    {
     "name": "stdout",
     "output_type": "stream",
     "text": [
      "[1]\tvalid_0's auc: 0.707263\n",
      "Training until validation scores don't improve for 10 rounds.\n",
      "[2]\tvalid_0's auc: 0.724869\n",
      "[3]\tvalid_0's auc: 0.723987\n",
      "[4]\tvalid_0's auc: 0.72063\n",
      "[5]\tvalid_0's auc: 0.712544\n",
      "[6]\tvalid_0's auc: 0.723835\n",
      "[7]\tvalid_0's auc: 0.727572\n",
      "[8]\tvalid_0's auc: 0.729069\n",
      "[9]\tvalid_0's auc: 0.740899\n",
      "[10]\tvalid_0's auc: 0.742669\n",
      "[11]\tvalid_0's auc: 0.744725\n",
      "[12]\tvalid_0's auc: 0.752356\n",
      "[13]\tvalid_0's auc: 0.752344\n",
      "[14]\tvalid_0's auc: 0.753969\n",
      "[15]\tvalid_0's auc: 0.751708\n",
      "[16]\tvalid_0's auc: 0.747747\n",
      "[17]\tvalid_0's auc: 0.743547\n",
      "[18]\tvalid_0's auc: 0.745851\n",
      "[19]\tvalid_0's auc: 0.744237\n",
      "[20]\tvalid_0's auc: 0.741473\n",
      "[21]\tvalid_0's auc: 0.749696\n",
      "[22]\tvalid_0's auc: 0.749643\n",
      "[23]\tvalid_0's auc: 0.755846\n",
      "[24]\tvalid_0's auc: 0.753536\n",
      "[25]\tvalid_0's auc: 0.753558\n",
      "Did not meet early stopping. Best iteration is:\n",
      "[23]\tvalid_0's auc: 0.755846\n"
     ]
    },
    {
     "name": "stderr",
     "output_type": "stream",
     "text": [
      "/anaconda3/lib/python3.6/site-packages/sklearn/preprocessing/label.py:151: DeprecationWarning: The truth value of an empty array is ambiguous. Returning False, but in future this will result in an error. Use `array.size > 0` to check that an array is not empty.\n",
      "  if diff:\n",
      "/anaconda3/lib/python3.6/site-packages/sklearn/preprocessing/label.py:151: DeprecationWarning: The truth value of an empty array is ambiguous. Returning False, but in future this will result in an error. Use `array.size > 0` to check that an array is not empty.\n",
      "  if diff:\n"
     ]
    },
    {
     "name": "stdout",
     "output_type": "stream",
     "text": [
      "[1]\tvalid_0's auc: 0.71472\n",
      "Training until validation scores don't improve for 10 rounds.\n",
      "[2]\tvalid_0's auc: 0.726621\n",
      "[3]\tvalid_0's auc: 0.724302\n",
      "[4]\tvalid_0's auc: 0.719362\n",
      "[5]\tvalid_0's auc: 0.720837\n",
      "[6]\tvalid_0's auc: 0.715693\n",
      "[7]\tvalid_0's auc: 0.721378\n",
      "[8]\tvalid_0's auc: 0.718819\n",
      "[9]\tvalid_0's auc: 0.729248\n",
      "[10]\tvalid_0's auc: 0.726165\n",
      "[11]\tvalid_0's auc: 0.727229\n",
      "[12]\tvalid_0's auc: 0.733261\n",
      "[13]\tvalid_0's auc: 0.731021\n",
      "[14]\tvalid_0's auc: 0.730302\n",
      "[15]\tvalid_0's auc: 0.728527\n",
      "[16]\tvalid_0's auc: 0.72992\n",
      "[17]\tvalid_0's auc: 0.732748\n",
      "[18]\tvalid_0's auc: 0.731973\n",
      "[19]\tvalid_0's auc: 0.730181\n",
      "[20]\tvalid_0's auc: 0.729444\n",
      "[21]\tvalid_0's auc: 0.73395\n",
      "[22]\tvalid_0's auc: 0.733436\n",
      "[23]\tvalid_0's auc: 0.735637\n",
      "[24]\tvalid_0's auc: 0.734111\n",
      "[25]\tvalid_0's auc: 0.735698\n",
      "Did not meet early stopping. Best iteration is:\n",
      "[25]\tvalid_0's auc: 0.735698\n"
     ]
    },
    {
     "name": "stderr",
     "output_type": "stream",
     "text": [
      "/anaconda3/lib/python3.6/site-packages/sklearn/preprocessing/label.py:151: DeprecationWarning: The truth value of an empty array is ambiguous. Returning False, but in future this will result in an error. Use `array.size > 0` to check that an array is not empty.\n",
      "  if diff:\n",
      "/anaconda3/lib/python3.6/site-packages/sklearn/preprocessing/label.py:151: DeprecationWarning: The truth value of an empty array is ambiguous. Returning False, but in future this will result in an error. Use `array.size > 0` to check that an array is not empty.\n",
      "  if diff:\n"
     ]
    },
    {
     "name": "stdout",
     "output_type": "stream",
     "text": [
      "[1]\tvalid_0's auc: 0.664858\n",
      "Training until validation scores don't improve for 10 rounds.\n",
      "[2]\tvalid_0's auc: 0.688884\n",
      "[3]\tvalid_0's auc: 0.695086\n",
      "[4]\tvalid_0's auc: 0.688009\n",
      "[5]\tvalid_0's auc: 0.692144\n",
      "[6]\tvalid_0's auc: 0.704797\n",
      "[7]\tvalid_0's auc: 0.713213\n",
      "[8]\tvalid_0's auc: 0.710427\n",
      "[9]\tvalid_0's auc: 0.713501\n",
      "[10]\tvalid_0's auc: 0.711622\n",
      "[11]\tvalid_0's auc: 0.715691\n",
      "[12]\tvalid_0's auc: 0.721298\n",
      "[13]\tvalid_0's auc: 0.719471\n",
      "[14]\tvalid_0's auc: 0.716526\n",
      "[15]\tvalid_0's auc: 0.712172\n",
      "[16]\tvalid_0's auc: 0.710072\n",
      "[17]\tvalid_0's auc: 0.708643\n",
      "[18]\tvalid_0's auc: 0.710989\n",
      "[19]\tvalid_0's auc: 0.713205\n",
      "[20]\tvalid_0's auc: 0.715707\n",
      "[21]\tvalid_0's auc: 0.722187\n",
      "[22]\tvalid_0's auc: 0.723633\n",
      "[23]\tvalid_0's auc: 0.725592\n",
      "[24]\tvalid_0's auc: 0.726662\n",
      "[25]\tvalid_0's auc: 0.72834\n",
      "[26]\tvalid_0's auc: 0.726818\n",
      "[27]\tvalid_0's auc: 0.726355\n",
      "[28]\tvalid_0's auc: 0.727573\n",
      "[29]\tvalid_0's auc: 0.729327\n",
      "[30]\tvalid_0's auc: 0.729778\n",
      "Did not meet early stopping. Best iteration is:\n",
      "[30]\tvalid_0's auc: 0.729778\n"
     ]
    },
    {
     "name": "stderr",
     "output_type": "stream",
     "text": [
      "/anaconda3/lib/python3.6/site-packages/sklearn/preprocessing/label.py:151: DeprecationWarning: The truth value of an empty array is ambiguous. Returning False, but in future this will result in an error. Use `array.size > 0` to check that an array is not empty.\n",
      "  if diff:\n",
      "/anaconda3/lib/python3.6/site-packages/sklearn/preprocessing/label.py:151: DeprecationWarning: The truth value of an empty array is ambiguous. Returning False, but in future this will result in an error. Use `array.size > 0` to check that an array is not empty.\n",
      "  if diff:\n"
     ]
    },
    {
     "name": "stdout",
     "output_type": "stream",
     "text": [
      "[1]\tvalid_0's auc: 0.707263\n",
      "Training until validation scores don't improve for 10 rounds.\n",
      "[2]\tvalid_0's auc: 0.724869\n",
      "[3]\tvalid_0's auc: 0.723987\n",
      "[4]\tvalid_0's auc: 0.72063\n",
      "[5]\tvalid_0's auc: 0.712544\n",
      "[6]\tvalid_0's auc: 0.723835\n",
      "[7]\tvalid_0's auc: 0.727572\n",
      "[8]\tvalid_0's auc: 0.729069\n",
      "[9]\tvalid_0's auc: 0.740899\n",
      "[10]\tvalid_0's auc: 0.742669\n",
      "[11]\tvalid_0's auc: 0.744725\n",
      "[12]\tvalid_0's auc: 0.752356\n",
      "[13]\tvalid_0's auc: 0.752344\n",
      "[14]\tvalid_0's auc: 0.753969\n",
      "[15]\tvalid_0's auc: 0.751708\n",
      "[16]\tvalid_0's auc: 0.747747\n",
      "[17]\tvalid_0's auc: 0.743547\n",
      "[18]\tvalid_0's auc: 0.745851\n",
      "[19]\tvalid_0's auc: 0.744237\n",
      "[20]\tvalid_0's auc: 0.741473\n",
      "[21]\tvalid_0's auc: 0.749696\n",
      "[22]\tvalid_0's auc: 0.749643\n",
      "[23]\tvalid_0's auc: 0.755846\n",
      "[24]\tvalid_0's auc: 0.753536\n",
      "[25]\tvalid_0's auc: 0.753558\n",
      "[26]\tvalid_0's auc: 0.753143\n",
      "[27]\tvalid_0's auc: 0.755064\n",
      "[28]\tvalid_0's auc: 0.754915\n",
      "[29]\tvalid_0's auc: 0.752472\n",
      "[30]\tvalid_0's auc: 0.754273\n",
      "Did not meet early stopping. Best iteration is:\n",
      "[23]\tvalid_0's auc: 0.755846\n"
     ]
    },
    {
     "name": "stderr",
     "output_type": "stream",
     "text": [
      "/anaconda3/lib/python3.6/site-packages/sklearn/preprocessing/label.py:151: DeprecationWarning: The truth value of an empty array is ambiguous. Returning False, but in future this will result in an error. Use `array.size > 0` to check that an array is not empty.\n",
      "  if diff:\n",
      "/anaconda3/lib/python3.6/site-packages/sklearn/preprocessing/label.py:151: DeprecationWarning: The truth value of an empty array is ambiguous. Returning False, but in future this will result in an error. Use `array.size > 0` to check that an array is not empty.\n",
      "  if diff:\n"
     ]
    },
    {
     "name": "stdout",
     "output_type": "stream",
     "text": [
      "[1]\tvalid_0's auc: 0.71472\n",
      "Training until validation scores don't improve for 10 rounds.\n",
      "[2]\tvalid_0's auc: 0.726621\n",
      "[3]\tvalid_0's auc: 0.724302\n",
      "[4]\tvalid_0's auc: 0.719362\n",
      "[5]\tvalid_0's auc: 0.720837\n",
      "[6]\tvalid_0's auc: 0.715693\n",
      "[7]\tvalid_0's auc: 0.721378\n",
      "[8]\tvalid_0's auc: 0.718819\n",
      "[9]\tvalid_0's auc: 0.729248\n",
      "[10]\tvalid_0's auc: 0.726165\n",
      "[11]\tvalid_0's auc: 0.727229\n",
      "[12]\tvalid_0's auc: 0.733261\n",
      "[13]\tvalid_0's auc: 0.731021\n",
      "[14]\tvalid_0's auc: 0.730302\n",
      "[15]\tvalid_0's auc: 0.728527\n",
      "[16]\tvalid_0's auc: 0.72992\n",
      "[17]\tvalid_0's auc: 0.732748\n",
      "[18]\tvalid_0's auc: 0.731973\n",
      "[19]\tvalid_0's auc: 0.730181\n",
      "[20]\tvalid_0's auc: 0.729444\n",
      "[21]\tvalid_0's auc: 0.73395\n",
      "[22]\tvalid_0's auc: 0.733436\n",
      "[23]\tvalid_0's auc: 0.735637\n",
      "[24]\tvalid_0's auc: 0.734111\n",
      "[25]\tvalid_0's auc: 0.735698\n",
      "[26]\tvalid_0's auc: 0.734792\n",
      "[27]\tvalid_0's auc: 0.734815\n",
      "[28]\tvalid_0's auc: 0.733947\n",
      "[29]\tvalid_0's auc: 0.733907\n",
      "[30]\tvalid_0's auc: 0.732536\n",
      "Did not meet early stopping. Best iteration is:\n",
      "[25]\tvalid_0's auc: 0.735698\n"
     ]
    },
    {
     "name": "stderr",
     "output_type": "stream",
     "text": [
      "/anaconda3/lib/python3.6/site-packages/sklearn/preprocessing/label.py:151: DeprecationWarning: The truth value of an empty array is ambiguous. Returning False, but in future this will result in an error. Use `array.size > 0` to check that an array is not empty.\n",
      "  if diff:\n",
      "/anaconda3/lib/python3.6/site-packages/sklearn/preprocessing/label.py:151: DeprecationWarning: The truth value of an empty array is ambiguous. Returning False, but in future this will result in an error. Use `array.size > 0` to check that an array is not empty.\n",
      "  if diff:\n"
     ]
    },
    {
     "name": "stdout",
     "output_type": "stream",
     "text": [
      "[1]\tvalid_0's auc: 0.729954\n",
      "Training until validation scores don't improve for 10 rounds.\n",
      "[2]\tvalid_0's auc: 0.70197\n",
      "[3]\tvalid_0's auc: 0.712263\n",
      "[4]\tvalid_0's auc: 0.71441\n",
      "[5]\tvalid_0's auc: 0.716853\n",
      "[6]\tvalid_0's auc: 0.729053\n",
      "[7]\tvalid_0's auc: 0.733598\n",
      "[8]\tvalid_0's auc: 0.730985\n",
      "[9]\tvalid_0's auc: 0.736758\n",
      "[10]\tvalid_0's auc: 0.734898\n",
      "[11]\tvalid_0's auc: 0.736022\n",
      "[12]\tvalid_0's auc: 0.737578\n",
      "[13]\tvalid_0's auc: 0.735725\n",
      "[14]\tvalid_0's auc: 0.739069\n",
      "[15]\tvalid_0's auc: 0.736146\n",
      "[16]\tvalid_0's auc: 0.739783\n",
      "[17]\tvalid_0's auc: 0.740861\n",
      "[18]\tvalid_0's auc: 0.742093\n",
      "[19]\tvalid_0's auc: 0.741304\n",
      "[20]\tvalid_0's auc: 0.740668\n",
      "[21]\tvalid_0's auc: 0.743597\n",
      "[22]\tvalid_0's auc: 0.742579\n",
      "[23]\tvalid_0's auc: 0.74405\n",
      "[24]\tvalid_0's auc: 0.745415\n",
      "[25]\tvalid_0's auc: 0.746094\n",
      "Did not meet early stopping. Best iteration is:\n",
      "[25]\tvalid_0's auc: 0.746094\n"
     ]
    },
    {
     "data": {
      "text/plain": [
       "GridSearchCV(cv=None, error_score='raise',\n",
       "       estimator=LGBMClassifier(boosting_type='gbdt', class_weight=None, colsample_bytree=1.0,\n",
       "        learning_rate=0.1, max_depth=-1, min_child_samples=20,\n",
       "        min_child_weight=0.001, min_split_gain=0.0, n_estimators=100,\n",
       "        n_jobs=-1, num_leaves=31, objective=None, random_state=None,\n",
       "        reg_alpha=0.0, reg_lambda=0.0, silent=True, subsample=1.0,\n",
       "        subsample_for_bin=200000, subsample_freq=0),\n",
       "       fit_params=None, iid=True, n_jobs=1,\n",
       "       param_grid={'learning_rate': [0.25, 0.2], 'feature_fraction': [0.55], 'min_data_in_leaf': [5000], 'max_depth': [18], 'num_leaves': [60], 'n_estimators': [20, 25, 30], 'scale_pos_weight': [3]},\n",
       "       pre_dispatch='2*n_jobs', refit=True, return_train_score='warn',\n",
       "       scoring=None, verbose=0)"
      ]
     },
     "execution_count": 43,
     "metadata": {},
     "output_type": "execute_result"
    }
   ],
   "source": [
    "model.fit(train_data.data, train_data.label, eval_set=[(cv_data.data, cv_data.label)], early_stopping_rounds=10, eval_metric='auc')"
   ]
  },
  {
   "cell_type": "code",
   "execution_count": 44,
   "metadata": {},
   "outputs": [
    {
     "name": "stdout",
     "output_type": "stream",
     "text": [
      "LGBMClassifier(boosting_type='gbdt', class_weight=None, colsample_bytree=1.0,\n",
      "        feature_fraction=0.55, learning_rate=0.2, max_depth=18,\n",
      "        min_child_samples=20, min_child_weight=0.001,\n",
      "        min_data_in_leaf=5000, min_split_gain=0.0, n_estimators=25,\n",
      "        n_jobs=-1, num_leaves=60, objective=None, random_state=None,\n",
      "        reg_alpha=0.0, reg_lambda=0.0, scale_pos_weight=3, silent=True,\n",
      "        subsample=1.0, subsample_for_bin=200000, subsample_freq=0)\n",
      "{'feature_fraction': 0.55, 'learning_rate': 0.2, 'max_depth': 18, 'min_data_in_leaf': 5000, 'n_estimators': 25, 'num_leaves': 60, 'scale_pos_weight': 3}\n",
      "0.9993615087784807\n"
     ]
    }
   ],
   "source": [
    "print(model.best_estimator_)\n",
    "print(model.best_params_)\n",
    "print(model.best_score_)"
   ]
  },
  {
   "cell_type": "code",
   "execution_count": 40,
   "metadata": {},
   "outputs": [
    {
     "data": {
      "text/plain": [
       "0.7554526308690794"
      ]
     },
     "execution_count": 40,
     "metadata": {},
     "output_type": "execute_result"
    }
   ],
   "source": [
    "\n",
    "y_true = test_data.label\n",
    "y_pred = model.predict_proba(test_data.data)\n",
    "\n",
    "fpr, tpr, thresholds = roc_curve(test_data.label, y_pred[:, 1])\n",
    "auc(fpr, tpr)"
   ]
  },
  {
   "cell_type": "markdown",
   "metadata": {},
   "source": [
    "### TO CHECK"
   ]
  },
  {
   "cell_type": "markdown",
   "metadata": {},
   "source": [
    "-- scale_pos_weight\n",
    "https://github.com/Microsoft/LightGBM/blob/master/docs/Parameters.rst\n",
    "\n",
    "--feature_importance\n",
    "--use logistic regression and compare it with \n",
    "\n",
    "--apply grid search:\n"
   ]
  }
 ],
 "metadata": {
  "kernelspec": {
   "display_name": "Python 3",
   "language": "python",
   "name": "python3"
  },
  "language_info": {
   "codemirror_mode": {
    "name": "ipython",
    "version": 3
   },
   "file_extension": ".py",
   "mimetype": "text/x-python",
   "name": "python",
   "nbconvert_exporter": "python",
   "pygments_lexer": "ipython3",
   "version": "3.6.4"
  }
 },
 "nbformat": 4,
 "nbformat_minor": 2
}
