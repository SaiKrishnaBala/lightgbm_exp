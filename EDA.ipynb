{
 "cells": [
  {
   "cell_type": "code",
   "execution_count": 1,
   "metadata": {},
   "outputs": [],
   "source": [
    "import pandas as pd\n",
    "from matplotlib import pyplot as plt"
   ]
  },
  {
   "cell_type": "code",
   "execution_count": 2,
   "metadata": {},
   "outputs": [
    {
     "name": "stdout",
     "output_type": "stream",
     "text": [
      "(1615789, 90)\n",
      "Int64Index([ 0,  1,  2,  3,  4,  5,  6,  7,  8,  9, 10, 11, 12, 13, 14, 15, 16,\n",
      "            17, 18, 19, 20, 21, 22, 23, 24, 25, 26, 27, 28, 29, 30, 31, 32, 33,\n",
      "            34, 35, 36, 37, 38, 39, 40, 41, 42, 43, 44, 45, 46, 47, 48, 49, 50,\n",
      "            51, 52, 53, 54, 55, 56, 57, 58, 59, 60, 61, 62, 63, 64, 65, 66, 67,\n",
      "            68, 69, 70, 71, 72, 73, 74, 75, 76, 77, 78, 79, 80, 81, 82, 83, 84,\n",
      "            85, 86, 87, 88, 89],\n",
      "           dtype='int64')\n"
     ]
    }
   ],
   "source": [
    "df = pd.read_csv('sampleData', delimiter='\\t', header=None)\n",
    "print(df.shape)\n",
    "print(df.columns)"
   ]
  },
  {
   "cell_type": "markdown",
   "metadata": {},
   "source": [
    "### Missing values [-1] and zero columns"
   ]
  },
  {
   "cell_type": "code",
   "execution_count": 3,
   "metadata": {},
   "outputs": [
    {
     "name": "stdout",
     "output_type": "stream",
     "text": [
      "[55, 56, 74]\n",
      "[1, 6, 8, 14, 20, 21, 22, 23, 24, 25, 26, 27, 31, 32, 33, 34, 35, 36, 38, 39, 41, 42, 50, 52, 57, 60, 66, 68, 69, 70, 71, 72, 73]\n"
     ]
    }
   ],
   "source": [
    "missing_col_ids = []\n",
    "zero_col_ids = []\n",
    "for col_id in range(df.shape[1]):\n",
    "    missing_percentage = df[df[col_id] == -1].shape[0] / float(df.shape[0])\n",
    "    zero_percentage = df[df[col_id] == 0].shape[0] / float(df.shape[0])\n",
    "    if missing_percentage == 1:\n",
    "        missing_col_ids.append(col_id)\n",
    "    if zero_percentage == 1:\n",
    "        zero_col_ids.append(col_id)\n",
    "print(missing_col_ids)\n",
    "print(zero_col_ids)"
   ]
  },
  {
   "cell_type": "markdown",
   "metadata": {},
   "source": [
    "### Distributions of zeros"
   ]
  },
  {
   "cell_type": "code",
   "execution_count": 4,
   "metadata": {},
   "outputs": [
    {
     "data": {
      "text/plain": [
       "<Container object of 90 artists>"
      ]
     },
     "execution_count": 4,
     "metadata": {},
     "output_type": "execute_result"
    },
    {
     "data": {
      "image/png": "[encoded data removed]",
      "text/plain": [
       "<matplotlib.figure.Figure at 0x1065a6198>"
      ]
     },
     "metadata": {},
     "output_type": "display_data"
    }
   ],
   "source": [
    "col_id_percentage = {}\n",
    "for col_id in range(df.shape[1]):\n",
    "    percentage = df[df[col_id] == 0].shape[0] / float(df.shape[0])\n",
    "    col_id_percentage[col_id] = percentage\n",
    "plt.bar(col_id_percentage.keys(), col_id_percentage.values())"
   ]
  },
  {
   "cell_type": "markdown",
   "metadata": {},
   "source": [
    "## It indicates that there are many columns with all zeros(0) and all missing values(-1). Lets discard them"
   ]
  },
  {
   "cell_type": "code",
   "execution_count": 5,
   "metadata": {},
   "outputs": [
    {
     "name": "stdout",
     "output_type": "stream",
     "text": [
      "Number of columns in the new dataframe: 54\n"
     ]
    }
   ],
   "source": [
    "new_cols = list(set(df.columns) - set(zero_col_ids) - set(missing_col_ids))\n",
    "df_new = df[new_cols]\n",
    "print('Number of columns in the new dataframe: %s' % df_new.shape[1])"
   ]
  },
  {
   "cell_type": "markdown",
   "metadata": {},
   "source": [
    "## After removing all zero columns"
   ]
  },
  {
   "cell_type": "code",
   "execution_count": 6,
   "metadata": {},
   "outputs": [
    {
     "data": {
      "text/plain": [
       "<Container object of 54 artists>"
      ]
     },
     "execution_count": 6,
     "metadata": {},
     "output_type": "execute_result"
    },
    {
     "data": {
      "image/png": "[encoded data removed]",
      "text/plain": [
       "<matplotlib.figure.Figure at 0x10734b630>"
      ]
     },
     "metadata": {},
     "output_type": "display_data"
    }
   ],
   "source": [
    "col_id_percentage = {}\n",
    "for col_id in df_new.columns:\n",
    "    percentage = df_new[df_new[col_id] == 0].shape[0] / float(df_new.shape[0])\n",
    "    col_id_percentage[col_id] = percentage\n",
    "plt.bar(col_id_percentage.keys(), col_id_percentage.values())"
   ]
  },
  {
   "cell_type": "markdown",
   "metadata": {},
   "source": [
    "### Distribution of nulls : no null values"
   ]
  },
  {
   "cell_type": "code",
   "execution_count": 7,
   "metadata": {},
   "outputs": [
    {
     "data": {
      "text/plain": [
       "0"
      ]
     },
     "execution_count": 7,
     "metadata": {},
     "output_type": "execute_result"
    }
   ],
   "source": [
    "df.isnull().sum().sum()"
   ]
  },
  {
   "cell_type": "markdown",
   "metadata": {},
   "source": [
    "### User Id observation : it is not a primary key, we cannot discard it"
   ]
  },
  {
   "cell_type": "code",
   "execution_count": 8,
   "metadata": {},
   "outputs": [
    {
     "name": "stdout",
     "output_type": "stream",
     "text": [
      "Total number of records: 1615789\n",
      "Total number of unique user ids 120034\n"
     ]
    }
   ],
   "source": [
    "print('Total number of records: %s' %df_new.shape[0])\n",
    "print('Total number of unique user ids %s' %len(df_new[0].unique()))"
   ]
  },
  {
   "cell_type": "markdown",
   "metadata": {},
   "source": [
    "## This is totally imbalanced dataset"
   ]
  },
  {
   "cell_type": "code",
   "execution_count": 10,
   "metadata": {},
   "outputs": [
    {
     "name": "stdout",
     "output_type": "stream",
     "text": [
      "0    1614664\n",
      "1       1125\n",
      "Name: 89, dtype: int64\n",
      "Percentage of class A(ones) 99.93037457242251\n",
      "Percentage of class B(zeros) 0.06962542757748691\n"
     ]
    }
   ],
   "source": [
    "print(df_new[89].value_counts())\n",
    "print('Percentage of class A(ones) ' + str(df_new[df_new[89] == 0].shape[0]/float(df_new.shape[0]) * 100))\n",
    "print('Percentage of class B(zeros) ' + str(df_new[df_new[89] == 1].shape[0]/float(df_new.shape[0]) * 100))"
   ]
  },
  {
   "cell_type": "markdown",
   "metadata": {},
   "source": [
    "## Percentage of missing values "
   ]
  },
  {
   "cell_type": "code",
   "execution_count": 11,
   "metadata": {},
   "outputs": [
    {
     "name": "stdout",
     "output_type": "stream",
     "text": [
      "53\t456416\t0.2824725258062779\n",
      "54\t456416\t0.2824725258062779\n",
      "59\t1179\t0.0007296744810120628\n"
     ]
    }
   ],
   "source": [
    "for col in df_new.columns:\n",
    "    if df_new[df_new[col] == -1].shape[0] != 0:\n",
    "        print(col, end='\\t')\n",
    "        print(df_new[df_new[col] == -1].shape[0], end = '\\t')\n",
    "        print(df_new[df_new[col] == -1].shape[0]/float(df_new.shape[0]))"
   ]
  },
  {
   "cell_type": "markdown",
   "metadata": {},
   "source": [
    "## Dummy Classifier"
   ]
  },
  {
   "cell_type": "code",
   "execution_count": 13,
   "metadata": {},
   "outputs": [],
   "source": [
    "from sklearn.dummy import DummyClassifier\n",
    "from sklearn.model_selection import train_test_split\n",
    "import lightgbm as lgb\n",
    "from sklearn.metrics import log_loss, f1_score, roc_curve, auc"
   ]
  },
  {
   "cell_type": "code",
   "execution_count": 14,
   "metadata": {},
   "outputs": [
    {
     "name": "stderr",
     "output_type": "stream",
     "text": [
      "/anaconda3/lib/python3.6/site-packages/pandas/core/indexing.py:537: SettingWithCopyWarning: \n",
      "A value is trying to be set on a copy of a slice from a DataFrame.\n",
      "Try using .loc[row_indexer,col_indexer] = value instead\n",
      "\n",
      "See the caveats in the documentation: http://pandas.pydata.org/pandas-docs/stable/indexing.html#indexing-view-versus-copy\n",
      "  self.obj[item] = s\n"
     ]
    }
   ],
   "source": [
    "for index in range(77, 88, 1):\n",
    "    df_new.loc[:, index] = df_new[index].astype('category')\n",
    "\n",
    "x = df_new.loc[:, 0:88]\n",
    "y = df_new.loc[:, 89]\n",
    "\n",
    "x_train, x_test, y_train, y_test = train_test_split(x, y, test_size=0.4, random_state=44, stratify=y)\n",
    "x_test, x_cv, y_test, y_cv = train_test_split(x_test, y_test, test_size=0.5, random_state=44, stratify=y_test)\n",
    "\n",
    "categorical_features = list(df_new.loc[:, 77:88].columns)\n",
    "train_data = lgb.Dataset(x_train, label=y_train, categorical_feature=categorical_features, free_raw_data=False)\n",
    "test_data = lgb.Dataset(x_test, label=y_test, categorical_feature=categorical_features, free_raw_data=False)\n",
    "cv_data = lgb.Dataset(x_cv, label=y_cv, categorical_feature=categorical_features, free_raw_data=False)"
   ]
  },
  {
   "cell_type": "code",
   "execution_count": 15,
   "metadata": {},
   "outputs": [
    {
     "data": {
      "text/plain": [
       "DummyClassifier(constant=None, random_state=None, strategy='stratified')"
      ]
     },
     "execution_count": 15,
     "metadata": {},
     "output_type": "execute_result"
    }
   ],
   "source": [
    "dummy_model = DummyClassifier()\n",
    "dummy_model.fit(train_data.data, train_data.label)"
   ]
  },
  {
   "cell_type": "code",
   "execution_count": 21,
   "metadata": {},
   "outputs": [
    {
     "name": "stdout",
     "output_type": "stream",
     "text": [
      "0.49965163052397865\n",
      "0.04809606844680288\n"
     ]
    }
   ],
   "source": [
    "y_true = test_data.label\n",
    "y_pred = dummy_model.predict_proba(test_data.data)\n",
    "\n",
    "fpr, tpr, thresholds = roc_curve(test_data.label, y_pred[:, 1])\n",
    "print(auc(fpr, tpr))\n",
    "print(log_loss(y_true, y_pred[:, 1]))"
   ]
  },
  {
   "cell_type": "markdown",
   "metadata": {},
   "source": [
    "## Logistic Classifier"
   ]
  },
  {
   "cell_type": "code",
   "execution_count": 22,
   "metadata": {},
   "outputs": [],
   "source": [
    "from sklearn.linear_model import LogisticRegression\n",
    "from sklearn.preprocessing import OneHotEncoder"
   ]
  },
  {
   "cell_type": "code",
   "execution_count": 14,
   "metadata": {},
   "outputs": [],
   "source": [
    "df_new.to_csv('df_new.csv')"
   ]
  },
  {
   "cell_type": "code",
   "execution_count": 23,
   "metadata": {},
   "outputs": [
    {
     "data": {
      "text/plain": [
       "OneHotEncoder(categorical_features='all', dtype=<class 'numpy.float64'>,\n",
       "       handle_unknown='error', n_values='auto', sparse=True)"
      ]
     },
     "execution_count": 23,
     "metadata": {},
     "output_type": "execute_result"
    }
   ],
   "source": [
    "one_hot_encoder = OneHotEncoder()\n",
    "one_hot_encoder.fit(df_new.loc[:,77: 88])"
   ]
  },
  {
   "cell_type": "code",
   "execution_count": 26,
   "metadata": {},
   "outputs": [],
   "source": [
    "df_small = df_new[df_new[89] == 0].sample(50000)\n",
    "df_new_small = pd.concat([df_small, df_new[df_new[89] == 1]], axis=0)"
   ]
  },
  {
   "cell_type": "code",
   "execution_count": 27,
   "metadata": {},
   "outputs": [
    {
     "data": {
      "text/plain": [
       "0    50000\n",
       "1     1125\n",
       "Name: 89, dtype: int64"
      ]
     },
     "execution_count": 27,
     "metadata": {},
     "output_type": "execute_result"
    }
   ],
   "source": [
    "df_new_small[89].value_counts()"
   ]
  },
  {
   "cell_type": "code",
   "execution_count": 28,
   "metadata": {},
   "outputs": [],
   "source": [
    "cat_df = pd.DataFrame(one_hot_encoder.transform(df_new_small.loc[:,77: 88]).toarray())"
   ]
  },
  {
   "cell_type": "code",
   "execution_count": 31,
   "metadata": {},
   "outputs": [],
   "source": [
    "log_df = pd.concat([df_new_small.loc[:,0:76], cat_df], axis=0, ignore_index=True, copy=False)"
   ]
  },
  {
   "cell_type": "code",
   "execution_count": 32,
   "metadata": {},
   "outputs": [
    {
     "name": "stdout",
     "output_type": "stream",
     "text": [
      "(51125, 31455)\n",
      "(51125, 41)\n",
      "(102250, 31455)\n"
     ]
    }
   ],
   "source": [
    "print(cat_df.shape)\n",
    "print(df_new_small.loc[:,0:76].shape)\n",
    "print(log_df.shape) ##<--bug"
   ]
  },
  {
   "cell_type": "markdown",
   "metadata": {},
   "source": [
    "### Aborting this path because of categorical variables. Once they are converted to numeric columns using onehotencoding, number of dimensions are getting increased and at the same time the data points are also huge in size.\n",
    "### Also, the dataset is biased in class distribution, so we need to use undersample majority and over sample minority class.\n",
    "### This can be handles easily using Tree(lightgbm) based approaches because of categorical variables."
   ]
  },
  {
   "cell_type": "code",
   "execution_count": null,
   "metadata": {},
   "outputs": [],
   "source": [
    "# x = log_df\n",
    "# y = df_new.loc[:, 89]\n",
    "\n",
    "# x_train, x_test, y_train, y_test = train_test_split(x, y, test_size=0.4, random_state=44, stratify=y)\n",
    "# x_test, x_cv, y_test, y_cv = train_test_split(x_test, y_test, test_size=0.5, random_state=44, stratify=y_test)\n",
    "\n",
    "# # categorical_features = list(df_new.loc[:, 77:88].columns)\n",
    "# train_data = lgb.Dataset(x_train, label=y_train, free_raw_data=False)\n",
    "# test_data = lgb.Dataset(x_test, label=y_test, free_raw_data=False)\n",
    "# cv_data = lgb.Dataset(x_cv, label=y_cv, free_raw_data=False)"
   ]
  },
  {
   "cell_type": "code",
   "execution_count": null,
   "metadata": {},
   "outputs": [],
   "source": [
    "# lg_model = LogisticRegression()\n",
    "# lg_model.fit(train_data.data, train_data.label)"
   ]
  },
  {
   "cell_type": "code",
   "execution_count": null,
   "metadata": {},
   "outputs": [],
   "source": [
    "# y_pred = lg_model.predict_proba(test_data.data)\n",
    "# print(y_pred)"
   ]
  },
  {
   "cell_type": "code",
   "execution_count": null,
   "metadata": {},
   "outputs": [],
   "source": [
    "# param_grid = {'C': [0.001, 0.01, 0.1, 1, 10, 100, 1000] }\n",
    "# clf = GridSearchCV(LogisticRegression(penalty='l2'), param_grid)"
   ]
  },
  {
   "cell_type": "code",
   "execution_count": 33,
   "metadata": {},
   "outputs": [],
   "source": [
    "import lightgbm as lgb\n",
    "from sklearn.model_selection import train_test_split\n",
    "from sklearn.metrics import log_loss, f1_score, roc_curve, auc"
   ]
  },
  {
   "cell_type": "code",
   "execution_count": 34,
   "metadata": {},
   "outputs": [],
   "source": [
    "# for index in range(77, 88, 1):\n",
    "#     df_new.loc[:, index] = df_new[index].astype('category')\n",
    "\n",
    "# x = df_new.loc[:, 0:88]\n",
    "# y = df_new.loc[:, 89]\n",
    "\n",
    "# x_train, x_test, y_train, y_test = train_test_split(x, y, test_size=0.4, random_state=44, stratify=y)\n",
    "# x_test, x_cv, y_test, y_cv = train_test_split(x_test, y_test, test_size=0.5, random_state=44, stratify=y_test)\n",
    "\n",
    "# categorical_features = list(df_new.loc[:, 77:88].columns)\n",
    "# train_data = lgb.Dataset(x_train, label=y_train, categorical_feature=categorical_features, free_raw_data=False)\n",
    "# test_data = lgb.Dataset(x_test, label=y_test, categorical_feature=categorical_features, free_raw_data=False)\n",
    "# cv_data = lgb.Dataset(x_cv, label=y_cv, categorical_feature=categorical_features, free_raw_data=False)"
   ]
  },
  {
   "cell_type": "markdown",
   "metadata": {},
   "source": [
    "### Model initialization"
   ]
  },
  {
   "cell_type": "code",
   "execution_count": 35,
   "metadata": {},
   "outputs": [
    {
     "name": "stdout",
     "output_type": "stream",
     "text": [
      "[1]\tvalid_0's binary_logloss: 0.00567437\n",
      "Training until validation scores don't improve for 10 rounds.\n",
      "[2]\tvalid_0's binary_logloss: 0.0057625\n",
      "[3]\tvalid_0's binary_logloss: 0.0058534\n",
      "[4]\tvalid_0's binary_logloss: 0.00595926\n",
      "[5]\tvalid_0's binary_logloss: 0.00609264\n",
      "[6]\tvalid_0's binary_logloss: 0.00622253\n",
      "[7]\tvalid_0's binary_logloss: 0.00635518\n",
      "[8]\tvalid_0's binary_logloss: 0.00650039\n",
      "[9]\tvalid_0's binary_logloss: 0.00665638\n",
      "[10]\tvalid_0's binary_logloss: 0.00681394\n",
      "[11]\tvalid_0's binary_logloss: 0.00696483\n",
      "Early stopping, best iteration is:\n",
      "[1]\tvalid_0's binary_logloss: 0.00567437\n"
     ]
    },
    {
     "data": {
      "text/plain": [
       "LGBMClassifier(application='binary', bagging_fraction=0.5, bagging_freq=20,\n",
       "        boosting='gbdt', boosting_type='gbdt', class_weight=None,\n",
       "        colsample_bytree=1.0, feature_fraction=0.5, is_unbalance='true',\n",
       "        learning_rate=0.0009, max_depth=-1, metric='binary_logloss',\n",
       "        min_child_samples=20, min_child_weight=0.001, min_split_gain=0.0,\n",
       "        n_estimators=150, n_jobs=-1, num_leaves=31, objective='binary',\n",
       "        random_state=None, reg_alpha=0.0, reg_lambda=0.0, silent=True,\n",
       "        subsample=1.0, subsample_for_bin=200000, subsample_freq=0,\n",
       "        verbose=100)"
      ]
     },
     "execution_count": 35,
     "metadata": {},
     "output_type": "execute_result"
    }
   ],
   "source": [
    "parameters = {\n",
    "#     'scale_pos_weight': 1000,\n",
    "    'application': 'binary',\n",
    "    'objective': 'binary',\n",
    "    'metric': 'binary_logloss',\n",
    "    'is_unbalance': 'true',\n",
    "    'boosting': 'gbdt',\n",
    "    'num_leaves': 31,\n",
    "    'feature_fraction': 0.5,\n",
    "    'bagging_fraction': 0.5,\n",
    "    'bagging_freq': 20,\n",
    "    'learning_rate': 0.0009,\n",
    "    'verbose': 100,\n",
    "    'n_estimators': 150\n",
    "}\n",
    "\n",
    "# model = lightgbm.train(parameters,\n",
    "#                        train_data,\n",
    "#                        valid_sets=cv_data,\n",
    "#                        num_boost_round=30,\n",
    "#                        early_stopping_rounds=5)\n",
    "model = lgb.LGBMClassifier(**parameters)\n",
    "model.fit(train_data.data, train_data.label, eval_set=[(cv_data.data, cv_data.label)], early_stopping_rounds=10, eval_metric='binary_logloss')\n",
    "\n",
    "##binary_logloss TODO"
   ]
  },
  {
   "cell_type": "code",
   "execution_count": 36,
   "metadata": {},
   "outputs": [
    {
     "data": {
      "text/plain": [
       "<matplotlib.axes._subplots.AxesSubplot at 0x1126a7ef0>"
      ]
     },
     "execution_count": 36,
     "metadata": {},
     "output_type": "execute_result"
    },
    {
     "data": {
      "image/png": "[encoded data removed]",
      "text/plain": [
       "<matplotlib.figure.Figure at 0x1126a73c8>"
      ]
     },
     "metadata": {},
     "output_type": "display_data"
    }
   ],
   "source": [
    "lgb.plot_importance(model, importance_type='gain', max_num_features=10)"
   ]
  },
  {
   "cell_type": "code",
   "execution_count": 37,
   "metadata": {},
   "outputs": [
    {
     "name": "stdout",
     "output_type": "stream",
     "text": [
      "[[9.98469113e-01 1.53088673e-03]\n",
      " [9.98469113e-01 1.53088673e-03]\n",
      " [9.99304259e-01 6.95740966e-04]\n",
      " ...\n",
      " [9.98248645e-01 1.75135466e-03]\n",
      " [9.99304372e-01 6.95628216e-04]\n",
      " [9.99229993e-01 7.70006910e-04]]\n"
     ]
    }
   ],
   "source": [
    "y_pred = model.predict_proba(test_data.data)\n",
    "print(y_pred)"
   ]
  },
  {
   "cell_type": "code",
   "execution_count": 38,
   "metadata": {},
   "outputs": [],
   "source": [
    "fpr, tpr, thresholds = roc_curve(test_data.label, y_pred[:, 1])#pos_label=1"
   ]
  },
  {
   "cell_type": "code",
   "execution_count": 39,
   "metadata": {},
   "outputs": [
    {
     "data": {
      "text/plain": [
       "array([1.00238364e+00, 2.38364218e-03, 1.96555989e-03, 1.84295540e-03,\n",
       "       1.78942008e-03, 1.75135466e-03, 1.70910418e-03, 1.69538230e-03,\n",
       "       1.68350274e-03, 1.68161142e-03, 1.61441090e-03, 1.59393917e-03,\n",
       "       1.53088673e-03, 1.22043762e-03, 1.13625326e-03, 1.04944684e-03,\n",
       "       9.69524872e-04, 9.23839756e-04, 7.70006910e-04, 6.95754263e-04,\n",
       "       6.95740966e-04, 6.95628216e-04])"
      ]
     },
     "execution_count": 39,
     "metadata": {},
     "output_type": "execute_result"
    }
   ],
   "source": [
    "thresholds"
   ]
  },
  {
   "cell_type": "code",
   "execution_count": 40,
   "metadata": {},
   "outputs": [
    {
     "data": {
      "text/plain": [
       "0.7261447145727166"
      ]
     },
     "execution_count": 40,
     "metadata": {},
     "output_type": "execute_result"
    }
   ],
   "source": [
    "auc(fpr, tpr)"
   ]
  },
  {
   "cell_type": "markdown",
   "metadata": {},
   "source": [
    "## Yet to explore the metrics on plots"
   ]
  },
  {
   "cell_type": "code",
   "execution_count": 41,
   "metadata": {},
   "outputs": [
    {
     "data": {
      "image/png": "[encoded data removed]",
      "text/plain": [
       "<matplotlib.figure.Figure at 0x112678828>"
      ]
     },
     "metadata": {},
     "output_type": "display_data"
    }
   ],
   "source": [
    "from sklearn.metrics import precision_recall_curve, average_precision_score\n",
    "from matplotlib.ticker import MultipleLocator\n",
    "precision, recall, thresholds = precision_recall_curve(test_data.label, y_pred[:, 1])\n",
    "average_precision = average_precision_score(test_data.label, y_pred[:, 1])\n",
    "\n",
    "fig, ax = plt.subplots()\n",
    "plt.step(recall, precision, color='b', alpha=0.2,\n",
    "         where='post')\n",
    "plt.step(recall[:-1], thresholds, color='r', alpha=0.2,\n",
    "         where='post')\n",
    "plt.fill_between(recall, precision, step='post', alpha=0.2,\n",
    "                 color='b')\n",
    "plt.xlabel('Recall')\n",
    "plt.ylabel('Precision')\n",
    "plt.ylim([0.0, 1.05])\n",
    "plt.xlim([0.0, 1.0])\n",
    "ax.yaxis.set_major_locator(MultipleLocator(0.05))\n",
    "ax.xaxis.set_major_locator(MultipleLocator(0.1))\n",
    "plt.title('2-class Precision-Recall curve: AP={0:0.2f}'.format(average_precision))\n",
    "plt.grid()"
   ]
  },
  {
   "cell_type": "code",
   "execution_count": 256,
   "metadata": {},
   "outputs": [
    {
     "data": {
      "image/png": "[encoded data removed]",
      "text/plain": [
       "<matplotlib.figure.Figure at 0x10d0e4b70>"
      ]
     },
     "metadata": {},
     "output_type": "display_data"
    }
   ],
   "source": [
    "# Density plots\n",
    "fig, ax = plt.subplots()\n",
    "n_bins = 200\n",
    "\n",
    "test_data.label, y_pred[:, 1]\n",
    "\n",
    "y_test_proba = y_pred[:, 1]\n",
    "\n",
    "n, bins, patches = ax.hist(y_test_proba[(test_data.label==0)], n_bins, normed=1, histtype='step', cumulative=False, label='-ve')\n",
    "ax.hist(y_test_proba[(test_data.label==1)], n_bins, normed=1, histtype='step', cumulative=False, label='+ve', color='r')\n",
    "ax.xaxis.set_major_locator(MultipleLocator(0.1))\n",
    "ax.grid(True)\n",
    "ax.legend(loc='upper left')\n",
    "ax.set_title('PDF of LightGBM Score vs +ve and -ve')\n",
    "ax.set_xlabel('Model Score')\n",
    "ax.set_ylabel('PDF')\n",
    "#plt.savefig(fname)\n",
    "plt.show()"
   ]
  },
  {
   "cell_type": "code",
   "execution_count": 50,
   "metadata": {},
   "outputs": [],
   "source": [
    "from sklearn.model_selection import GridSearchCV\n",
    "\n",
    "param_grid = {\n",
    "    'learning_rate': [0.15, 0.1, 0.01, 0.001],\n",
    "    'feature_fraction': [0.55],\n",
    "    'min_data_in_leaf': [5000], \n",
    "    'max_depth': [18],\n",
    "    'num_leaves': [60],\n",
    "    'n_estimators': [20],\n",
    "    'scale_pos_weight': [3, 4, 5 ]\n",
    "}\n",
    "\n",
    "# parameters = {\n",
    "# #     'scale_pos_weight': 1000,\n",
    "#     'application': 'binary',\n",
    "#     'objective': 'binary',\n",
    "#     'metric': 'binary_logloss',\n",
    "#     'is_unbalance': 'true',\n",
    "#     'boosting': 'gbdt',\n",
    "#     'num_leaves': 31,\n",
    "#     'feature_fraction': 0.5,\n",
    "#     'bagging_fraction': 0.5,\n",
    "#     'bagging_freq': 20,\n",
    "#     'learning_rate': 0.0009,\n",
    "#     'verbose': 100,\n",
    "#     'n_estimators': 150\n",
    "# }\n",
    "\n",
    "estimator = lgb.LGBMClassifier(num_leaves=31)\n",
    "\n",
    "model = GridSearchCV(estimator, param_grid)"
   ]
  },
  {
   "cell_type": "code",
   "execution_count": 51,
   "metadata": {},
   "outputs": [
    {
     "name": "stdout",
     "output_type": "stream",
     "text": [
      "[1]\tvalid_0's binary_logloss: 0.00786862\n",
      "Training until validation scores don't improve for 10 rounds.\n",
      "[2]\tvalid_0's binary_logloss: 0.00758149\n",
      "[3]\tvalid_0's binary_logloss: 0.00733697\n",
      "[4]\tvalid_0's binary_logloss: 0.00715738\n",
      "[5]\tvalid_0's binary_logloss: 0.00699535\n",
      "[6]\tvalid_0's binary_logloss: 0.00685259\n",
      "[7]\tvalid_0's binary_logloss: 0.00673164\n",
      "[8]\tvalid_0's binary_logloss: 0.00664959\n",
      "[9]\tvalid_0's binary_logloss: 0.00655688\n",
      "[10]\tvalid_0's binary_logloss: 0.00647057\n",
      "[11]\tvalid_0's binary_logloss: 0.00641671\n",
      "[12]\tvalid_0's binary_logloss: 0.00635704\n",
      "[13]\tvalid_0's binary_logloss: 0.00629879\n",
      "[14]\tvalid_0's binary_logloss: 0.0062593\n",
      "[15]\tvalid_0's binary_logloss: 0.00621923\n",
      "[16]\tvalid_0's binary_logloss: 0.00618769\n",
      "[17]\tvalid_0's binary_logloss: 0.00614921\n",
      "[18]\tvalid_0's binary_logloss: 0.00610833\n",
      "[19]\tvalid_0's binary_logloss: 0.00606811\n",
      "[20]\tvalid_0's binary_logloss: 0.00603683\n",
      "Did not meet early stopping. Best iteration is:\n",
      "[20]\tvalid_0's binary_logloss: 0.00603683\n"
     ]
    },
    {
     "name": "stderr",
     "output_type": "stream",
     "text": [
      "/anaconda3/lib/python3.6/site-packages/sklearn/preprocessing/label.py:151: DeprecationWarning: The truth value of an empty array is ambiguous. Returning False, but in future this will result in an error. Use `array.size > 0` to check that an array is not empty.\n",
      "  if diff:\n",
      "/anaconda3/lib/python3.6/site-packages/sklearn/preprocessing/label.py:151: DeprecationWarning: The truth value of an empty array is ambiguous. Returning False, but in future this will result in an error. Use `array.size > 0` to check that an array is not empty.\n",
      "  if diff:\n"
     ]
    },
    {
     "name": "stdout",
     "output_type": "stream",
     "text": [
      "[1]\tvalid_0's binary_logloss: 0.00783255\n",
      "Training until validation scores don't improve for 10 rounds.\n",
      "[2]\tvalid_0's binary_logloss: 0.00751988\n",
      "[3]\tvalid_0's binary_logloss: 0.00727986\n",
      "[4]\tvalid_0's binary_logloss: 0.00709451\n",
      "[5]\tvalid_0's binary_logloss: 0.00693735\n",
      "[6]\tvalid_0's binary_logloss: 0.00677501\n",
      "[7]\tvalid_0's binary_logloss: 0.00664966\n",
      "[8]\tvalid_0's binary_logloss: 0.00654559\n",
      "[9]\tvalid_0's binary_logloss: 0.0064446\n",
      "[10]\tvalid_0's binary_logloss: 0.00636128\n",
      "[11]\tvalid_0's binary_logloss: 0.00629724\n",
      "[12]\tvalid_0's binary_logloss: 0.00624167\n",
      "[13]\tvalid_0's binary_logloss: 0.00618011\n",
      "[14]\tvalid_0's binary_logloss: 0.0061404\n",
      "[15]\tvalid_0's binary_logloss: 0.0061067\n",
      "[16]\tvalid_0's binary_logloss: 0.00607656\n",
      "[17]\tvalid_0's binary_logloss: 0.00604063\n",
      "[18]\tvalid_0's binary_logloss: 0.00601492\n",
      "[19]\tvalid_0's binary_logloss: 0.00600352\n",
      "[20]\tvalid_0's binary_logloss: 0.00596634\n",
      "Did not meet early stopping. Best iteration is:\n",
      "[20]\tvalid_0's binary_logloss: 0.00596634\n"
     ]
    },
    {
     "name": "stderr",
     "output_type": "stream",
     "text": [
      "/anaconda3/lib/python3.6/site-packages/sklearn/preprocessing/label.py:151: DeprecationWarning: The truth value of an empty array is ambiguous. Returning False, but in future this will result in an error. Use `array.size > 0` to check that an array is not empty.\n",
      "  if diff:\n",
      "/anaconda3/lib/python3.6/site-packages/sklearn/preprocessing/label.py:151: DeprecationWarning: The truth value of an empty array is ambiguous. Returning False, but in future this will result in an error. Use `array.size > 0` to check that an array is not empty.\n",
      "  if diff:\n"
     ]
    },
    {
     "name": "stdout",
     "output_type": "stream",
     "text": [
      "[1]\tvalid_0's binary_logloss: 0.00681715\n",
      "Training until validation scores don't improve for 10 rounds.\n",
      "[2]\tvalid_0's binary_logloss: 0.00666778\n",
      "[3]\tvalid_0's binary_logloss: 0.00654423\n",
      "[4]\tvalid_0's binary_logloss: 0.00646733\n",
      "[5]\tvalid_0's binary_logloss: 0.00639371\n",
      "[6]\tvalid_0's binary_logloss: 0.00632171\n",
      "[7]\tvalid_0's binary_logloss: 0.00627169\n",
      "[8]\tvalid_0's binary_logloss: 0.00622011\n",
      "[9]\tvalid_0's binary_logloss: 0.00616438\n",
      "[10]\tvalid_0's binary_logloss: 0.0061263\n",
      "[11]\tvalid_0's binary_logloss: 0.00608273\n",
      "[12]\tvalid_0's binary_logloss: 0.00605981\n",
      "[13]\tvalid_0's binary_logloss: 0.00602886\n",
      "[14]\tvalid_0's binary_logloss: 0.00600639\n",
      "[15]\tvalid_0's binary_logloss: 0.00598602\n",
      "[16]\tvalid_0's binary_logloss: 0.00594177\n",
      "[17]\tvalid_0's binary_logloss: 0.00592964\n",
      "[18]\tvalid_0's binary_logloss: 0.00591216\n",
      "[19]\tvalid_0's binary_logloss: 0.00589281\n",
      "[20]\tvalid_0's binary_logloss: 0.00587593\n",
      "Did not meet early stopping. Best iteration is:\n",
      "[20]\tvalid_0's binary_logloss: 0.00587593\n"
     ]
    },
    {
     "name": "stderr",
     "output_type": "stream",
     "text": [
      "/anaconda3/lib/python3.6/site-packages/sklearn/preprocessing/label.py:151: DeprecationWarning: The truth value of an empty array is ambiguous. Returning False, but in future this will result in an error. Use `array.size > 0` to check that an array is not empty.\n",
      "  if diff:\n",
      "/anaconda3/lib/python3.6/site-packages/sklearn/preprocessing/label.py:151: DeprecationWarning: The truth value of an empty array is ambiguous. Returning False, but in future this will result in an error. Use `array.size > 0` to check that an array is not empty.\n",
      "  if diff:\n"
     ]
    },
    {
     "name": "stdout",
     "output_type": "stream",
     "text": [
      "[1]\tvalid_0's binary_logloss: 0.0168245\n",
      "Training until validation scores don't improve for 10 rounds.\n",
      "[2]\tvalid_0's binary_logloss: 0.014463\n",
      "[3]\tvalid_0's binary_logloss: 0.0127141\n",
      "[4]\tvalid_0's binary_logloss: 0.0116032\n",
      "[5]\tvalid_0's binary_logloss: 0.0107549\n",
      "[6]\tvalid_0's binary_logloss: 0.00999413\n",
      "[7]\tvalid_0's binary_logloss: 0.00939772\n",
      "[8]\tvalid_0's binary_logloss: 0.00897837\n",
      "[9]\tvalid_0's binary_logloss: 0.00858412\n",
      "[10]\tvalid_0's binary_logloss: 0.00829109\n",
      "[11]\tvalid_0's binary_logloss: 0.00804606\n",
      "[12]\tvalid_0's binary_logloss: 0.00781111\n",
      "[13]\tvalid_0's binary_logloss: 0.00760654\n",
      "[14]\tvalid_0's binary_logloss: 0.00747441\n",
      "[15]\tvalid_0's binary_logloss: 0.00732878\n",
      "[16]\tvalid_0's binary_logloss: 0.00718785\n",
      "[17]\tvalid_0's binary_logloss: 0.00706731\n",
      "[18]\tvalid_0's binary_logloss: 0.00696224\n",
      "[19]\tvalid_0's binary_logloss: 0.00689756\n",
      "[20]\tvalid_0's binary_logloss: 0.00681352\n",
      "Did not meet early stopping. Best iteration is:\n",
      "[20]\tvalid_0's binary_logloss: 0.00681352\n"
     ]
    },
    {
     "name": "stderr",
     "output_type": "stream",
     "text": [
      "/anaconda3/lib/python3.6/site-packages/sklearn/preprocessing/label.py:151: DeprecationWarning: The truth value of an empty array is ambiguous. Returning False, but in future this will result in an error. Use `array.size > 0` to check that an array is not empty.\n",
      "  if diff:\n",
      "/anaconda3/lib/python3.6/site-packages/sklearn/preprocessing/label.py:151: DeprecationWarning: The truth value of an empty array is ambiguous. Returning False, but in future this will result in an error. Use `array.size > 0` to check that an array is not empty.\n",
      "  if diff:\n"
     ]
    },
    {
     "name": "stdout",
     "output_type": "stream",
     "text": [
      "[1]\tvalid_0's binary_logloss: 0.0163881\n",
      "Training until validation scores don't improve for 10 rounds.\n",
      "[2]\tvalid_0's binary_logloss: 0.0142516\n",
      "[3]\tvalid_0's binary_logloss: 0.0125999\n",
      "[4]\tvalid_0's binary_logloss: 0.0115409\n",
      "[5]\tvalid_0's binary_logloss: 0.0107224\n",
      "[6]\tvalid_0's binary_logloss: 0.00998786\n",
      "[7]\tvalid_0's binary_logloss: 0.00939928\n",
      "[8]\tvalid_0's binary_logloss: 0.00897722\n",
      "[9]\tvalid_0's binary_logloss: 0.00858086\n",
      "[10]\tvalid_0's binary_logloss: 0.00829138\n",
      "[11]\tvalid_0's binary_logloss: 0.00805676\n",
      "[12]\tvalid_0's binary_logloss: 0.00780794\n",
      "[13]\tvalid_0's binary_logloss: 0.00760721\n",
      "[14]\tvalid_0's binary_logloss: 0.00746486\n",
      "[15]\tvalid_0's binary_logloss: 0.00731451\n",
      "[16]\tvalid_0's binary_logloss: 0.00719121\n",
      "[17]\tvalid_0's binary_logloss: 0.00707396\n",
      "[18]\tvalid_0's binary_logloss: 0.00699292\n",
      "[19]\tvalid_0's binary_logloss: 0.00691179\n",
      "[20]\tvalid_0's binary_logloss: 0.00681817\n",
      "Did not meet early stopping. Best iteration is:\n",
      "[20]\tvalid_0's binary_logloss: 0.00681817\n"
     ]
    },
    {
     "name": "stderr",
     "output_type": "stream",
     "text": [
      "/anaconda3/lib/python3.6/site-packages/sklearn/preprocessing/label.py:151: DeprecationWarning: The truth value of an empty array is ambiguous. Returning False, but in future this will result in an error. Use `array.size > 0` to check that an array is not empty.\n",
      "  if diff:\n",
      "/anaconda3/lib/python3.6/site-packages/sklearn/preprocessing/label.py:151: DeprecationWarning: The truth value of an empty array is ambiguous. Returning False, but in future this will result in an error. Use `array.size > 0` to check that an array is not empty.\n",
      "  if diff:\n"
     ]
    },
    {
     "name": "stdout",
     "output_type": "stream",
     "text": [
      "[1]\tvalid_0's binary_logloss: 0.0115828\n",
      "Training until validation scores don't improve for 10 rounds.\n",
      "[2]\tvalid_0's binary_logloss: 0.0107489\n",
      "[3]\tvalid_0's binary_logloss: 0.0100563\n",
      "[4]\tvalid_0's binary_logloss: 0.00952389\n",
      "[5]\tvalid_0's binary_logloss: 0.00907919\n",
      "[6]\tvalid_0's binary_logloss: 0.0087067\n",
      "[7]\tvalid_0's binary_logloss: 0.00837277\n",
      "[8]\tvalid_0's binary_logloss: 0.00811136\n",
      "[9]\tvalid_0's binary_logloss: 0.00785393\n",
      "[10]\tvalid_0's binary_logloss: 0.00767421\n",
      "[11]\tvalid_0's binary_logloss: 0.00750517\n",
      "[12]\tvalid_0's binary_logloss: 0.00735879\n",
      "[13]\tvalid_0's binary_logloss: 0.00723023\n",
      "[14]\tvalid_0's binary_logloss: 0.00710977\n",
      "[15]\tvalid_0's binary_logloss: 0.0070138\n",
      "[16]\tvalid_0's binary_logloss: 0.00692659\n",
      "[17]\tvalid_0's binary_logloss: 0.00685136\n",
      "[18]\tvalid_0's binary_logloss: 0.00679828\n",
      "[19]\tvalid_0's binary_logloss: 0.00673534\n",
      "[20]\tvalid_0's binary_logloss: 0.00666033\n",
      "Did not meet early stopping. Best iteration is:\n",
      "[20]\tvalid_0's binary_logloss: 0.00666033\n"
     ]
    },
    {
     "name": "stderr",
     "output_type": "stream",
     "text": [
      "/anaconda3/lib/python3.6/site-packages/sklearn/preprocessing/label.py:151: DeprecationWarning: The truth value of an empty array is ambiguous. Returning False, but in future this will result in an error. Use `array.size > 0` to check that an array is not empty.\n",
      "  if diff:\n",
      "/anaconda3/lib/python3.6/site-packages/sklearn/preprocessing/label.py:151: DeprecationWarning: The truth value of an empty array is ambiguous. Returning False, but in future this will result in an error. Use `array.size > 0` to check that an array is not empty.\n",
      "  if diff:\n"
     ]
    },
    {
     "name": "stdout",
     "output_type": "stream",
     "text": [
      "[1]\tvalid_0's binary_logloss: 0.0335965\n",
      "Training until validation scores don't improve for 10 rounds.\n",
      "[2]\tvalid_0's binary_logloss: 0.0208446\n",
      "[3]\tvalid_0's binary_logloss: 0.0169361\n",
      "[4]\tvalid_0's binary_logloss: 0.0149743\n",
      "[5]\tvalid_0's binary_logloss: 0.0135458\n",
      "[6]\tvalid_0's binary_logloss: 0.0122912\n",
      "[7]\tvalid_0's binary_logloss: 0.0113498\n",
      "[8]\tvalid_0's binary_logloss: 0.0106819\n",
      "[9]\tvalid_0's binary_logloss: 0.0100633\n",
      "[10]\tvalid_0's binary_logloss: 0.00962817\n",
      "[11]\tvalid_0's binary_logloss: 0.00928219\n",
      "[12]\tvalid_0's binary_logloss: 0.00893172\n",
      "[13]\tvalid_0's binary_logloss: 0.00867413\n",
      "[14]\tvalid_0's binary_logloss: 0.00844995\n",
      "[15]\tvalid_0's binary_logloss: 0.00822957\n",
      "[16]\tvalid_0's binary_logloss: 0.00805447\n",
      "[17]\tvalid_0's binary_logloss: 0.00787587\n",
      "[18]\tvalid_0's binary_logloss: 0.00774791\n",
      "[19]\tvalid_0's binary_logloss: 0.00764162\n",
      "[20]\tvalid_0's binary_logloss: 0.00752312\n",
      "Did not meet early stopping. Best iteration is:\n",
      "[20]\tvalid_0's binary_logloss: 0.00752312\n"
     ]
    },
    {
     "name": "stderr",
     "output_type": "stream",
     "text": [
      "/anaconda3/lib/python3.6/site-packages/sklearn/preprocessing/label.py:151: DeprecationWarning: The truth value of an empty array is ambiguous. Returning False, but in future this will result in an error. Use `array.size > 0` to check that an array is not empty.\n",
      "  if diff:\n",
      "/anaconda3/lib/python3.6/site-packages/sklearn/preprocessing/label.py:151: DeprecationWarning: The truth value of an empty array is ambiguous. Returning False, but in future this will result in an error. Use `array.size > 0` to check that an array is not empty.\n",
      "  if diff:\n"
     ]
    },
    {
     "name": "stdout",
     "output_type": "stream",
     "text": [
      "[1]\tvalid_0's binary_logloss: 0.0331843\n",
      "Training until validation scores don't improve for 10 rounds.\n",
      "[2]\tvalid_0's binary_logloss: 0.02169\n",
      "[3]\tvalid_0's binary_logloss: 0.0176503\n",
      "[4]\tvalid_0's binary_logloss: 0.0155386\n",
      "[5]\tvalid_0's binary_logloss: 0.0139976\n",
      "[6]\tvalid_0's binary_logloss: 0.0126798\n",
      "[7]\tvalid_0's binary_logloss: 0.0116697\n",
      "[8]\tvalid_0's binary_logloss: 0.0109512\n",
      "[9]\tvalid_0's binary_logloss: 0.0102851\n",
      "[10]\tvalid_0's binary_logloss: 0.00980445\n",
      "[11]\tvalid_0's binary_logloss: 0.00940433\n",
      "[12]\tvalid_0's binary_logloss: 0.00903484\n",
      "[13]\tvalid_0's binary_logloss: 0.00875474\n",
      "[14]\tvalid_0's binary_logloss: 0.00853224\n",
      "[15]\tvalid_0's binary_logloss: 0.00834155\n",
      "[16]\tvalid_0's binary_logloss: 0.00816655\n",
      "[17]\tvalid_0's binary_logloss: 0.00798436\n",
      "[18]\tvalid_0's binary_logloss: 0.00783793\n",
      "[19]\tvalid_0's binary_logloss: 0.00770988\n",
      "[20]\tvalid_0's binary_logloss: 0.00758215\n",
      "Did not meet early stopping. Best iteration is:\n",
      "[20]\tvalid_0's binary_logloss: 0.00758215\n"
     ]
    },
    {
     "name": "stderr",
     "output_type": "stream",
     "text": [
      "/anaconda3/lib/python3.6/site-packages/sklearn/preprocessing/label.py:151: DeprecationWarning: The truth value of an empty array is ambiguous. Returning False, but in future this will result in an error. Use `array.size > 0` to check that an array is not empty.\n",
      "  if diff:\n",
      "/anaconda3/lib/python3.6/site-packages/sklearn/preprocessing/label.py:151: DeprecationWarning: The truth value of an empty array is ambiguous. Returning False, but in future this will result in an error. Use `array.size > 0` to check that an array is not empty.\n",
      "  if diff:\n"
     ]
    },
    {
     "name": "stdout",
     "output_type": "stream",
     "text": [
      "[1]\tvalid_0's binary_logloss: 0.0275756\n",
      "Training until validation scores don't improve for 10 rounds.\n",
      "[2]\tvalid_0's binary_logloss: 0.0228744\n",
      "[3]\tvalid_0's binary_logloss: 0.0195067\n",
      "[4]\tvalid_0's binary_logloss: 0.0172701\n",
      "[5]\tvalid_0's binary_logloss: 0.0155327\n",
      "[6]\tvalid_0's binary_logloss: 0.014106\n",
      "[7]\tvalid_0's binary_logloss: 0.0129378\n",
      "[8]\tvalid_0's binary_logloss: 0.0120317\n",
      "[9]\tvalid_0's binary_logloss: 0.0112469\n",
      "[10]\tvalid_0's binary_logloss: 0.0106268\n",
      "[11]\tvalid_0's binary_logloss: 0.0101021\n",
      "[12]\tvalid_0's binary_logloss: 0.00964828\n",
      "[13]\tvalid_0's binary_logloss: 0.00925225\n",
      "[14]\tvalid_0's binary_logloss: 0.00893059\n",
      "[15]\tvalid_0's binary_logloss: 0.00867253\n",
      "[16]\tvalid_0's binary_logloss: 0.00843569\n",
      "[17]\tvalid_0's binary_logloss: 0.00822831\n",
      "[18]\tvalid_0's binary_logloss: 0.00804939\n",
      "[19]\tvalid_0's binary_logloss: 0.00789845\n",
      "[20]\tvalid_0's binary_logloss: 0.00772795\n",
      "Did not meet early stopping. Best iteration is:\n",
      "[20]\tvalid_0's binary_logloss: 0.00772795\n"
     ]
    },
    {
     "name": "stderr",
     "output_type": "stream",
     "text": [
      "/anaconda3/lib/python3.6/site-packages/sklearn/preprocessing/label.py:151: DeprecationWarning: The truth value of an empty array is ambiguous. Returning False, but in future this will result in an error. Use `array.size > 0` to check that an array is not empty.\n",
      "  if diff:\n",
      "/anaconda3/lib/python3.6/site-packages/sklearn/preprocessing/label.py:151: DeprecationWarning: The truth value of an empty array is ambiguous. Returning False, but in future this will result in an error. Use `array.size > 0` to check that an array is not empty.\n",
      "  if diff:\n"
     ]
    },
    {
     "name": "stdout",
     "output_type": "stream",
     "text": [
      "[1]\tvalid_0's binary_logloss: 0.00579156\n",
      "Training until validation scores don't improve for 10 rounds.\n",
      "[2]\tvalid_0's binary_logloss: 0.00574799\n",
      "[3]\tvalid_0's binary_logloss: 0.00570598\n",
      "[4]\tvalid_0's binary_logloss: 0.0057021\n",
      "[5]\tvalid_0's binary_logloss: 0.0056958\n",
      "[6]\tvalid_0's binary_logloss: 0.00570777\n",
      "[7]\tvalid_0's binary_logloss: 0.00571819\n",
      "[8]\tvalid_0's binary_logloss: 0.00572431\n",
      "[9]\tvalid_0's binary_logloss: 0.00572351\n",
      "[10]\tvalid_0's binary_logloss: 0.005733\n",
      "[11]\tvalid_0's binary_logloss: 0.00573386\n",
      "[12]\tvalid_0's binary_logloss: 0.00574045\n",
      "[13]\tvalid_0's binary_logloss: 0.00574493\n",
      "[14]\tvalid_0's binary_logloss: 0.00574389\n",
      "[15]\tvalid_0's binary_logloss: 0.00575112\n",
      "Early stopping, best iteration is:\n",
      "[5]\tvalid_0's binary_logloss: 0.0056958\n"
     ]
    },
    {
     "name": "stderr",
     "output_type": "stream",
     "text": [
      "/anaconda3/lib/python3.6/site-packages/sklearn/preprocessing/label.py:151: DeprecationWarning: The truth value of an empty array is ambiguous. Returning False, but in future this will result in an error. Use `array.size > 0` to check that an array is not empty.\n",
      "  if diff:\n",
      "/anaconda3/lib/python3.6/site-packages/sklearn/preprocessing/label.py:151: DeprecationWarning: The truth value of an empty array is ambiguous. Returning False, but in future this will result in an error. Use `array.size > 0` to check that an array is not empty.\n",
      "  if diff:\n"
     ]
    },
    {
     "name": "stdout",
     "output_type": "stream",
     "text": [
      "[1]\tvalid_0's binary_logloss: 0.00579064\n",
      "Training until validation scores don't improve for 10 rounds.\n",
      "[2]\tvalid_0's binary_logloss: 0.00576456\n",
      "[3]\tvalid_0's binary_logloss: 0.00573736\n",
      "[4]\tvalid_0's binary_logloss: 0.00572975\n",
      "[5]\tvalid_0's binary_logloss: 0.00573373\n",
      "[6]\tvalid_0's binary_logloss: 0.00572142\n",
      "[7]\tvalid_0's binary_logloss: 0.00570885\n",
      "[8]\tvalid_0's binary_logloss: 0.00570256\n",
      "[9]\tvalid_0's binary_logloss: 0.00569667\n",
      "[10]\tvalid_0's binary_logloss: 0.0057046\n",
      "[11]\tvalid_0's binary_logloss: 0.00570395\n",
      "[12]\tvalid_0's binary_logloss: 0.00570103\n",
      "[13]\tvalid_0's binary_logloss: 0.00570447\n",
      "[14]\tvalid_0's binary_logloss: 0.00570116\n",
      "[15]\tvalid_0's binary_logloss: 0.00570861\n",
      "[16]\tvalid_0's binary_logloss: 0.00570568\n",
      "[17]\tvalid_0's binary_logloss: 0.00570407\n",
      "[18]\tvalid_0's binary_logloss: 0.00570819\n",
      "[19]\tvalid_0's binary_logloss: 0.00570951\n",
      "Early stopping, best iteration is:\n",
      "[9]\tvalid_0's binary_logloss: 0.00569667\n"
     ]
    },
    {
     "name": "stderr",
     "output_type": "stream",
     "text": [
      "/anaconda3/lib/python3.6/site-packages/sklearn/preprocessing/label.py:151: DeprecationWarning: The truth value of an empty array is ambiguous. Returning False, but in future this will result in an error. Use `array.size > 0` to check that an array is not empty.\n",
      "  if diff:\n",
      "/anaconda3/lib/python3.6/site-packages/sklearn/preprocessing/label.py:151: DeprecationWarning: The truth value of an empty array is ambiguous. Returning False, but in future this will result in an error. Use `array.size > 0` to check that an array is not empty.\n",
      "  if diff:\n"
     ]
    },
    {
     "name": "stdout",
     "output_type": "stream",
     "text": [
      "[1]\tvalid_0's binary_logloss: 0.0056916\n",
      "Training until validation scores don't improve for 10 rounds.\n",
      "[2]\tvalid_0's binary_logloss: 0.00566081\n",
      "[3]\tvalid_0's binary_logloss: 0.00565234\n",
      "[4]\tvalid_0's binary_logloss: 0.00565697\n",
      "[5]\tvalid_0's binary_logloss: 0.00566633\n",
      "[6]\tvalid_0's binary_logloss: 0.0056724\n",
      "[7]\tvalid_0's binary_logloss: 0.00567227\n",
      "[8]\tvalid_0's binary_logloss: 0.00568547\n",
      "[9]\tvalid_0's binary_logloss: 0.00568458\n",
      "[10]\tvalid_0's binary_logloss: 0.00569042\n",
      "[11]\tvalid_0's binary_logloss: 0.00568492\n",
      "[12]\tvalid_0's binary_logloss: 0.00568868\n",
      "[13]\tvalid_0's binary_logloss: 0.00569702\n",
      "Early stopping, best iteration is:\n",
      "[3]\tvalid_0's binary_logloss: 0.00565234\n"
     ]
    },
    {
     "name": "stderr",
     "output_type": "stream",
     "text": [
      "/anaconda3/lib/python3.6/site-packages/sklearn/preprocessing/label.py:151: DeprecationWarning: The truth value of an empty array is ambiguous. Returning False, but in future this will result in an error. Use `array.size > 0` to check that an array is not empty.\n",
      "  if diff:\n",
      "/anaconda3/lib/python3.6/site-packages/sklearn/preprocessing/label.py:151: DeprecationWarning: The truth value of an empty array is ambiguous. Returning False, but in future this will result in an error. Use `array.size > 0` to check that an array is not empty.\n",
      "  if diff:\n"
     ]
    },
    {
     "name": "stdout",
     "output_type": "stream",
     "text": [
      "[1]\tvalid_0's binary_logloss: 0.00676756\n",
      "Training until validation scores don't improve for 10 rounds.\n",
      "[2]\tvalid_0's binary_logloss: 0.00667228\n",
      "[3]\tvalid_0's binary_logloss: 0.00659405\n",
      "[4]\tvalid_0's binary_logloss: 0.00657937\n",
      "[5]\tvalid_0's binary_logloss: 0.0065701\n",
      "[6]\tvalid_0's binary_logloss: 0.00655354\n",
      "[7]\tvalid_0's binary_logloss: 0.00652649\n",
      "[8]\tvalid_0's binary_logloss: 0.00651781\n",
      "[9]\tvalid_0's binary_logloss: 0.0065013\n",
      "[10]\tvalid_0's binary_logloss: 0.00648466\n",
      "[11]\tvalid_0's binary_logloss: 0.00646109\n",
      "[12]\tvalid_0's binary_logloss: 0.0064425\n",
      "[13]\tvalid_0's binary_logloss: 0.00642674\n",
      "[14]\tvalid_0's binary_logloss: 0.00641576\n",
      "[15]\tvalid_0's binary_logloss: 0.00639979\n",
      "[16]\tvalid_0's binary_logloss: 0.00638855\n",
      "[17]\tvalid_0's binary_logloss: 0.00638005\n",
      "[18]\tvalid_0's binary_logloss: 0.00636119\n",
      "[19]\tvalid_0's binary_logloss: 0.00634356\n",
      "[20]\tvalid_0's binary_logloss: 0.00631772\n",
      "Did not meet early stopping. Best iteration is:\n",
      "[20]\tvalid_0's binary_logloss: 0.00631772\n"
     ]
    },
    {
     "name": "stderr",
     "output_type": "stream",
     "text": [
      "/anaconda3/lib/python3.6/site-packages/sklearn/preprocessing/label.py:151: DeprecationWarning: The truth value of an empty array is ambiguous. Returning False, but in future this will result in an error. Use `array.size > 0` to check that an array is not empty.\n",
      "  if diff:\n",
      "/anaconda3/lib/python3.6/site-packages/sklearn/preprocessing/label.py:151: DeprecationWarning: The truth value of an empty array is ambiguous. Returning False, but in future this will result in an error. Use `array.size > 0` to check that an array is not empty.\n",
      "  if diff:\n"
     ]
    },
    {
     "name": "stdout",
     "output_type": "stream",
     "text": [
      "[1]\tvalid_0's binary_logloss: 0.00670279\n",
      "Training until validation scores don't improve for 10 rounds.\n",
      "[2]\tvalid_0's binary_logloss: 0.00665314\n",
      "[3]\tvalid_0's binary_logloss: 0.00658552\n",
      "[4]\tvalid_0's binary_logloss: 0.00654771\n",
      "[5]\tvalid_0's binary_logloss: 0.00654649\n",
      "[6]\tvalid_0's binary_logloss: 0.00652882\n",
      "[7]\tvalid_0's binary_logloss: 0.00650887\n",
      "[8]\tvalid_0's binary_logloss: 0.00647922\n",
      "[9]\tvalid_0's binary_logloss: 0.00645709\n",
      "[10]\tvalid_0's binary_logloss: 0.00644369\n",
      "[11]\tvalid_0's binary_logloss: 0.00642573\n",
      "[12]\tvalid_0's binary_logloss: 0.00641167\n",
      "[13]\tvalid_0's binary_logloss: 0.0063976\n",
      "[14]\tvalid_0's binary_logloss: 0.00638063\n",
      "[15]\tvalid_0's binary_logloss: 0.00637434\n",
      "[16]\tvalid_0's binary_logloss: 0.0063599\n",
      "[17]\tvalid_0's binary_logloss: 0.00634717\n",
      "[18]\tvalid_0's binary_logloss: 0.00633855\n",
      "[19]\tvalid_0's binary_logloss: 0.00632836\n",
      "[20]\tvalid_0's binary_logloss: 0.00630853\n",
      "Did not meet early stopping. Best iteration is:\n",
      "[20]\tvalid_0's binary_logloss: 0.00630853\n"
     ]
    },
    {
     "name": "stderr",
     "output_type": "stream",
     "text": [
      "/anaconda3/lib/python3.6/site-packages/sklearn/preprocessing/label.py:151: DeprecationWarning: The truth value of an empty array is ambiguous. Returning False, but in future this will result in an error. Use `array.size > 0` to check that an array is not empty.\n",
      "  if diff:\n",
      "/anaconda3/lib/python3.6/site-packages/sklearn/preprocessing/label.py:151: DeprecationWarning: The truth value of an empty array is ambiguous. Returning False, but in future this will result in an error. Use `array.size > 0` to check that an array is not empty.\n",
      "  if diff:\n"
     ]
    },
    {
     "name": "stdout",
     "output_type": "stream",
     "text": [
      "[1]\tvalid_0's binary_logloss: 0.00616377\n",
      "Training until validation scores don't improve for 10 rounds.\n",
      "[2]\tvalid_0's binary_logloss: 0.00617574\n",
      "[3]\tvalid_0's binary_logloss: 0.00616235\n",
      "[4]\tvalid_0's binary_logloss: 0.0061559\n",
      "[5]\tvalid_0's binary_logloss: 0.00616354\n",
      "[6]\tvalid_0's binary_logloss: 0.00618664\n",
      "[7]\tvalid_0's binary_logloss: 0.00620298\n",
      "[8]\tvalid_0's binary_logloss: 0.00622019\n",
      "[9]\tvalid_0's binary_logloss: 0.00623199\n",
      "[10]\tvalid_0's binary_logloss: 0.00622801\n",
      "[11]\tvalid_0's binary_logloss: 0.00623149\n",
      "[12]\tvalid_0's binary_logloss: 0.00624226\n",
      "[13]\tvalid_0's binary_logloss: 0.00624794\n",
      "[14]\tvalid_0's binary_logloss: 0.00624153\n",
      "Early stopping, best iteration is:\n",
      "[4]\tvalid_0's binary_logloss: 0.0061559\n"
     ]
    },
    {
     "name": "stderr",
     "output_type": "stream",
     "text": [
      "/anaconda3/lib/python3.6/site-packages/sklearn/preprocessing/label.py:151: DeprecationWarning: The truth value of an empty array is ambiguous. Returning False, but in future this will result in an error. Use `array.size > 0` to check that an array is not empty.\n",
      "  if diff:\n",
      "/anaconda3/lib/python3.6/site-packages/sklearn/preprocessing/label.py:151: DeprecationWarning: The truth value of an empty array is ambiguous. Returning False, but in future this will result in an error. Use `array.size > 0` to check that an array is not empty.\n",
      "  if diff:\n"
     ]
    },
    {
     "name": "stdout",
     "output_type": "stream",
     "text": [
      "[1]\tvalid_0's binary_logloss: 0.00965654\n",
      "Training until validation scores don't improve for 10 rounds.\n",
      "[2]\tvalid_0's binary_logloss: 0.00933234\n",
      "[3]\tvalid_0's binary_logloss: 0.00902715\n",
      "[4]\tvalid_0's binary_logloss: 0.00882288\n",
      "[5]\tvalid_0's binary_logloss: 0.00862108\n",
      "[6]\tvalid_0's binary_logloss: 0.00843117\n",
      "[7]\tvalid_0's binary_logloss: 0.00825775\n",
      "[8]\tvalid_0's binary_logloss: 0.00812966\n",
      "[9]\tvalid_0's binary_logloss: 0.00799639\n",
      "[10]\tvalid_0's binary_logloss: 0.007896\n",
      "[11]\tvalid_0's binary_logloss: 0.00781464\n",
      "[12]\tvalid_0's binary_logloss: 0.00772347\n",
      "[13]\tvalid_0's binary_logloss: 0.00764971\n",
      "[14]\tvalid_0's binary_logloss: 0.00758399\n",
      "[15]\tvalid_0's binary_logloss: 0.0075029\n",
      "[16]\tvalid_0's binary_logloss: 0.0074258\n",
      "[17]\tvalid_0's binary_logloss: 0.00734274\n",
      "[18]\tvalid_0's binary_logloss: 0.00728309\n",
      "[19]\tvalid_0's binary_logloss: 0.00723843\n",
      "[20]\tvalid_0's binary_logloss: 0.00718431\n",
      "Did not meet early stopping. Best iteration is:\n",
      "[20]\tvalid_0's binary_logloss: 0.00718431\n"
     ]
    },
    {
     "name": "stderr",
     "output_type": "stream",
     "text": [
      "/anaconda3/lib/python3.6/site-packages/sklearn/preprocessing/label.py:151: DeprecationWarning: The truth value of an empty array is ambiguous. Returning False, but in future this will result in an error. Use `array.size > 0` to check that an array is not empty.\n",
      "  if diff:\n",
      "/anaconda3/lib/python3.6/site-packages/sklearn/preprocessing/label.py:151: DeprecationWarning: The truth value of an empty array is ambiguous. Returning False, but in future this will result in an error. Use `array.size > 0` to check that an array is not empty.\n",
      "  if diff:\n"
     ]
    },
    {
     "name": "stdout",
     "output_type": "stream",
     "text": [
      "[1]\tvalid_0's binary_logloss: 0.00945103\n",
      "Training until validation scores don't improve for 10 rounds.\n",
      "[2]\tvalid_0's binary_logloss: 0.00913715\n",
      "[3]\tvalid_0's binary_logloss: 0.00887092\n",
      "[4]\tvalid_0's binary_logloss: 0.00862854\n",
      "[5]\tvalid_0's binary_logloss: 0.00846368\n",
      "[6]\tvalid_0's binary_logloss: 0.0082832\n",
      "[7]\tvalid_0's binary_logloss: 0.00814011\n",
      "[8]\tvalid_0's binary_logloss: 0.00803087\n",
      "[9]\tvalid_0's binary_logloss: 0.00790017\n",
      "[10]\tvalid_0's binary_logloss: 0.00781385\n",
      "[11]\tvalid_0's binary_logloss: 0.00774072\n",
      "[12]\tvalid_0's binary_logloss: 0.00765071\n",
      "[13]\tvalid_0's binary_logloss: 0.00759448\n",
      "[14]\tvalid_0's binary_logloss: 0.00754341\n",
      "[15]\tvalid_0's binary_logloss: 0.00749029\n",
      "[16]\tvalid_0's binary_logloss: 0.00742038\n",
      "[17]\tvalid_0's binary_logloss: 0.00735315\n",
      "[18]\tvalid_0's binary_logloss: 0.00729806\n",
      "[19]\tvalid_0's binary_logloss: 0.0072464\n",
      "[20]\tvalid_0's binary_logloss: 0.00719088\n",
      "Did not meet early stopping. Best iteration is:\n",
      "[20]\tvalid_0's binary_logloss: 0.00719088\n"
     ]
    },
    {
     "name": "stderr",
     "output_type": "stream",
     "text": [
      "/anaconda3/lib/python3.6/site-packages/sklearn/preprocessing/label.py:151: DeprecationWarning: The truth value of an empty array is ambiguous. Returning False, but in future this will result in an error. Use `array.size > 0` to check that an array is not empty.\n",
      "  if diff:\n",
      "/anaconda3/lib/python3.6/site-packages/sklearn/preprocessing/label.py:151: DeprecationWarning: The truth value of an empty array is ambiguous. Returning False, but in future this will result in an error. Use `array.size > 0` to check that an array is not empty.\n",
      "  if diff:\n"
     ]
    },
    {
     "name": "stdout",
     "output_type": "stream",
     "text": [
      "[1]\tvalid_0's binary_logloss: 0.00796382\n",
      "Training until validation scores don't improve for 10 rounds.\n",
      "[2]\tvalid_0's binary_logloss: 0.00783317\n",
      "[3]\tvalid_0's binary_logloss: 0.0077532\n",
      "[4]\tvalid_0's binary_logloss: 0.00768271\n",
      "[5]\tvalid_0's binary_logloss: 0.00761128\n",
      "[6]\tvalid_0's binary_logloss: 0.00756181\n",
      "[7]\tvalid_0's binary_logloss: 0.00749799\n",
      "[8]\tvalid_0's binary_logloss: 0.0074343\n",
      "[9]\tvalid_0's binary_logloss: 0.00737666\n",
      "[10]\tvalid_0's binary_logloss: 0.00732837\n",
      "[11]\tvalid_0's binary_logloss: 0.00727909\n",
      "[12]\tvalid_0's binary_logloss: 0.00723424\n",
      "[13]\tvalid_0's binary_logloss: 0.00719683\n",
      "[14]\tvalid_0's binary_logloss: 0.00715724\n",
      "[15]\tvalid_0's binary_logloss: 0.00712125\n",
      "[16]\tvalid_0's binary_logloss: 0.00709637\n",
      "[17]\tvalid_0's binary_logloss: 0.00706578\n",
      "[18]\tvalid_0's binary_logloss: 0.00704073\n",
      "[19]\tvalid_0's binary_logloss: 0.00700478\n",
      "[20]\tvalid_0's binary_logloss: 0.00696719\n",
      "Did not meet early stopping. Best iteration is:\n",
      "[20]\tvalid_0's binary_logloss: 0.00696719\n"
     ]
    },
    {
     "name": "stderr",
     "output_type": "stream",
     "text": [
      "/anaconda3/lib/python3.6/site-packages/sklearn/preprocessing/label.py:151: DeprecationWarning: The truth value of an empty array is ambiguous. Returning False, but in future this will result in an error. Use `array.size > 0` to check that an array is not empty.\n",
      "  if diff:\n",
      "/anaconda3/lib/python3.6/site-packages/sklearn/preprocessing/label.py:151: DeprecationWarning: The truth value of an empty array is ambiguous. Returning False, but in future this will result in an error. Use `array.size > 0` to check that an array is not empty.\n",
      "  if diff:\n"
     ]
    },
    {
     "name": "stdout",
     "output_type": "stream",
     "text": [
      "[1]\tvalid_0's binary_logloss: 0.00571969\n",
      "Training until validation scores don't improve for 10 rounds.\n",
      "[2]\tvalid_0's binary_logloss: 0.00568639\n",
      "[3]\tvalid_0's binary_logloss: 0.00565977\n",
      "[4]\tvalid_0's binary_logloss: 0.00563319\n",
      "[5]\tvalid_0's binary_logloss: 0.00560269\n",
      "[6]\tvalid_0's binary_logloss: 0.00558652\n",
      "[7]\tvalid_0's binary_logloss: 0.00557006\n",
      "[8]\tvalid_0's binary_logloss: 0.00554255\n",
      "[9]\tvalid_0's binary_logloss: 0.00552835\n",
      "[10]\tvalid_0's binary_logloss: 0.00551154\n",
      "[11]\tvalid_0's binary_logloss: 0.00550132\n",
      "[12]\tvalid_0's binary_logloss: 0.00548794\n",
      "[13]\tvalid_0's binary_logloss: 0.00548074\n",
      "[14]\tvalid_0's binary_logloss: 0.0054671\n",
      "[15]\tvalid_0's binary_logloss: 0.0054582\n",
      "[16]\tvalid_0's binary_logloss: 0.00544667\n",
      "[17]\tvalid_0's binary_logloss: 0.00543476\n",
      "[18]\tvalid_0's binary_logloss: 0.00542368\n",
      "[19]\tvalid_0's binary_logloss: 0.00541533\n",
      "[20]\tvalid_0's binary_logloss: 0.00540899\n",
      "Did not meet early stopping. Best iteration is:\n",
      "[20]\tvalid_0's binary_logloss: 0.00540899\n"
     ]
    },
    {
     "name": "stderr",
     "output_type": "stream",
     "text": [
      "/anaconda3/lib/python3.6/site-packages/sklearn/preprocessing/label.py:151: DeprecationWarning: The truth value of an empty array is ambiguous. Returning False, but in future this will result in an error. Use `array.size > 0` to check that an array is not empty.\n",
      "  if diff:\n",
      "/anaconda3/lib/python3.6/site-packages/sklearn/preprocessing/label.py:151: DeprecationWarning: The truth value of an empty array is ambiguous. Returning False, but in future this will result in an error. Use `array.size > 0` to check that an array is not empty.\n",
      "  if diff:\n"
     ]
    },
    {
     "name": "stdout",
     "output_type": "stream",
     "text": [
      "[1]\tvalid_0's binary_logloss: 0.0057177\n",
      "Training until validation scores don't improve for 10 rounds.\n",
      "[2]\tvalid_0's binary_logloss: 0.0056871\n",
      "[3]\tvalid_0's binary_logloss: 0.00565851\n",
      "[4]\tvalid_0's binary_logloss: 0.00563366\n",
      "[5]\tvalid_0's binary_logloss: 0.00560475\n",
      "[6]\tvalid_0's binary_logloss: 0.00558772\n",
      "[7]\tvalid_0's binary_logloss: 0.00557214\n",
      "[8]\tvalid_0's binary_logloss: 0.00554273\n",
      "[9]\tvalid_0's binary_logloss: 0.00552418\n",
      "[10]\tvalid_0's binary_logloss: 0.00550528\n",
      "[11]\tvalid_0's binary_logloss: 0.00549102\n",
      "[12]\tvalid_0's binary_logloss: 0.00548137\n",
      "[13]\tvalid_0's binary_logloss: 0.00546963\n",
      "[14]\tvalid_0's binary_logloss: 0.00545891\n",
      "[15]\tvalid_0's binary_logloss: 0.00544968\n",
      "[16]\tvalid_0's binary_logloss: 0.00543918\n",
      "[17]\tvalid_0's binary_logloss: 0.00543035\n",
      "[18]\tvalid_0's binary_logloss: 0.00542109\n",
      "[19]\tvalid_0's binary_logloss: 0.00541638\n",
      "[20]\tvalid_0's binary_logloss: 0.00540972\n",
      "Did not meet early stopping. Best iteration is:\n",
      "[20]\tvalid_0's binary_logloss: 0.00540972\n"
     ]
    },
    {
     "name": "stderr",
     "output_type": "stream",
     "text": [
      "/anaconda3/lib/python3.6/site-packages/sklearn/preprocessing/label.py:151: DeprecationWarning: The truth value of an empty array is ambiguous. Returning False, but in future this will result in an error. Use `array.size > 0` to check that an array is not empty.\n",
      "  if diff:\n",
      "/anaconda3/lib/python3.6/site-packages/sklearn/preprocessing/label.py:151: DeprecationWarning: The truth value of an empty array is ambiguous. Returning False, but in future this will result in an error. Use `array.size > 0` to check that an array is not empty.\n",
      "  if diff:\n"
     ]
    },
    {
     "name": "stdout",
     "output_type": "stream",
     "text": [
      "[1]\tvalid_0's binary_logloss: 0.00571743\n",
      "Training until validation scores don't improve for 10 rounds.\n",
      "[2]\tvalid_0's binary_logloss: 0.00568445\n",
      "[3]\tvalid_0's binary_logloss: 0.00563633\n",
      "[4]\tvalid_0's binary_logloss: 0.00560726\n",
      "[5]\tvalid_0's binary_logloss: 0.0055792\n",
      "[6]\tvalid_0's binary_logloss: 0.00556175\n",
      "[7]\tvalid_0's binary_logloss: 0.00553823\n",
      "[8]\tvalid_0's binary_logloss: 0.00551247\n",
      "[9]\tvalid_0's binary_logloss: 0.00549745\n",
      "[10]\tvalid_0's binary_logloss: 0.00548044\n",
      "[11]\tvalid_0's binary_logloss: 0.0054636\n",
      "[12]\tvalid_0's binary_logloss: 0.00545325\n",
      "[13]\tvalid_0's binary_logloss: 0.00544243\n",
      "[14]\tvalid_0's binary_logloss: 0.00543402\n",
      "[15]\tvalid_0's binary_logloss: 0.00542745\n",
      "[16]\tvalid_0's binary_logloss: 0.00541771\n",
      "[17]\tvalid_0's binary_logloss: 0.00541084\n",
      "[18]\tvalid_0's binary_logloss: 0.0054032\n",
      "[19]\tvalid_0's binary_logloss: 0.00539657\n",
      "[20]\tvalid_0's binary_logloss: 0.00538843\n",
      "Did not meet early stopping. Best iteration is:\n",
      "[20]\tvalid_0's binary_logloss: 0.00538843\n"
     ]
    },
    {
     "name": "stderr",
     "output_type": "stream",
     "text": [
      "/anaconda3/lib/python3.6/site-packages/sklearn/preprocessing/label.py:151: DeprecationWarning: The truth value of an empty array is ambiguous. Returning False, but in future this will result in an error. Use `array.size > 0` to check that an array is not empty.\n",
      "  if diff:\n",
      "/anaconda3/lib/python3.6/site-packages/sklearn/preprocessing/label.py:151: DeprecationWarning: The truth value of an empty array is ambiguous. Returning False, but in future this will result in an error. Use `array.size > 0` to check that an array is not empty.\n",
      "  if diff:\n"
     ]
    },
    {
     "name": "stdout",
     "output_type": "stream",
     "text": [
      "[1]\tvalid_0's binary_logloss: 0.00571018\n",
      "Training until validation scores don't improve for 10 rounds.\n",
      "[2]\tvalid_0's binary_logloss: 0.00567047\n",
      "[3]\tvalid_0's binary_logloss: 0.00564177\n",
      "[4]\tvalid_0's binary_logloss: 0.00561147\n",
      "[5]\tvalid_0's binary_logloss: 0.00557783\n",
      "[6]\tvalid_0's binary_logloss: 0.00556177\n",
      "[7]\tvalid_0's binary_logloss: 0.00554699\n",
      "[8]\tvalid_0's binary_logloss: 0.00552004\n",
      "[9]\tvalid_0's binary_logloss: 0.0055023\n",
      "[10]\tvalid_0's binary_logloss: 0.00548667\n",
      "[11]\tvalid_0's binary_logloss: 0.00547571\n",
      "[12]\tvalid_0's binary_logloss: 0.00546844\n",
      "[13]\tvalid_0's binary_logloss: 0.00546012\n",
      "[14]\tvalid_0's binary_logloss: 0.00545623\n",
      "[15]\tvalid_0's binary_logloss: 0.00545039\n",
      "[16]\tvalid_0's binary_logloss: 0.00544245\n",
      "[17]\tvalid_0's binary_logloss: 0.00543467\n",
      "[18]\tvalid_0's binary_logloss: 0.00542767\n",
      "[19]\tvalid_0's binary_logloss: 0.00542258\n",
      "[20]\tvalid_0's binary_logloss: 0.00541909\n",
      "Did not meet early stopping. Best iteration is:\n",
      "[20]\tvalid_0's binary_logloss: 0.00541909\n"
     ]
    },
    {
     "name": "stderr",
     "output_type": "stream",
     "text": [
      "/anaconda3/lib/python3.6/site-packages/sklearn/preprocessing/label.py:151: DeprecationWarning: The truth value of an empty array is ambiguous. Returning False, but in future this will result in an error. Use `array.size > 0` to check that an array is not empty.\n",
      "  if diff:\n",
      "/anaconda3/lib/python3.6/site-packages/sklearn/preprocessing/label.py:151: DeprecationWarning: The truth value of an empty array is ambiguous. Returning False, but in future this will result in an error. Use `array.size > 0` to check that an array is not empty.\n",
      "  if diff:\n"
     ]
    },
    {
     "name": "stdout",
     "output_type": "stream",
     "text": [
      "[1]\tvalid_0's binary_logloss: 0.00570806\n",
      "Training until validation scores don't improve for 10 rounds.\n",
      "[2]\tvalid_0's binary_logloss: 0.0056703\n",
      "[3]\tvalid_0's binary_logloss: 0.00563907\n",
      "[4]\tvalid_0's binary_logloss: 0.00560921\n",
      "[5]\tvalid_0's binary_logloss: 0.00557787\n",
      "[6]\tvalid_0's binary_logloss: 0.00556116\n",
      "[7]\tvalid_0's binary_logloss: 0.00554634\n",
      "[8]\tvalid_0's binary_logloss: 0.00551809\n",
      "[9]\tvalid_0's binary_logloss: 0.00549991\n",
      "[10]\tvalid_0's binary_logloss: 0.00548286\n",
      "[11]\tvalid_0's binary_logloss: 0.00546819\n",
      "[12]\tvalid_0's binary_logloss: 0.00546012\n",
      "[13]\tvalid_0's binary_logloss: 0.00545318\n",
      "[14]\tvalid_0's binary_logloss: 0.00544485\n",
      "[15]\tvalid_0's binary_logloss: 0.00543884\n",
      "[16]\tvalid_0's binary_logloss: 0.00543089\n",
      "[17]\tvalid_0's binary_logloss: 0.00542582\n",
      "[18]\tvalid_0's binary_logloss: 0.0054196\n",
      "[19]\tvalid_0's binary_logloss: 0.00541526\n",
      "[20]\tvalid_0's binary_logloss: 0.00541068\n",
      "Did not meet early stopping. Best iteration is:\n",
      "[20]\tvalid_0's binary_logloss: 0.00541068\n"
     ]
    },
    {
     "name": "stderr",
     "output_type": "stream",
     "text": [
      "/anaconda3/lib/python3.6/site-packages/sklearn/preprocessing/label.py:151: DeprecationWarning: The truth value of an empty array is ambiguous. Returning False, but in future this will result in an error. Use `array.size > 0` to check that an array is not empty.\n",
      "  if diff:\n",
      "/anaconda3/lib/python3.6/site-packages/sklearn/preprocessing/label.py:151: DeprecationWarning: The truth value of an empty array is ambiguous. Returning False, but in future this will result in an error. Use `array.size > 0` to check that an array is not empty.\n",
      "  if diff:\n"
     ]
    },
    {
     "name": "stdout",
     "output_type": "stream",
     "text": [
      "[1]\tvalid_0's binary_logloss: 0.00570643\n",
      "Training until validation scores don't improve for 10 rounds.\n",
      "[2]\tvalid_0's binary_logloss: 0.00566562\n",
      "[3]\tvalid_0's binary_logloss: 0.00561761\n",
      "[4]\tvalid_0's binary_logloss: 0.00558556\n",
      "[5]\tvalid_0's binary_logloss: 0.0055663\n",
      "[6]\tvalid_0's binary_logloss: 0.00554833\n",
      "[7]\tvalid_0's binary_logloss: 0.0055315\n",
      "[8]\tvalid_0's binary_logloss: 0.00550467\n",
      "[9]\tvalid_0's binary_logloss: 0.00548594\n",
      "[10]\tvalid_0's binary_logloss: 0.00547028\n",
      "[11]\tvalid_0's binary_logloss: 0.00545739\n",
      "[12]\tvalid_0's binary_logloss: 0.00544486\n",
      "[13]\tvalid_0's binary_logloss: 0.0054385\n",
      "[14]\tvalid_0's binary_logloss: 0.00542855\n",
      "[15]\tvalid_0's binary_logloss: 0.00542267\n",
      "[16]\tvalid_0's binary_logloss: 0.00541392\n",
      "[17]\tvalid_0's binary_logloss: 0.00540969\n",
      "[18]\tvalid_0's binary_logloss: 0.00540472\n",
      "[19]\tvalid_0's binary_logloss: 0.00540059\n",
      "[20]\tvalid_0's binary_logloss: 0.00539642\n",
      "Did not meet early stopping. Best iteration is:\n",
      "[20]\tvalid_0's binary_logloss: 0.00539642\n"
     ]
    },
    {
     "name": "stderr",
     "output_type": "stream",
     "text": [
      "/anaconda3/lib/python3.6/site-packages/sklearn/preprocessing/label.py:151: DeprecationWarning: The truth value of an empty array is ambiguous. Returning False, but in future this will result in an error. Use `array.size > 0` to check that an array is not empty.\n",
      "  if diff:\n",
      "/anaconda3/lib/python3.6/site-packages/sklearn/preprocessing/label.py:151: DeprecationWarning: The truth value of an empty array is ambiguous. Returning False, but in future this will result in an error. Use `array.size > 0` to check that an array is not empty.\n",
      "  if diff:\n"
     ]
    },
    {
     "name": "stdout",
     "output_type": "stream",
     "text": [
      "[1]\tvalid_0's binary_logloss: 0.00569613\n",
      "Training until validation scores don't improve for 10 rounds.\n",
      "[2]\tvalid_0's binary_logloss: 0.00564904\n",
      "[3]\tvalid_0's binary_logloss: 0.00561979\n",
      "[4]\tvalid_0's binary_logloss: 0.00558764\n",
      "[5]\tvalid_0's binary_logloss: 0.00555073\n",
      "[6]\tvalid_0's binary_logloss: 0.00553211\n",
      "[7]\tvalid_0's binary_logloss: 0.00551102\n",
      "[8]\tvalid_0's binary_logloss: 0.0054876\n",
      "[9]\tvalid_0's binary_logloss: 0.00547309\n",
      "[10]\tvalid_0's binary_logloss: 0.00546093\n",
      "[11]\tvalid_0's binary_logloss: 0.00545166\n",
      "[12]\tvalid_0's binary_logloss: 0.00545015\n",
      "[13]\tvalid_0's binary_logloss: 0.00544618\n",
      "[14]\tvalid_0's binary_logloss: 0.00543873\n",
      "[15]\tvalid_0's binary_logloss: 0.00543755\n",
      "[16]\tvalid_0's binary_logloss: 0.00543493\n",
      "[17]\tvalid_0's binary_logloss: 0.00542928\n",
      "[18]\tvalid_0's binary_logloss: 0.00542578\n",
      "[19]\tvalid_0's binary_logloss: 0.00542469\n",
      "[20]\tvalid_0's binary_logloss: 0.00542286\n",
      "Did not meet early stopping. Best iteration is:\n",
      "[20]\tvalid_0's binary_logloss: 0.00542286\n"
     ]
    },
    {
     "name": "stderr",
     "output_type": "stream",
     "text": [
      "/anaconda3/lib/python3.6/site-packages/sklearn/preprocessing/label.py:151: DeprecationWarning: The truth value of an empty array is ambiguous. Returning False, but in future this will result in an error. Use `array.size > 0` to check that an array is not empty.\n",
      "  if diff:\n",
      "/anaconda3/lib/python3.6/site-packages/sklearn/preprocessing/label.py:151: DeprecationWarning: The truth value of an empty array is ambiguous. Returning False, but in future this will result in an error. Use `array.size > 0` to check that an array is not empty.\n",
      "  if diff:\n"
     ]
    },
    {
     "name": "stdout",
     "output_type": "stream",
     "text": [
      "[1]\tvalid_0's binary_logloss: 0.0056975\n",
      "Training until validation scores don't improve for 10 rounds.\n",
      "[2]\tvalid_0's binary_logloss: 0.00565292\n",
      "[3]\tvalid_0's binary_logloss: 0.00562142\n",
      "[4]\tvalid_0's binary_logloss: 0.00559084\n",
      "[5]\tvalid_0's binary_logloss: 0.00555734\n",
      "[6]\tvalid_0's binary_logloss: 0.00554188\n",
      "[7]\tvalid_0's binary_logloss: 0.00551888\n",
      "[8]\tvalid_0's binary_logloss: 0.0054934\n",
      "[9]\tvalid_0's binary_logloss: 0.00547703\n",
      "[10]\tvalid_0's binary_logloss: 0.00546396\n",
      "[11]\tvalid_0's binary_logloss: 0.00545301\n",
      "[12]\tvalid_0's binary_logloss: 0.00544934\n",
      "[13]\tvalid_0's binary_logloss: 0.00544753\n",
      "[14]\tvalid_0's binary_logloss: 0.00544253\n",
      "[15]\tvalid_0's binary_logloss: 0.00543852\n",
      "[16]\tvalid_0's binary_logloss: 0.00543505\n",
      "[17]\tvalid_0's binary_logloss: 0.00543195\n",
      "[18]\tvalid_0's binary_logloss: 0.00543035\n",
      "[19]\tvalid_0's binary_logloss: 0.00543318\n",
      "[20]\tvalid_0's binary_logloss: 0.00543102\n",
      "Did not meet early stopping. Best iteration is:\n",
      "[18]\tvalid_0's binary_logloss: 0.00543035\n"
     ]
    },
    {
     "name": "stderr",
     "output_type": "stream",
     "text": [
      "/anaconda3/lib/python3.6/site-packages/sklearn/preprocessing/label.py:151: DeprecationWarning: The truth value of an empty array is ambiguous. Returning False, but in future this will result in an error. Use `array.size > 0` to check that an array is not empty.\n",
      "  if diff:\n",
      "/anaconda3/lib/python3.6/site-packages/sklearn/preprocessing/label.py:151: DeprecationWarning: The truth value of an empty array is ambiguous. Returning False, but in future this will result in an error. Use `array.size > 0` to check that an array is not empty.\n",
      "  if diff:\n"
     ]
    },
    {
     "name": "stdout",
     "output_type": "stream",
     "text": [
      "[1]\tvalid_0's binary_logloss: 0.00569205\n",
      "Training until validation scores don't improve for 10 rounds.\n",
      "[2]\tvalid_0's binary_logloss: 0.00564245\n",
      "[3]\tvalid_0's binary_logloss: 0.00559062\n",
      "[4]\tvalid_0's binary_logloss: 0.00555958\n",
      "[5]\tvalid_0's binary_logloss: 0.00554253\n",
      "[6]\tvalid_0's binary_logloss: 0.0055258\n",
      "[7]\tvalid_0's binary_logloss: 0.00551249\n",
      "[8]\tvalid_0's binary_logloss: 0.0054879\n",
      "[9]\tvalid_0's binary_logloss: 0.00547134\n",
      "[10]\tvalid_0's binary_logloss: 0.00545907\n",
      "[11]\tvalid_0's binary_logloss: 0.00545031\n",
      "[12]\tvalid_0's binary_logloss: 0.00544362\n",
      "[13]\tvalid_0's binary_logloss: 0.00544165\n",
      "[14]\tvalid_0's binary_logloss: 0.00543811\n",
      "[15]\tvalid_0's binary_logloss: 0.00543589\n",
      "[16]\tvalid_0's binary_logloss: 0.00543133\n",
      "[17]\tvalid_0's binary_logloss: 0.00542909\n",
      "[18]\tvalid_0's binary_logloss: 0.00542704\n",
      "[19]\tvalid_0's binary_logloss: 0.00542529\n",
      "[20]\tvalid_0's binary_logloss: 0.00542357\n",
      "Did not meet early stopping. Best iteration is:\n",
      "[20]\tvalid_0's binary_logloss: 0.00542357\n"
     ]
    },
    {
     "name": "stderr",
     "output_type": "stream",
     "text": [
      "/anaconda3/lib/python3.6/site-packages/sklearn/preprocessing/label.py:151: DeprecationWarning: The truth value of an empty array is ambiguous. Returning False, but in future this will result in an error. Use `array.size > 0` to check that an array is not empty.\n",
      "  if diff:\n",
      "/anaconda3/lib/python3.6/site-packages/sklearn/preprocessing/label.py:151: DeprecationWarning: The truth value of an empty array is ambiguous. Returning False, but in future this will result in an error. Use `array.size > 0` to check that an array is not empty.\n",
      "  if diff:\n"
     ]
    },
    {
     "name": "stdout",
     "output_type": "stream",
     "text": [
      "[1]\tvalid_0's binary_logloss: 0.00575373\n",
      "Training until validation scores don't improve for 10 rounds.\n",
      "[2]\tvalid_0's binary_logloss: 0.00574997\n",
      "[3]\tvalid_0's binary_logloss: 0.00574595\n",
      "[4]\tvalid_0's binary_logloss: 0.00574184\n",
      "[5]\tvalid_0's binary_logloss: 0.00573751\n",
      "[6]\tvalid_0's binary_logloss: 0.00573408\n",
      "[7]\tvalid_0's binary_logloss: 0.00573079\n",
      "[8]\tvalid_0's binary_logloss: 0.00572716\n",
      "[9]\tvalid_0's binary_logloss: 0.00572363\n",
      "[10]\tvalid_0's binary_logloss: 0.00572017\n",
      "[11]\tvalid_0's binary_logloss: 0.00571577\n",
      "[12]\tvalid_0's binary_logloss: 0.00571319\n",
      "[13]\tvalid_0's binary_logloss: 0.00571043\n",
      "[14]\tvalid_0's binary_logloss: 0.00570621\n",
      "[15]\tvalid_0's binary_logloss: 0.00570259\n",
      "[16]\tvalid_0's binary_logloss: 0.00569803\n",
      "[17]\tvalid_0's binary_logloss: 0.00569492\n",
      "[18]\tvalid_0's binary_logloss: 0.00569064\n",
      "[19]\tvalid_0's binary_logloss: 0.00568709\n",
      "[20]\tvalid_0's binary_logloss: 0.00568298\n",
      "Did not meet early stopping. Best iteration is:\n",
      "[20]\tvalid_0's binary_logloss: 0.00568298\n"
     ]
    },
    {
     "name": "stderr",
     "output_type": "stream",
     "text": [
      "/anaconda3/lib/python3.6/site-packages/sklearn/preprocessing/label.py:151: DeprecationWarning: The truth value of an empty array is ambiguous. Returning False, but in future this will result in an error. Use `array.size > 0` to check that an array is not empty.\n",
      "  if diff:\n",
      "/anaconda3/lib/python3.6/site-packages/sklearn/preprocessing/label.py:151: DeprecationWarning: The truth value of an empty array is ambiguous. Returning False, but in future this will result in an error. Use `array.size > 0` to check that an array is not empty.\n",
      "  if diff:\n"
     ]
    },
    {
     "name": "stdout",
     "output_type": "stream",
     "text": [
      "[1]\tvalid_0's binary_logloss: 0.00575352\n",
      "Training until validation scores don't improve for 10 rounds.\n",
      "[2]\tvalid_0's binary_logloss: 0.00575015\n",
      "[3]\tvalid_0's binary_logloss: 0.00574621\n",
      "[4]\tvalid_0's binary_logloss: 0.00574202\n",
      "[5]\tvalid_0's binary_logloss: 0.00573727\n",
      "[6]\tvalid_0's binary_logloss: 0.00573426\n",
      "[7]\tvalid_0's binary_logloss: 0.00573084\n",
      "[8]\tvalid_0's binary_logloss: 0.00572709\n",
      "[9]\tvalid_0's binary_logloss: 0.00572384\n",
      "[10]\tvalid_0's binary_logloss: 0.00572021\n",
      "[11]\tvalid_0's binary_logloss: 0.00571575\n",
      "[12]\tvalid_0's binary_logloss: 0.00571297\n",
      "[13]\tvalid_0's binary_logloss: 0.00570946\n",
      "[14]\tvalid_0's binary_logloss: 0.00570606\n",
      "[15]\tvalid_0's binary_logloss: 0.0057024\n",
      "[16]\tvalid_0's binary_logloss: 0.00569776\n",
      "[17]\tvalid_0's binary_logloss: 0.00569459\n",
      "[18]\tvalid_0's binary_logloss: 0.00569033\n",
      "[19]\tvalid_0's binary_logloss: 0.00568691\n",
      "[20]\tvalid_0's binary_logloss: 0.00568297\n",
      "Did not meet early stopping. Best iteration is:\n",
      "[20]\tvalid_0's binary_logloss: 0.00568297\n"
     ]
    },
    {
     "name": "stderr",
     "output_type": "stream",
     "text": [
      "/anaconda3/lib/python3.6/site-packages/sklearn/preprocessing/label.py:151: DeprecationWarning: The truth value of an empty array is ambiguous. Returning False, but in future this will result in an error. Use `array.size > 0` to check that an array is not empty.\n",
      "  if diff:\n",
      "/anaconda3/lib/python3.6/site-packages/sklearn/preprocessing/label.py:151: DeprecationWarning: The truth value of an empty array is ambiguous. Returning False, but in future this will result in an error. Use `array.size > 0` to check that an array is not empty.\n",
      "  if diff:\n"
     ]
    },
    {
     "name": "stdout",
     "output_type": "stream",
     "text": [
      "[1]\tvalid_0's binary_logloss: 0.00575349\n",
      "Training until validation scores don't improve for 10 rounds.\n",
      "[2]\tvalid_0's binary_logloss: 0.00574983\n",
      "[3]\tvalid_0's binary_logloss: 0.00574556\n",
      "[4]\tvalid_0's binary_logloss: 0.00574121\n",
      "[5]\tvalid_0's binary_logloss: 0.00573633\n",
      "[6]\tvalid_0's binary_logloss: 0.00573297\n",
      "[7]\tvalid_0's binary_logloss: 0.00572944\n",
      "[8]\tvalid_0's binary_logloss: 0.00572583\n",
      "[9]\tvalid_0's binary_logloss: 0.00572236\n",
      "[10]\tvalid_0's binary_logloss: 0.005719\n",
      "[11]\tvalid_0's binary_logloss: 0.00571405\n",
      "[12]\tvalid_0's binary_logloss: 0.00571121\n",
      "[13]\tvalid_0's binary_logloss: 0.00570799\n",
      "[14]\tvalid_0's binary_logloss: 0.00570392\n",
      "[15]\tvalid_0's binary_logloss: 0.00570047\n",
      "[16]\tvalid_0's binary_logloss: 0.00569602\n",
      "[17]\tvalid_0's binary_logloss: 0.0056929\n",
      "[18]\tvalid_0's binary_logloss: 0.00568855\n",
      "[19]\tvalid_0's binary_logloss: 0.00568522\n",
      "[20]\tvalid_0's binary_logloss: 0.0056811\n",
      "Did not meet early stopping. Best iteration is:\n",
      "[20]\tvalid_0's binary_logloss: 0.0056811\n"
     ]
    },
    {
     "name": "stderr",
     "output_type": "stream",
     "text": [
      "/anaconda3/lib/python3.6/site-packages/sklearn/preprocessing/label.py:151: DeprecationWarning: The truth value of an empty array is ambiguous. Returning False, but in future this will result in an error. Use `array.size > 0` to check that an array is not empty.\n",
      "  if diff:\n",
      "/anaconda3/lib/python3.6/site-packages/sklearn/preprocessing/label.py:151: DeprecationWarning: The truth value of an empty array is ambiguous. Returning False, but in future this will result in an error. Use `array.size > 0` to check that an array is not empty.\n",
      "  if diff:\n"
     ]
    },
    {
     "name": "stdout",
     "output_type": "stream",
     "text": [
      "[1]\tvalid_0's binary_logloss: 0.00575268\n",
      "Training until validation scores don't improve for 10 rounds.\n",
      "[2]\tvalid_0's binary_logloss: 0.00574796\n",
      "[3]\tvalid_0's binary_logloss: 0.00574292\n",
      "[4]\tvalid_0's binary_logloss: 0.00573756\n",
      "[5]\tvalid_0's binary_logloss: 0.00573201\n",
      "[6]\tvalid_0's binary_logloss: 0.00572778\n",
      "[7]\tvalid_0's binary_logloss: 0.0057236\n",
      "[8]\tvalid_0's binary_logloss: 0.00571895\n",
      "[9]\tvalid_0's binary_logloss: 0.00571473\n",
      "[10]\tvalid_0's binary_logloss: 0.00571036\n",
      "[11]\tvalid_0's binary_logloss: 0.00570482\n",
      "[12]\tvalid_0's binary_logloss: 0.00570183\n",
      "[13]\tvalid_0's binary_logloss: 0.00569839\n",
      "[14]\tvalid_0's binary_logloss: 0.00569303\n",
      "[15]\tvalid_0's binary_logloss: 0.00568946\n",
      "[16]\tvalid_0's binary_logloss: 0.00568363\n",
      "[17]\tvalid_0's binary_logloss: 0.00567994\n",
      "[18]\tvalid_0's binary_logloss: 0.00567464\n",
      "[19]\tvalid_0's binary_logloss: 0.00567055\n",
      "[20]\tvalid_0's binary_logloss: 0.00566564\n",
      "Did not meet early stopping. Best iteration is:\n",
      "[20]\tvalid_0's binary_logloss: 0.00566564\n"
     ]
    },
    {
     "name": "stderr",
     "output_type": "stream",
     "text": [
      "/anaconda3/lib/python3.6/site-packages/sklearn/preprocessing/label.py:151: DeprecationWarning: The truth value of an empty array is ambiguous. Returning False, but in future this will result in an error. Use `array.size > 0` to check that an array is not empty.\n",
      "  if diff:\n",
      "/anaconda3/lib/python3.6/site-packages/sklearn/preprocessing/label.py:151: DeprecationWarning: The truth value of an empty array is ambiguous. Returning False, but in future this will result in an error. Use `array.size > 0` to check that an array is not empty.\n",
      "  if diff:\n"
     ]
    },
    {
     "name": "stdout",
     "output_type": "stream",
     "text": [
      "[1]\tvalid_0's binary_logloss: 0.00575246\n",
      "Training until validation scores don't improve for 10 rounds.\n",
      "[2]\tvalid_0's binary_logloss: 0.00574804\n",
      "[3]\tvalid_0's binary_logloss: 0.00574306\n",
      "[4]\tvalid_0's binary_logloss: 0.00573765\n",
      "[5]\tvalid_0's binary_logloss: 0.00573158\n",
      "[6]\tvalid_0's binary_logloss: 0.00572772\n",
      "[7]\tvalid_0's binary_logloss: 0.00572361\n",
      "[8]\tvalid_0's binary_logloss: 0.00571883\n",
      "[9]\tvalid_0's binary_logloss: 0.00571473\n",
      "[10]\tvalid_0's binary_logloss: 0.00571022\n",
      "[11]\tvalid_0's binary_logloss: 0.00570487\n",
      "[12]\tvalid_0's binary_logloss: 0.00570156\n",
      "[13]\tvalid_0's binary_logloss: 0.00569731\n",
      "[14]\tvalid_0's binary_logloss: 0.00569286\n",
      "[15]\tvalid_0's binary_logloss: 0.00568846\n",
      "[16]\tvalid_0's binary_logloss: 0.00568297\n",
      "[17]\tvalid_0's binary_logloss: 0.00567921\n",
      "[18]\tvalid_0's binary_logloss: 0.00567386\n",
      "[19]\tvalid_0's binary_logloss: 0.00566977\n",
      "[20]\tvalid_0's binary_logloss: 0.00566493\n",
      "Did not meet early stopping. Best iteration is:\n",
      "[20]\tvalid_0's binary_logloss: 0.00566493\n"
     ]
    },
    {
     "name": "stderr",
     "output_type": "stream",
     "text": [
      "/anaconda3/lib/python3.6/site-packages/sklearn/preprocessing/label.py:151: DeprecationWarning: The truth value of an empty array is ambiguous. Returning False, but in future this will result in an error. Use `array.size > 0` to check that an array is not empty.\n",
      "  if diff:\n",
      "/anaconda3/lib/python3.6/site-packages/sklearn/preprocessing/label.py:151: DeprecationWarning: The truth value of an empty array is ambiguous. Returning False, but in future this will result in an error. Use `array.size > 0` to check that an array is not empty.\n",
      "  if diff:\n"
     ]
    },
    {
     "name": "stdout",
     "output_type": "stream",
     "text": [
      "[1]\tvalid_0's binary_logloss: 0.00575232\n",
      "Training until validation scores don't improve for 10 rounds.\n",
      "[2]\tvalid_0's binary_logloss: 0.00574699\n",
      "[3]\tvalid_0's binary_logloss: 0.00574151\n",
      "[4]\tvalid_0's binary_logloss: 0.00573601\n",
      "[5]\tvalid_0's binary_logloss: 0.00572995\n",
      "[6]\tvalid_0's binary_logloss: 0.00572564\n",
      "[7]\tvalid_0's binary_logloss: 0.00572186\n",
      "[8]\tvalid_0's binary_logloss: 0.00571735\n",
      "[9]\tvalid_0's binary_logloss: 0.00571296\n",
      "[10]\tvalid_0's binary_logloss: 0.00570876\n",
      "[11]\tvalid_0's binary_logloss: 0.00570287\n",
      "[12]\tvalid_0's binary_logloss: 0.00569939\n",
      "[13]\tvalid_0's binary_logloss: 0.00569546\n",
      "[14]\tvalid_0's binary_logloss: 0.00569045\n",
      "[15]\tvalid_0's binary_logloss: 0.00568622\n",
      "[16]\tvalid_0's binary_logloss: 0.0056807\n",
      "[17]\tvalid_0's binary_logloss: 0.00567698\n",
      "[18]\tvalid_0's binary_logloss: 0.00567168\n",
      "[19]\tvalid_0's binary_logloss: 0.00566753\n",
      "[20]\tvalid_0's binary_logloss: 0.00566289\n",
      "Did not meet early stopping. Best iteration is:\n",
      "[20]\tvalid_0's binary_logloss: 0.00566289\n"
     ]
    },
    {
     "name": "stderr",
     "output_type": "stream",
     "text": [
      "/anaconda3/lib/python3.6/site-packages/sklearn/preprocessing/label.py:151: DeprecationWarning: The truth value of an empty array is ambiguous. Returning False, but in future this will result in an error. Use `array.size > 0` to check that an array is not empty.\n",
      "  if diff:\n",
      "/anaconda3/lib/python3.6/site-packages/sklearn/preprocessing/label.py:151: DeprecationWarning: The truth value of an empty array is ambiguous. Returning False, but in future this will result in an error. Use `array.size > 0` to check that an array is not empty.\n",
      "  if diff:\n"
     ]
    },
    {
     "name": "stdout",
     "output_type": "stream",
     "text": [
      "[1]\tvalid_0's binary_logloss: 0.00575113\n",
      "Training until validation scores don't improve for 10 rounds.\n",
      "[2]\tvalid_0's binary_logloss: 0.00574541\n",
      "[3]\tvalid_0's binary_logloss: 0.00573902\n",
      "[4]\tvalid_0's binary_logloss: 0.00573257\n",
      "[5]\tvalid_0's binary_logloss: 0.00572605\n",
      "[6]\tvalid_0's binary_logloss: 0.00572095\n",
      "[7]\tvalid_0's binary_logloss: 0.00571612\n",
      "[8]\tvalid_0's binary_logloss: 0.00571056\n",
      "[9]\tvalid_0's binary_logloss: 0.00570556\n",
      "[10]\tvalid_0's binary_logloss: 0.00570039\n",
      "[11]\tvalid_0's binary_logloss: 0.0056938\n",
      "[12]\tvalid_0's binary_logloss: 0.00569033\n",
      "[13]\tvalid_0's binary_logloss: 0.00568631\n",
      "[14]\tvalid_0's binary_logloss: 0.00568204\n",
      "[15]\tvalid_0's binary_logloss: 0.0056769\n",
      "[16]\tvalid_0's binary_logloss: 0.00567017\n",
      "[17]\tvalid_0's binary_logloss: 0.00566626\n",
      "[18]\tvalid_0's binary_logloss: 0.00566038\n",
      "[19]\tvalid_0's binary_logloss: 0.00565579\n",
      "[20]\tvalid_0's binary_logloss: 0.00565034\n",
      "Did not meet early stopping. Best iteration is:\n",
      "[20]\tvalid_0's binary_logloss: 0.00565034\n"
     ]
    },
    {
     "name": "stderr",
     "output_type": "stream",
     "text": [
      "/anaconda3/lib/python3.6/site-packages/sklearn/preprocessing/label.py:151: DeprecationWarning: The truth value of an empty array is ambiguous. Returning False, but in future this will result in an error. Use `array.size > 0` to check that an array is not empty.\n",
      "  if diff:\n",
      "/anaconda3/lib/python3.6/site-packages/sklearn/preprocessing/label.py:151: DeprecationWarning: The truth value of an empty array is ambiguous. Returning False, but in future this will result in an error. Use `array.size > 0` to check that an array is not empty.\n",
      "  if diff:\n"
     ]
    },
    {
     "name": "stdout",
     "output_type": "stream",
     "text": [
      "[1]\tvalid_0's binary_logloss: 0.00575129\n",
      "Training until validation scores don't improve for 10 rounds.\n",
      "[2]\tvalid_0's binary_logloss: 0.00574575\n",
      "[3]\tvalid_0's binary_logloss: 0.00573974\n",
      "[4]\tvalid_0's binary_logloss: 0.00573316\n",
      "[5]\tvalid_0's binary_logloss: 0.00572599\n",
      "[6]\tvalid_0's binary_logloss: 0.00572136\n",
      "[7]\tvalid_0's binary_logloss: 0.00571635\n",
      "[8]\tvalid_0's binary_logloss: 0.00571063\n",
      "[9]\tvalid_0's binary_logloss: 0.00570585\n",
      "[10]\tvalid_0's binary_logloss: 0.00570046\n",
      "[11]\tvalid_0's binary_logloss: 0.00569411\n",
      "[12]\tvalid_0's binary_logloss: 0.00569028\n",
      "[13]\tvalid_0's binary_logloss: 0.00568534\n",
      "[14]\tvalid_0's binary_logloss: 0.00568021\n",
      "[15]\tvalid_0's binary_logloss: 0.00567522\n",
      "[16]\tvalid_0's binary_logloss: 0.00566895\n",
      "[17]\tvalid_0's binary_logloss: 0.00566511\n",
      "[18]\tvalid_0's binary_logloss: 0.00565891\n",
      "[19]\tvalid_0's binary_logloss: 0.00565451\n",
      "[20]\tvalid_0's binary_logloss: 0.00564915\n",
      "Did not meet early stopping. Best iteration is:\n",
      "[20]\tvalid_0's binary_logloss: 0.00564915\n"
     ]
    },
    {
     "name": "stderr",
     "output_type": "stream",
     "text": [
      "/anaconda3/lib/python3.6/site-packages/sklearn/preprocessing/label.py:151: DeprecationWarning: The truth value of an empty array is ambiguous. Returning False, but in future this will result in an error. Use `array.size > 0` to check that an array is not empty.\n",
      "  if diff:\n",
      "/anaconda3/lib/python3.6/site-packages/sklearn/preprocessing/label.py:151: DeprecationWarning: The truth value of an empty array is ambiguous. Returning False, but in future this will result in an error. Use `array.size > 0` to check that an array is not empty.\n",
      "  if diff:\n"
     ]
    },
    {
     "name": "stdout",
     "output_type": "stream",
     "text": [
      "[1]\tvalid_0's binary_logloss: 0.0057507\n",
      "Training until validation scores don't improve for 10 rounds.\n",
      "[2]\tvalid_0's binary_logloss: 0.00574416\n",
      "[3]\tvalid_0's binary_logloss: 0.00573755\n",
      "[4]\tvalid_0's binary_logloss: 0.00573079\n",
      "[5]\tvalid_0's binary_logloss: 0.00572355\n",
      "[6]\tvalid_0's binary_logloss: 0.00571836\n",
      "[7]\tvalid_0's binary_logloss: 0.00571407\n",
      "[8]\tvalid_0's binary_logloss: 0.00570871\n",
      "[9]\tvalid_0's binary_logloss: 0.00570353\n",
      "[10]\tvalid_0's binary_logloss: 0.00569855\n",
      "[11]\tvalid_0's binary_logloss: 0.00569126\n",
      "[12]\tvalid_0's binary_logloss: 0.00568705\n",
      "[13]\tvalid_0's binary_logloss: 0.0056825\n",
      "[14]\tvalid_0's binary_logloss: 0.00567658\n",
      "[15]\tvalid_0's binary_logloss: 0.00567212\n",
      "[16]\tvalid_0's binary_logloss: 0.00566575\n",
      "[17]\tvalid_0's binary_logloss: 0.00566169\n",
      "[18]\tvalid_0's binary_logloss: 0.00565553\n",
      "[19]\tvalid_0's binary_logloss: 0.00565079\n",
      "[20]\tvalid_0's binary_logloss: 0.00564579\n",
      "Did not meet early stopping. Best iteration is:\n",
      "[20]\tvalid_0's binary_logloss: 0.00564579\n"
     ]
    },
    {
     "name": "stderr",
     "output_type": "stream",
     "text": [
      "/anaconda3/lib/python3.6/site-packages/sklearn/preprocessing/label.py:151: DeprecationWarning: The truth value of an empty array is ambiguous. Returning False, but in future this will result in an error. Use `array.size > 0` to check that an array is not empty.\n",
      "  if diff:\n",
      "/anaconda3/lib/python3.6/site-packages/sklearn/preprocessing/label.py:151: DeprecationWarning: The truth value of an empty array is ambiguous. Returning False, but in future this will result in an error. Use `array.size > 0` to check that an array is not empty.\n",
      "  if diff:\n"
     ]
    },
    {
     "name": "stdout",
     "output_type": "stream",
     "text": [
      "[1]\tvalid_0's binary_logloss: 0.015228\n",
      "Training until validation scores don't improve for 10 rounds.\n",
      "[2]\tvalid_0's binary_logloss: 0.0125418\n",
      "[3]\tvalid_0's binary_logloss: 0.0108392\n",
      "[4]\tvalid_0's binary_logloss: 0.00991041\n",
      "[5]\tvalid_0's binary_logloss: 0.00920684\n",
      "[6]\tvalid_0's binary_logloss: 0.00857512\n",
      "[7]\tvalid_0's binary_logloss: 0.00809781\n",
      "[8]\tvalid_0's binary_logloss: 0.00777436\n",
      "[9]\tvalid_0's binary_logloss: 0.00745962\n",
      "[10]\tvalid_0's binary_logloss: 0.00723676\n",
      "[11]\tvalid_0's binary_logloss: 0.0070516\n",
      "[12]\tvalid_0's binary_logloss: 0.00686524\n",
      "[13]\tvalid_0's binary_logloss: 0.00674082\n",
      "[14]\tvalid_0's binary_logloss: 0.00664086\n",
      "[15]\tvalid_0's binary_logloss: 0.00652945\n",
      "[16]\tvalid_0's binary_logloss: 0.00644068\n",
      "[17]\tvalid_0's binary_logloss: 0.00635293\n",
      "[18]\tvalid_0's binary_logloss: 0.00628071\n",
      "[19]\tvalid_0's binary_logloss: 0.00622233\n",
      "[20]\tvalid_0's binary_logloss: 0.00615692\n",
      "Did not meet early stopping. Best iteration is:\n",
      "[20]\tvalid_0's binary_logloss: 0.00615692\n"
     ]
    },
    {
     "data": {
      "text/plain": [
       "GridSearchCV(cv=None, error_score='raise',\n",
       "       estimator=LGBMClassifier(boosting_type='gbdt', class_weight=None, colsample_bytree=1.0,\n",
       "        learning_rate=0.1, max_depth=-1, min_child_samples=20,\n",
       "        min_child_weight=0.001, min_split_gain=0.0, n_estimators=100,\n",
       "        n_jobs=-1, num_leaves=31, objective=None, random_state=None,\n",
       "        reg_alpha=0.0, reg_lambda=0.0, silent=True, subsample=1.0,\n",
       "        subsample_for_bin=200000, subsample_freq=0),\n",
       "       fit_params=None, iid=True, n_jobs=1,\n",
       "       param_grid={'learning_rate': [0.15, 0.1, 0.01, 0.001], 'feature_fraction': [0.55], 'min_data_in_leaf': [5000], 'max_depth': [18], 'num_leaves': [60], 'n_estimators': [20], 'scale_pos_weight': [3, 4, 5]},\n",
       "       pre_dispatch='2*n_jobs', refit=True, return_train_score='warn',\n",
       "       scoring=None, verbose=0)"
      ]
     },
     "execution_count": 51,
     "metadata": {},
     "output_type": "execute_result"
    }
   ],
   "source": [
    "model.fit(train_data.data, train_data.label, eval_set=[(cv_data.data, cv_data.label)], early_stopping_rounds=10, eval_metric='binary_logloss')"
   ]
  },
  {
   "cell_type": "code",
   "execution_count": 52,
   "metadata": {},
   "outputs": [
    {
     "name": "stdout",
     "output_type": "stream",
     "text": [
      "LGBMClassifier(boosting_type='gbdt', class_weight=None, colsample_bytree=1.0,\n",
      "        feature_fraction=0.55, learning_rate=0.15, max_depth=18,\n",
      "        min_child_samples=20, min_child_weight=0.001,\n",
      "        min_data_in_leaf=5000, min_split_gain=0.0, n_estimators=20,\n",
      "        n_jobs=-1, num_leaves=60, objective=None, random_state=None,\n",
      "        reg_alpha=0.0, reg_lambda=0.0, scale_pos_weight=3, silent=True,\n",
      "        subsample=1.0, subsample_for_bin=200000, subsample_freq=0)\n",
      "{'feature_fraction': 0.55, 'learning_rate': 0.15, 'max_depth': 18, 'min_data_in_leaf': 5000, 'n_estimators': 20, 'num_leaves': 60, 'scale_pos_weight': 3}\n"
     ]
    }
   ],
   "source": [
    "print(model.best_estimator_)\n",
    "print(model.best_params_)"
   ]
  },
  {
   "cell_type": "code",
   "execution_count": 54,
   "metadata": {},
   "outputs": [
    {
     "name": "stdout",
     "output_type": "stream",
     "text": [
      "0.004445336987858201\n"
     ]
    }
   ],
   "source": [
    "y_true = train_data.label\n",
    "y_pred = model.predict_proba(train_data.data)\n",
    "\n",
    "print(log_loss(y_true, y_pred[:, 1]))"
   ]
  },
  {
   "cell_type": "code",
   "execution_count": 55,
   "metadata": {},
   "outputs": [
    {
     "name": "stdout",
     "output_type": "stream",
     "text": [
      "0.7713418641706553\n",
      "0.005911425842799109\n"
     ]
    }
   ],
   "source": [
    "y_true = test_data.label\n",
    "y_pred = model.predict_proba(test_data.data)\n",
    "\n",
    "fpr, tpr, thresholds = roc_curve(test_data.label, y_pred[:, 1])\n",
    "print(auc(fpr, tpr))\n",
    "print(log_loss(y_true, y_pred[:, 1]))"
   ]
  },
  {
   "cell_type": "code",
   "execution_count": 42,
   "metadata": {},
   "outputs": [],
   "source": [
    "# ##If more tuning is required\n",
    "# param_grid = {\n",
    "#     'learning_rate': [0.25, 0.2],\n",
    "#     'feature_fraction': [0.55],\n",
    "#     'min_data_in_leaf': [5000], \n",
    "#     'max_depth': [18],\n",
    "#     'num_leaves': [60],\n",
    "#     'n_estimators': [20, 25, 30],\n",
    "#     'scale_pos_weight': [3]\n",
    "# }\n",
    "\n",
    "# estimator = lgb.LGBMClassifier(num_leaves=31)\n",
    "\n",
    "# model = GridSearchCV(estimator, param_grid)"
   ]
  },
  {
   "cell_type": "code",
   "execution_count": 43,
   "metadata": {},
   "outputs": [
    {
     "name": "stdout",
     "output_type": "stream",
     "text": [
      "[1]\tvalid_0's auc: 0.664858\n",
      "Training until validation scores don't improve for 10 rounds.\n",
      "[2]\tvalid_0's auc: 0.660108\n",
      "[3]\tvalid_0's auc: 0.679713\n",
      "[4]\tvalid_0's auc: 0.677347\n",
      "[5]\tvalid_0's auc: 0.675087\n",
      "[6]\tvalid_0's auc: 0.71594\n",
      "[7]\tvalid_0's auc: 0.7162\n",
      "[8]\tvalid_0's auc: 0.71343\n",
      "[9]\tvalid_0's auc: 0.722356\n",
      "[10]\tvalid_0's auc: 0.717881\n",
      "[11]\tvalid_0's auc: 0.720788\n",
      "[12]\tvalid_0's auc: 0.719374\n",
      "[13]\tvalid_0's auc: 0.71998\n",
      "[14]\tvalid_0's auc: 0.718797\n",
      "[15]\tvalid_0's auc: 0.720875\n",
      "[16]\tvalid_0's auc: 0.719009\n",
      "[17]\tvalid_0's auc: 0.718559\n",
      "[18]\tvalid_0's auc: 0.723294\n",
      "[19]\tvalid_0's auc: 0.723172\n",
      "[20]\tvalid_0's auc: 0.722302\n",
      "Did not meet early stopping. Best iteration is:\n",
      "[18]\tvalid_0's auc: 0.723294\n"
     ]
    },
    {
     "name": "stderr",
     "output_type": "stream",
     "text": [
      "/anaconda3/lib/python3.6/site-packages/sklearn/preprocessing/label.py:151: DeprecationWarning: The truth value of an empty array is ambiguous. Returning False, but in future this will result in an error. Use `array.size > 0` to check that an array is not empty.\n",
      "  if diff:\n",
      "/anaconda3/lib/python3.6/site-packages/sklearn/preprocessing/label.py:151: DeprecationWarning: The truth value of an empty array is ambiguous. Returning False, but in future this will result in an error. Use `array.size > 0` to check that an array is not empty.\n",
      "  if diff:\n"
     ]
    },
    {
     "name": "stdout",
     "output_type": "stream",
     "text": [
      "[1]\tvalid_0's auc: 0.707263\n",
      "Training until validation scores don't improve for 10 rounds.\n",
      "[2]\tvalid_0's auc: 0.692223\n",
      "[3]\tvalid_0's auc: 0.70624\n",
      "[4]\tvalid_0's auc: 0.697566\n",
      "[5]\tvalid_0's auc: 0.69773\n",
      "[6]\tvalid_0's auc: 0.703467\n",
      "[7]\tvalid_0's auc: 0.711504\n",
      "[8]\tvalid_0's auc: 0.70998\n",
      "[9]\tvalid_0's auc: 0.722309\n",
      "[10]\tvalid_0's auc: 0.718293\n",
      "[11]\tvalid_0's auc: 0.721258\n",
      "[12]\tvalid_0's auc: 0.730255\n",
      "[13]\tvalid_0's auc: 0.727446\n",
      "[14]\tvalid_0's auc: 0.723718\n",
      "[15]\tvalid_0's auc: 0.723679\n",
      "[16]\tvalid_0's auc: 0.723629\n",
      "[17]\tvalid_0's auc: 0.721131\n",
      "[18]\tvalid_0's auc: 0.721213\n",
      "[19]\tvalid_0's auc: 0.718721\n",
      "[20]\tvalid_0's auc: 0.71848\n",
      "Did not meet early stopping. Best iteration is:\n",
      "[12]\tvalid_0's auc: 0.730255\n"
     ]
    },
    {
     "name": "stderr",
     "output_type": "stream",
     "text": [
      "/anaconda3/lib/python3.6/site-packages/sklearn/preprocessing/label.py:151: DeprecationWarning: The truth value of an empty array is ambiguous. Returning False, but in future this will result in an error. Use `array.size > 0` to check that an array is not empty.\n",
      "  if diff:\n",
      "/anaconda3/lib/python3.6/site-packages/sklearn/preprocessing/label.py:151: DeprecationWarning: The truth value of an empty array is ambiguous. Returning False, but in future this will result in an error. Use `array.size > 0` to check that an array is not empty.\n",
      "  if diff:\n"
     ]
    },
    {
     "name": "stdout",
     "output_type": "stream",
     "text": [
      "[1]\tvalid_0's auc: 0.714119\n",
      "Training until validation scores don't improve for 10 rounds.\n",
      "[2]\tvalid_0's auc: 0.707026\n",
      "[3]\tvalid_0's auc: 0.710141\n",
      "[4]\tvalid_0's auc: 0.711485\n",
      "[5]\tvalid_0's auc: 0.709457\n",
      "[6]\tvalid_0's auc: 0.70761\n",
      "[7]\tvalid_0's auc: 0.717916\n",
      "[8]\tvalid_0's auc: 0.714338\n",
      "[9]\tvalid_0's auc: 0.730682\n",
      "[10]\tvalid_0's auc: 0.729105\n",
      "[11]\tvalid_0's auc: 0.731322\n",
      "[12]\tvalid_0's auc: 0.735009\n",
      "[13]\tvalid_0's auc: 0.733345\n",
      "[14]\tvalid_0's auc: 0.730931\n",
      "[15]\tvalid_0's auc: 0.729733\n",
      "[16]\tvalid_0's auc: 0.725484\n",
      "[17]\tvalid_0's auc: 0.726253\n",
      "[18]\tvalid_0's auc: 0.727208\n",
      "[19]\tvalid_0's auc: 0.727097\n",
      "[20]\tvalid_0's auc: 0.726007\n",
      "Did not meet early stopping. Best iteration is:\n",
      "[12]\tvalid_0's auc: 0.735009\n"
     ]
    },
    {
     "name": "stderr",
     "output_type": "stream",
     "text": [
      "/anaconda3/lib/python3.6/site-packages/sklearn/preprocessing/label.py:151: DeprecationWarning: The truth value of an empty array is ambiguous. Returning False, but in future this will result in an error. Use `array.size > 0` to check that an array is not empty.\n",
      "  if diff:\n",
      "/anaconda3/lib/python3.6/site-packages/sklearn/preprocessing/label.py:151: DeprecationWarning: The truth value of an empty array is ambiguous. Returning False, but in future this will result in an error. Use `array.size > 0` to check that an array is not empty.\n",
      "  if diff:\n"
     ]
    },
    {
     "name": "stdout",
     "output_type": "stream",
     "text": [
      "[1]\tvalid_0's auc: 0.664858\n",
      "Training until validation scores don't improve for 10 rounds.\n",
      "[2]\tvalid_0's auc: 0.660108\n",
      "[3]\tvalid_0's auc: 0.679713\n",
      "[4]\tvalid_0's auc: 0.677347\n",
      "[5]\tvalid_0's auc: 0.675087\n",
      "[6]\tvalid_0's auc: 0.71594\n",
      "[7]\tvalid_0's auc: 0.7162\n",
      "[8]\tvalid_0's auc: 0.71343\n",
      "[9]\tvalid_0's auc: 0.722356\n",
      "[10]\tvalid_0's auc: 0.717881\n",
      "[11]\tvalid_0's auc: 0.720788\n",
      "[12]\tvalid_0's auc: 0.719374\n",
      "[13]\tvalid_0's auc: 0.71998\n",
      "[14]\tvalid_0's auc: 0.718797\n",
      "[15]\tvalid_0's auc: 0.720875\n",
      "[16]\tvalid_0's auc: 0.719009\n",
      "[17]\tvalid_0's auc: 0.718559\n",
      "[18]\tvalid_0's auc: 0.723294\n",
      "[19]\tvalid_0's auc: 0.723172\n",
      "[20]\tvalid_0's auc: 0.722302\n",
      "[21]\tvalid_0's auc: 0.726788\n",
      "[22]\tvalid_0's auc: 0.726394\n",
      "[23]\tvalid_0's auc: 0.7294\n",
      "[24]\tvalid_0's auc: 0.728747\n",
      "[25]\tvalid_0's auc: 0.727963\n",
      "Did not meet early stopping. Best iteration is:\n",
      "[23]\tvalid_0's auc: 0.7294\n"
     ]
    },
    {
     "name": "stderr",
     "output_type": "stream",
     "text": [
      "/anaconda3/lib/python3.6/site-packages/sklearn/preprocessing/label.py:151: DeprecationWarning: The truth value of an empty array is ambiguous. Returning False, but in future this will result in an error. Use `array.size > 0` to check that an array is not empty.\n",
      "  if diff:\n",
      "/anaconda3/lib/python3.6/site-packages/sklearn/preprocessing/label.py:151: DeprecationWarning: The truth value of an empty array is ambiguous. Returning False, but in future this will result in an error. Use `array.size > 0` to check that an array is not empty.\n",
      "  if diff:\n"
     ]
    },
    {
     "name": "stdout",
     "output_type": "stream",
     "text": [
      "[1]\tvalid_0's auc: 0.707263\n",
      "Training until validation scores don't improve for 10 rounds.\n",
      "[2]\tvalid_0's auc: 0.692223\n",
      "[3]\tvalid_0's auc: 0.70624\n",
      "[4]\tvalid_0's auc: 0.697566\n",
      "[5]\tvalid_0's auc: 0.69773\n",
      "[6]\tvalid_0's auc: 0.703467\n",
      "[7]\tvalid_0's auc: 0.711504\n",
      "[8]\tvalid_0's auc: 0.70998\n",
      "[9]\tvalid_0's auc: 0.722309\n",
      "[10]\tvalid_0's auc: 0.718293\n",
      "[11]\tvalid_0's auc: 0.721258\n",
      "[12]\tvalid_0's auc: 0.730255\n",
      "[13]\tvalid_0's auc: 0.727446\n",
      "[14]\tvalid_0's auc: 0.723718\n",
      "[15]\tvalid_0's auc: 0.723679\n",
      "[16]\tvalid_0's auc: 0.723629\n",
      "[17]\tvalid_0's auc: 0.721131\n",
      "[18]\tvalid_0's auc: 0.721213\n",
      "[19]\tvalid_0's auc: 0.718721\n",
      "[20]\tvalid_0's auc: 0.71848\n",
      "[21]\tvalid_0's auc: 0.727652\n",
      "[22]\tvalid_0's auc: 0.724165\n",
      "Early stopping, best iteration is:\n",
      "[12]\tvalid_0's auc: 0.730255\n"
     ]
    },
    {
     "name": "stderr",
     "output_type": "stream",
     "text": [
      "/anaconda3/lib/python3.6/site-packages/sklearn/preprocessing/label.py:151: DeprecationWarning: The truth value of an empty array is ambiguous. Returning False, but in future this will result in an error. Use `array.size > 0` to check that an array is not empty.\n",
      "  if diff:\n",
      "/anaconda3/lib/python3.6/site-packages/sklearn/preprocessing/label.py:151: DeprecationWarning: The truth value of an empty array is ambiguous. Returning False, but in future this will result in an error. Use `array.size > 0` to check that an array is not empty.\n",
      "  if diff:\n"
     ]
    },
    {
     "name": "stdout",
     "output_type": "stream",
     "text": [
      "[1]\tvalid_0's auc: 0.714119\n",
      "Training until validation scores don't improve for 10 rounds.\n",
      "[2]\tvalid_0's auc: 0.707026\n",
      "[3]\tvalid_0's auc: 0.710141\n",
      "[4]\tvalid_0's auc: 0.711485\n",
      "[5]\tvalid_0's auc: 0.709457\n",
      "[6]\tvalid_0's auc: 0.70761\n",
      "[7]\tvalid_0's auc: 0.717916\n",
      "[8]\tvalid_0's auc: 0.714338\n",
      "[9]\tvalid_0's auc: 0.730682\n",
      "[10]\tvalid_0's auc: 0.729105\n",
      "[11]\tvalid_0's auc: 0.731322\n",
      "[12]\tvalid_0's auc: 0.735009\n",
      "[13]\tvalid_0's auc: 0.733345\n",
      "[14]\tvalid_0's auc: 0.730931\n",
      "[15]\tvalid_0's auc: 0.729733\n",
      "[16]\tvalid_0's auc: 0.725484\n",
      "[17]\tvalid_0's auc: 0.726253\n",
      "[18]\tvalid_0's auc: 0.727208\n",
      "[19]\tvalid_0's auc: 0.727097\n",
      "[20]\tvalid_0's auc: 0.726007\n",
      "[21]\tvalid_0's auc: 0.727881\n",
      "[22]\tvalid_0's auc: 0.728502\n",
      "Early stopping, best iteration is:\n",
      "[12]\tvalid_0's auc: 0.735009\n"
     ]
    },
    {
     "name": "stderr",
     "output_type": "stream",
     "text": [
      "/anaconda3/lib/python3.6/site-packages/sklearn/preprocessing/label.py:151: DeprecationWarning: The truth value of an empty array is ambiguous. Returning False, but in future this will result in an error. Use `array.size > 0` to check that an array is not empty.\n",
      "  if diff:\n",
      "/anaconda3/lib/python3.6/site-packages/sklearn/preprocessing/label.py:151: DeprecationWarning: The truth value of an empty array is ambiguous. Returning False, but in future this will result in an error. Use `array.size > 0` to check that an array is not empty.\n",
      "  if diff:\n"
     ]
    },
    {
     "name": "stdout",
     "output_type": "stream",
     "text": [
      "[1]\tvalid_0's auc: 0.664858\n",
      "Training until validation scores don't improve for 10 rounds.\n",
      "[2]\tvalid_0's auc: 0.660108\n",
      "[3]\tvalid_0's auc: 0.679713\n",
      "[4]\tvalid_0's auc: 0.677347\n",
      "[5]\tvalid_0's auc: 0.675087\n",
      "[6]\tvalid_0's auc: 0.71594\n",
      "[7]\tvalid_0's auc: 0.7162\n",
      "[8]\tvalid_0's auc: 0.71343\n",
      "[9]\tvalid_0's auc: 0.722356\n",
      "[10]\tvalid_0's auc: 0.717881\n",
      "[11]\tvalid_0's auc: 0.720788\n",
      "[12]\tvalid_0's auc: 0.719374\n",
      "[13]\tvalid_0's auc: 0.71998\n",
      "[14]\tvalid_0's auc: 0.718797\n",
      "[15]\tvalid_0's auc: 0.720875\n",
      "[16]\tvalid_0's auc: 0.719009\n",
      "[17]\tvalid_0's auc: 0.718559\n",
      "[18]\tvalid_0's auc: 0.723294\n",
      "[19]\tvalid_0's auc: 0.723172\n",
      "[20]\tvalid_0's auc: 0.722302\n",
      "[21]\tvalid_0's auc: 0.726788\n",
      "[22]\tvalid_0's auc: 0.726394\n",
      "[23]\tvalid_0's auc: 0.7294\n",
      "[24]\tvalid_0's auc: 0.728747\n",
      "[25]\tvalid_0's auc: 0.727963\n",
      "[26]\tvalid_0's auc: 0.727551\n",
      "[27]\tvalid_0's auc: 0.729092\n",
      "[28]\tvalid_0's auc: 0.729057\n",
      "[29]\tvalid_0's auc: 0.729004\n"
     ]
    },
    {
     "name": "stderr",
     "output_type": "stream",
     "text": [
      "/anaconda3/lib/python3.6/site-packages/sklearn/preprocessing/label.py:151: DeprecationWarning: The truth value of an empty array is ambiguous. Returning False, but in future this will result in an error. Use `array.size > 0` to check that an array is not empty.\n",
      "  if diff:\n",
      "/anaconda3/lib/python3.6/site-packages/sklearn/preprocessing/label.py:151: DeprecationWarning: The truth value of an empty array is ambiguous. Returning False, but in future this will result in an error. Use `array.size > 0` to check that an array is not empty.\n",
      "  if diff:\n"
     ]
    },
    {
     "name": "stdout",
     "output_type": "stream",
     "text": [
      "[30]\tvalid_0's auc: 0.728527\n",
      "Did not meet early stopping. Best iteration is:\n",
      "[23]\tvalid_0's auc: 0.7294\n",
      "[1]\tvalid_0's auc: 0.707263\n",
      "Training until validation scores don't improve for 10 rounds.\n",
      "[2]\tvalid_0's auc: 0.692223\n",
      "[3]\tvalid_0's auc: 0.70624\n",
      "[4]\tvalid_0's auc: 0.697566\n",
      "[5]\tvalid_0's auc: 0.69773\n",
      "[6]\tvalid_0's auc: 0.703467\n",
      "[7]\tvalid_0's auc: 0.711504\n",
      "[8]\tvalid_0's auc: 0.70998\n",
      "[9]\tvalid_0's auc: 0.722309\n",
      "[10]\tvalid_0's auc: 0.718293\n",
      "[11]\tvalid_0's auc: 0.721258\n",
      "[12]\tvalid_0's auc: 0.730255\n",
      "[13]\tvalid_0's auc: 0.727446\n",
      "[14]\tvalid_0's auc: 0.723718\n",
      "[15]\tvalid_0's auc: 0.723679\n",
      "[16]\tvalid_0's auc: 0.723629\n",
      "[17]\tvalid_0's auc: 0.721131\n",
      "[18]\tvalid_0's auc: 0.721213\n",
      "[19]\tvalid_0's auc: 0.718721\n",
      "[20]\tvalid_0's auc: 0.71848\n",
      "[21]\tvalid_0's auc: 0.727652\n",
      "[22]\tvalid_0's auc: 0.724165\n",
      "Early stopping, best iteration is:\n",
      "[12]\tvalid_0's auc: 0.730255\n"
     ]
    },
    {
     "name": "stderr",
     "output_type": "stream",
     "text": [
      "/anaconda3/lib/python3.6/site-packages/sklearn/preprocessing/label.py:151: DeprecationWarning: The truth value of an empty array is ambiguous. Returning False, but in future this will result in an error. Use `array.size > 0` to check that an array is not empty.\n",
      "  if diff:\n",
      "/anaconda3/lib/python3.6/site-packages/sklearn/preprocessing/label.py:151: DeprecationWarning: The truth value of an empty array is ambiguous. Returning False, but in future this will result in an error. Use `array.size > 0` to check that an array is not empty.\n",
      "  if diff:\n"
     ]
    },
    {
     "name": "stdout",
     "output_type": "stream",
     "text": [
      "[1]\tvalid_0's auc: 0.714119\n",
      "Training until validation scores don't improve for 10 rounds.\n",
      "[2]\tvalid_0's auc: 0.707026\n",
      "[3]\tvalid_0's auc: 0.710141\n",
      "[4]\tvalid_0's auc: 0.711485\n",
      "[5]\tvalid_0's auc: 0.709457\n",
      "[6]\tvalid_0's auc: 0.70761\n",
      "[7]\tvalid_0's auc: 0.717916\n",
      "[8]\tvalid_0's auc: 0.714338\n",
      "[9]\tvalid_0's auc: 0.730682\n",
      "[10]\tvalid_0's auc: 0.729105\n",
      "[11]\tvalid_0's auc: 0.731322\n",
      "[12]\tvalid_0's auc: 0.735009\n",
      "[13]\tvalid_0's auc: 0.733345\n",
      "[14]\tvalid_0's auc: 0.730931\n",
      "[15]\tvalid_0's auc: 0.729733\n",
      "[16]\tvalid_0's auc: 0.725484\n",
      "[17]\tvalid_0's auc: 0.726253\n",
      "[18]\tvalid_0's auc: 0.727208\n",
      "[19]\tvalid_0's auc: 0.727097\n",
      "[20]\tvalid_0's auc: 0.726007\n",
      "[21]\tvalid_0's auc: 0.727881\n",
      "[22]\tvalid_0's auc: 0.728502\n",
      "Early stopping, best iteration is:\n",
      "[12]\tvalid_0's auc: 0.735009\n"
     ]
    },
    {
     "name": "stderr",
     "output_type": "stream",
     "text": [
      "/anaconda3/lib/python3.6/site-packages/sklearn/preprocessing/label.py:151: DeprecationWarning: The truth value of an empty array is ambiguous. Returning False, but in future this will result in an error. Use `array.size > 0` to check that an array is not empty.\n",
      "  if diff:\n",
      "/anaconda3/lib/python3.6/site-packages/sklearn/preprocessing/label.py:151: DeprecationWarning: The truth value of an empty array is ambiguous. Returning False, but in future this will result in an error. Use `array.size > 0` to check that an array is not empty.\n",
      "  if diff:\n"
     ]
    },
    {
     "name": "stdout",
     "output_type": "stream",
     "text": [
      "[1]\tvalid_0's auc: 0.664858\n",
      "Training until validation scores don't improve for 10 rounds.\n",
      "[2]\tvalid_0's auc: 0.688884\n",
      "[3]\tvalid_0's auc: 0.695086\n",
      "[4]\tvalid_0's auc: 0.688009\n",
      "[5]\tvalid_0's auc: 0.692144\n",
      "[6]\tvalid_0's auc: 0.704797\n",
      "[7]\tvalid_0's auc: 0.713213\n",
      "[8]\tvalid_0's auc: 0.710427\n",
      "[9]\tvalid_0's auc: 0.713501\n",
      "[10]\tvalid_0's auc: 0.711622\n",
      "[11]\tvalid_0's auc: 0.715691\n",
      "[12]\tvalid_0's auc: 0.721298\n",
      "[13]\tvalid_0's auc: 0.719471\n",
      "[14]\tvalid_0's auc: 0.716526\n",
      "[15]\tvalid_0's auc: 0.712172\n",
      "[16]\tvalid_0's auc: 0.710072\n",
      "[17]\tvalid_0's auc: 0.708643\n",
      "[18]\tvalid_0's auc: 0.710989\n",
      "[19]\tvalid_0's auc: 0.713205\n",
      "[20]\tvalid_0's auc: 0.715707\n",
      "Did not meet early stopping. Best iteration is:\n",
      "[12]\tvalid_0's auc: 0.721298\n"
     ]
    },
    {
     "name": "stderr",
     "output_type": "stream",
     "text": [
      "/anaconda3/lib/python3.6/site-packages/sklearn/preprocessing/label.py:151: DeprecationWarning: The truth value of an empty array is ambiguous. Returning False, but in future this will result in an error. Use `array.size > 0` to check that an array is not empty.\n",
      "  if diff:\n",
      "/anaconda3/lib/python3.6/site-packages/sklearn/preprocessing/label.py:151: DeprecationWarning: The truth value of an empty array is ambiguous. Returning False, but in future this will result in an error. Use `array.size > 0` to check that an array is not empty.\n",
      "  if diff:\n"
     ]
    },
    {
     "name": "stdout",
     "output_type": "stream",
     "text": [
      "[1]\tvalid_0's auc: 0.707263\n",
      "Training until validation scores don't improve for 10 rounds.\n",
      "[2]\tvalid_0's auc: 0.724869\n",
      "[3]\tvalid_0's auc: 0.723987\n",
      "[4]\tvalid_0's auc: 0.72063\n",
      "[5]\tvalid_0's auc: 0.712544\n",
      "[6]\tvalid_0's auc: 0.723835\n",
      "[7]\tvalid_0's auc: 0.727572\n",
      "[8]\tvalid_0's auc: 0.729069\n",
      "[9]\tvalid_0's auc: 0.740899\n",
      "[10]\tvalid_0's auc: 0.742669\n",
      "[11]\tvalid_0's auc: 0.744725\n",
      "[12]\tvalid_0's auc: 0.752356\n",
      "[13]\tvalid_0's auc: 0.752344\n",
      "[14]\tvalid_0's auc: 0.753969\n",
      "[15]\tvalid_0's auc: 0.751708\n",
      "[16]\tvalid_0's auc: 0.747747\n",
      "[17]\tvalid_0's auc: 0.743547\n",
      "[18]\tvalid_0's auc: 0.745851\n",
      "[19]\tvalid_0's auc: 0.744237\n",
      "[20]\tvalid_0's auc: 0.741473\n",
      "Did not meet early stopping. Best iteration is:\n",
      "[14]\tvalid_0's auc: 0.753969\n"
     ]
    },
    {
     "name": "stderr",
     "output_type": "stream",
     "text": [
      "/anaconda3/lib/python3.6/site-packages/sklearn/preprocessing/label.py:151: DeprecationWarning: The truth value of an empty array is ambiguous. Returning False, but in future this will result in an error. Use `array.size > 0` to check that an array is not empty.\n",
      "  if diff:\n",
      "/anaconda3/lib/python3.6/site-packages/sklearn/preprocessing/label.py:151: DeprecationWarning: The truth value of an empty array is ambiguous. Returning False, but in future this will result in an error. Use `array.size > 0` to check that an array is not empty.\n",
      "  if diff:\n"
     ]
    },
    {
     "name": "stdout",
     "output_type": "stream",
     "text": [
      "[1]\tvalid_0's auc: 0.71472\n",
      "Training until validation scores don't improve for 10 rounds.\n",
      "[2]\tvalid_0's auc: 0.726621\n",
      "[3]\tvalid_0's auc: 0.724302\n",
      "[4]\tvalid_0's auc: 0.719362\n",
      "[5]\tvalid_0's auc: 0.720837\n",
      "[6]\tvalid_0's auc: 0.715693\n",
      "[7]\tvalid_0's auc: 0.721378\n",
      "[8]\tvalid_0's auc: 0.718819\n",
      "[9]\tvalid_0's auc: 0.729248\n",
      "[10]\tvalid_0's auc: 0.726165\n",
      "[11]\tvalid_0's auc: 0.727229\n",
      "[12]\tvalid_0's auc: 0.733261\n",
      "[13]\tvalid_0's auc: 0.731021\n",
      "[14]\tvalid_0's auc: 0.730302\n",
      "[15]\tvalid_0's auc: 0.728527\n",
      "[16]\tvalid_0's auc: 0.72992\n",
      "[17]\tvalid_0's auc: 0.732748\n",
      "[18]\tvalid_0's auc: 0.731973\n",
      "[19]\tvalid_0's auc: 0.730181\n",
      "[20]\tvalid_0's auc: 0.729444\n",
      "Did not meet early stopping. Best iteration is:\n",
      "[12]\tvalid_0's auc: 0.733261\n"
     ]
    },
    {
     "name": "stderr",
     "output_type": "stream",
     "text": [
      "/anaconda3/lib/python3.6/site-packages/sklearn/preprocessing/label.py:151: DeprecationWarning: The truth value of an empty array is ambiguous. Returning False, but in future this will result in an error. Use `array.size > 0` to check that an array is not empty.\n",
      "  if diff:\n",
      "/anaconda3/lib/python3.6/site-packages/sklearn/preprocessing/label.py:151: DeprecationWarning: The truth value of an empty array is ambiguous. Returning False, but in future this will result in an error. Use `array.size > 0` to check that an array is not empty.\n",
      "  if diff:\n"
     ]
    },
    {
     "name": "stdout",
     "output_type": "stream",
     "text": [
      "[1]\tvalid_0's auc: 0.664858\n",
      "Training until validation scores don't improve for 10 rounds.\n",
      "[2]\tvalid_0's auc: 0.688884\n",
      "[3]\tvalid_0's auc: 0.695086\n",
      "[4]\tvalid_0's auc: 0.688009\n",
      "[5]\tvalid_0's auc: 0.692144\n",
      "[6]\tvalid_0's auc: 0.704797\n",
      "[7]\tvalid_0's auc: 0.713213\n",
      "[8]\tvalid_0's auc: 0.710427\n",
      "[9]\tvalid_0's auc: 0.713501\n",
      "[10]\tvalid_0's auc: 0.711622\n",
      "[11]\tvalid_0's auc: 0.715691\n",
      "[12]\tvalid_0's auc: 0.721298\n",
      "[13]\tvalid_0's auc: 0.719471\n",
      "[14]\tvalid_0's auc: 0.716526\n",
      "[15]\tvalid_0's auc: 0.712172\n",
      "[16]\tvalid_0's auc: 0.710072\n",
      "[17]\tvalid_0's auc: 0.708643\n",
      "[18]\tvalid_0's auc: 0.710989\n",
      "[19]\tvalid_0's auc: 0.713205\n",
      "[20]\tvalid_0's auc: 0.715707\n",
      "[21]\tvalid_0's auc: 0.722187\n",
      "[22]\tvalid_0's auc: 0.723633\n",
      "[23]\tvalid_0's auc: 0.725592\n",
      "[24]\tvalid_0's auc: 0.726662\n",
      "[25]\tvalid_0's auc: 0.72834\n",
      "Did not meet early stopping. Best iteration is:\n",
      "[25]\tvalid_0's auc: 0.72834\n"
     ]
    },
    {
     "name": "stderr",
     "output_type": "stream",
     "text": [
      "/anaconda3/lib/python3.6/site-packages/sklearn/preprocessing/label.py:151: DeprecationWarning: The truth value of an empty array is ambiguous. Returning False, but in future this will result in an error. Use `array.size > 0` to check that an array is not empty.\n",
      "  if diff:\n",
      "/anaconda3/lib/python3.6/site-packages/sklearn/preprocessing/label.py:151: DeprecationWarning: The truth value of an empty array is ambiguous. Returning False, but in future this will result in an error. Use `array.size > 0` to check that an array is not empty.\n",
      "  if diff:\n"
     ]
    },
    {
     "name": "stdout",
     "output_type": "stream",
     "text": [
      "[1]\tvalid_0's auc: 0.707263\n",
      "Training until validation scores don't improve for 10 rounds.\n",
      "[2]\tvalid_0's auc: 0.724869\n",
      "[3]\tvalid_0's auc: 0.723987\n",
      "[4]\tvalid_0's auc: 0.72063\n",
      "[5]\tvalid_0's auc: 0.712544\n",
      "[6]\tvalid_0's auc: 0.723835\n",
      "[7]\tvalid_0's auc: 0.727572\n",
      "[8]\tvalid_0's auc: 0.729069\n",
      "[9]\tvalid_0's auc: 0.740899\n",
      "[10]\tvalid_0's auc: 0.742669\n",
      "[11]\tvalid_0's auc: 0.744725\n",
      "[12]\tvalid_0's auc: 0.752356\n",
      "[13]\tvalid_0's auc: 0.752344\n",
      "[14]\tvalid_0's auc: 0.753969\n",
      "[15]\tvalid_0's auc: 0.751708\n",
      "[16]\tvalid_0's auc: 0.747747\n",
      "[17]\tvalid_0's auc: 0.743547\n",
      "[18]\tvalid_0's auc: 0.745851\n",
      "[19]\tvalid_0's auc: 0.744237\n",
      "[20]\tvalid_0's auc: 0.741473\n",
      "[21]\tvalid_0's auc: 0.749696\n",
      "[22]\tvalid_0's auc: 0.749643\n",
      "[23]\tvalid_0's auc: 0.755846\n",
      "[24]\tvalid_0's auc: 0.753536\n",
      "[25]\tvalid_0's auc: 0.753558\n",
      "Did not meet early stopping. Best iteration is:\n",
      "[23]\tvalid_0's auc: 0.755846\n"
     ]
    },
    {
     "name": "stderr",
     "output_type": "stream",
     "text": [
      "/anaconda3/lib/python3.6/site-packages/sklearn/preprocessing/label.py:151: DeprecationWarning: The truth value of an empty array is ambiguous. Returning False, but in future this will result in an error. Use `array.size > 0` to check that an array is not empty.\n",
      "  if diff:\n",
      "/anaconda3/lib/python3.6/site-packages/sklearn/preprocessing/label.py:151: DeprecationWarning: The truth value of an empty array is ambiguous. Returning False, but in future this will result in an error. Use `array.size > 0` to check that an array is not empty.\n",
      "  if diff:\n"
     ]
    },
    {
     "name": "stdout",
     "output_type": "stream",
     "text": [
      "[1]\tvalid_0's auc: 0.71472\n",
      "Training until validation scores don't improve for 10 rounds.\n",
      "[2]\tvalid_0's auc: 0.726621\n",
      "[3]\tvalid_0's auc: 0.724302\n",
      "[4]\tvalid_0's auc: 0.719362\n",
      "[5]\tvalid_0's auc: 0.720837\n",
      "[6]\tvalid_0's auc: 0.715693\n",
      "[7]\tvalid_0's auc: 0.721378\n",
      "[8]\tvalid_0's auc: 0.718819\n",
      "[9]\tvalid_0's auc: 0.729248\n",
      "[10]\tvalid_0's auc: 0.726165\n",
      "[11]\tvalid_0's auc: 0.727229\n",
      "[12]\tvalid_0's auc: 0.733261\n",
      "[13]\tvalid_0's auc: 0.731021\n",
      "[14]\tvalid_0's auc: 0.730302\n",
      "[15]\tvalid_0's auc: 0.728527\n",
      "[16]\tvalid_0's auc: 0.72992\n",
      "[17]\tvalid_0's auc: 0.732748\n",
      "[18]\tvalid_0's auc: 0.731973\n",
      "[19]\tvalid_0's auc: 0.730181\n",
      "[20]\tvalid_0's auc: 0.729444\n",
      "[21]\tvalid_0's auc: 0.73395\n",
      "[22]\tvalid_0's auc: 0.733436\n",
      "[23]\tvalid_0's auc: 0.735637\n",
      "[24]\tvalid_0's auc: 0.734111\n",
      "[25]\tvalid_0's auc: 0.735698\n",
      "Did not meet early stopping. Best iteration is:\n",
      "[25]\tvalid_0's auc: 0.735698\n"
     ]
    },
    {
     "name": "stderr",
     "output_type": "stream",
     "text": [
      "/anaconda3/lib/python3.6/site-packages/sklearn/preprocessing/label.py:151: DeprecationWarning: The truth value of an empty array is ambiguous. Returning False, but in future this will result in an error. Use `array.size > 0` to check that an array is not empty.\n",
      "  if diff:\n",
      "/anaconda3/lib/python3.6/site-packages/sklearn/preprocessing/label.py:151: DeprecationWarning: The truth value of an empty array is ambiguous. Returning False, but in future this will result in an error. Use `array.size > 0` to check that an array is not empty.\n",
      "  if diff:\n"
     ]
    },
    {
     "name": "stdout",
     "output_type": "stream",
     "text": [
      "[1]\tvalid_0's auc: 0.664858\n",
      "Training until validation scores don't improve for 10 rounds.\n",
      "[2]\tvalid_0's auc: 0.688884\n",
      "[3]\tvalid_0's auc: 0.695086\n",
      "[4]\tvalid_0's auc: 0.688009\n",
      "[5]\tvalid_0's auc: 0.692144\n",
      "[6]\tvalid_0's auc: 0.704797\n",
      "[7]\tvalid_0's auc: 0.713213\n",
      "[8]\tvalid_0's auc: 0.710427\n",
      "[9]\tvalid_0's auc: 0.713501\n",
      "[10]\tvalid_0's auc: 0.711622\n",
      "[11]\tvalid_0's auc: 0.715691\n",
      "[12]\tvalid_0's auc: 0.721298\n",
      "[13]\tvalid_0's auc: 0.719471\n",
      "[14]\tvalid_0's auc: 0.716526\n",
      "[15]\tvalid_0's auc: 0.712172\n",
      "[16]\tvalid_0's auc: 0.710072\n",
      "[17]\tvalid_0's auc: 0.708643\n",
      "[18]\tvalid_0's auc: 0.710989\n",
      "[19]\tvalid_0's auc: 0.713205\n",
      "[20]\tvalid_0's auc: 0.715707\n",
      "[21]\tvalid_0's auc: 0.722187\n",
      "[22]\tvalid_0's auc: 0.723633\n",
      "[23]\tvalid_0's auc: 0.725592\n",
      "[24]\tvalid_0's auc: 0.726662\n",
      "[25]\tvalid_0's auc: 0.72834\n",
      "[26]\tvalid_0's auc: 0.726818\n",
      "[27]\tvalid_0's auc: 0.726355\n",
      "[28]\tvalid_0's auc: 0.727573\n",
      "[29]\tvalid_0's auc: 0.729327\n",
      "[30]\tvalid_0's auc: 0.729778\n",
      "Did not meet early stopping. Best iteration is:\n",
      "[30]\tvalid_0's auc: 0.729778\n"
     ]
    },
    {
     "name": "stderr",
     "output_type": "stream",
     "text": [
      "/anaconda3/lib/python3.6/site-packages/sklearn/preprocessing/label.py:151: DeprecationWarning: The truth value of an empty array is ambiguous. Returning False, but in future this will result in an error. Use `array.size > 0` to check that an array is not empty.\n",
      "  if diff:\n",
      "/anaconda3/lib/python3.6/site-packages/sklearn/preprocessing/label.py:151: DeprecationWarning: The truth value of an empty array is ambiguous. Returning False, but in future this will result in an error. Use `array.size > 0` to check that an array is not empty.\n",
      "  if diff:\n"
     ]
    },
    {
     "name": "stdout",
     "output_type": "stream",
     "text": [
      "[1]\tvalid_0's auc: 0.707263\n",
      "Training until validation scores don't improve for 10 rounds.\n",
      "[2]\tvalid_0's auc: 0.724869\n",
      "[3]\tvalid_0's auc: 0.723987\n",
      "[4]\tvalid_0's auc: 0.72063\n",
      "[5]\tvalid_0's auc: 0.712544\n",
      "[6]\tvalid_0's auc: 0.723835\n",
      "[7]\tvalid_0's auc: 0.727572\n",
      "[8]\tvalid_0's auc: 0.729069\n",
      "[9]\tvalid_0's auc: 0.740899\n",
      "[10]\tvalid_0's auc: 0.742669\n",
      "[11]\tvalid_0's auc: 0.744725\n",
      "[12]\tvalid_0's auc: 0.752356\n",
      "[13]\tvalid_0's auc: 0.752344\n",
      "[14]\tvalid_0's auc: 0.753969\n",
      "[15]\tvalid_0's auc: 0.751708\n",
      "[16]\tvalid_0's auc: 0.747747\n",
      "[17]\tvalid_0's auc: 0.743547\n",
      "[18]\tvalid_0's auc: 0.745851\n",
      "[19]\tvalid_0's auc: 0.744237\n",
      "[20]\tvalid_0's auc: 0.741473\n",
      "[21]\tvalid_0's auc: 0.749696\n",
      "[22]\tvalid_0's auc: 0.749643\n",
      "[23]\tvalid_0's auc: 0.755846\n",
      "[24]\tvalid_0's auc: 0.753536\n",
      "[25]\tvalid_0's auc: 0.753558\n",
      "[26]\tvalid_0's auc: 0.753143\n",
      "[27]\tvalid_0's auc: 0.755064\n",
      "[28]\tvalid_0's auc: 0.754915\n",
      "[29]\tvalid_0's auc: 0.752472\n",
      "[30]\tvalid_0's auc: 0.754273\n",
      "Did not meet early stopping. Best iteration is:\n",
      "[23]\tvalid_0's auc: 0.755846\n"
     ]
    },
    {
     "name": "stderr",
     "output_type": "stream",
     "text": [
      "/anaconda3/lib/python3.6/site-packages/sklearn/preprocessing/label.py:151: DeprecationWarning: The truth value of an empty array is ambiguous. Returning False, but in future this will result in an error. Use `array.size > 0` to check that an array is not empty.\n",
      "  if diff:\n",
      "/anaconda3/lib/python3.6/site-packages/sklearn/preprocessing/label.py:151: DeprecationWarning: The truth value of an empty array is ambiguous. Returning False, but in future this will result in an error. Use `array.size > 0` to check that an array is not empty.\n",
      "  if diff:\n"
     ]
    },
    {
     "name": "stdout",
     "output_type": "stream",
     "text": [
      "[1]\tvalid_0's auc: 0.71472\n",
      "Training until validation scores don't improve for 10 rounds.\n",
      "[2]\tvalid_0's auc: 0.726621\n",
      "[3]\tvalid_0's auc: 0.724302\n",
      "[4]\tvalid_0's auc: 0.719362\n",
      "[5]\tvalid_0's auc: 0.720837\n",
      "[6]\tvalid_0's auc: 0.715693\n",
      "[7]\tvalid_0's auc: 0.721378\n",
      "[8]\tvalid_0's auc: 0.718819\n",
      "[9]\tvalid_0's auc: 0.729248\n",
      "[10]\tvalid_0's auc: 0.726165\n",
      "[11]\tvalid_0's auc: 0.727229\n",
      "[12]\tvalid_0's auc: 0.733261\n",
      "[13]\tvalid_0's auc: 0.731021\n",
      "[14]\tvalid_0's auc: 0.730302\n",
      "[15]\tvalid_0's auc: 0.728527\n",
      "[16]\tvalid_0's auc: 0.72992\n",
      "[17]\tvalid_0's auc: 0.732748\n",
      "[18]\tvalid_0's auc: 0.731973\n",
      "[19]\tvalid_0's auc: 0.730181\n",
      "[20]\tvalid_0's auc: 0.729444\n",
      "[21]\tvalid_0's auc: 0.73395\n",
      "[22]\tvalid_0's auc: 0.733436\n",
      "[23]\tvalid_0's auc: 0.735637\n",
      "[24]\tvalid_0's auc: 0.734111\n",
      "[25]\tvalid_0's auc: 0.735698\n",
      "[26]\tvalid_0's auc: 0.734792\n",
      "[27]\tvalid_0's auc: 0.734815\n",
      "[28]\tvalid_0's auc: 0.733947\n",
      "[29]\tvalid_0's auc: 0.733907\n",
      "[30]\tvalid_0's auc: 0.732536\n",
      "Did not meet early stopping. Best iteration is:\n",
      "[25]\tvalid_0's auc: 0.735698\n"
     ]
    },
    {
     "name": "stderr",
     "output_type": "stream",
     "text": [
      "/anaconda3/lib/python3.6/site-packages/sklearn/preprocessing/label.py:151: DeprecationWarning: The truth value of an empty array is ambiguous. Returning False, but in future this will result in an error. Use `array.size > 0` to check that an array is not empty.\n",
      "  if diff:\n",
      "/anaconda3/lib/python3.6/site-packages/sklearn/preprocessing/label.py:151: DeprecationWarning: The truth value of an empty array is ambiguous. Returning False, but in future this will result in an error. Use `array.size > 0` to check that an array is not empty.\n",
      "  if diff:\n"
     ]
    },
    {
     "name": "stdout",
     "output_type": "stream",
     "text": [
      "[1]\tvalid_0's auc: 0.729954\n",
      "Training until validation scores don't improve for 10 rounds.\n",
      "[2]\tvalid_0's auc: 0.70197\n",
      "[3]\tvalid_0's auc: 0.712263\n",
      "[4]\tvalid_0's auc: 0.71441\n",
      "[5]\tvalid_0's auc: 0.716853\n",
      "[6]\tvalid_0's auc: 0.729053\n",
      "[7]\tvalid_0's auc: 0.733598\n",
      "[8]\tvalid_0's auc: 0.730985\n",
      "[9]\tvalid_0's auc: 0.736758\n",
      "[10]\tvalid_0's auc: 0.734898\n",
      "[11]\tvalid_0's auc: 0.736022\n",
      "[12]\tvalid_0's auc: 0.737578\n",
      "[13]\tvalid_0's auc: 0.735725\n",
      "[14]\tvalid_0's auc: 0.739069\n",
      "[15]\tvalid_0's auc: 0.736146\n",
      "[16]\tvalid_0's auc: 0.739783\n",
      "[17]\tvalid_0's auc: 0.740861\n",
      "[18]\tvalid_0's auc: 0.742093\n",
      "[19]\tvalid_0's auc: 0.741304\n",
      "[20]\tvalid_0's auc: 0.740668\n",
      "[21]\tvalid_0's auc: 0.743597\n",
      "[22]\tvalid_0's auc: 0.742579\n",
      "[23]\tvalid_0's auc: 0.74405\n",
      "[24]\tvalid_0's auc: 0.745415\n",
      "[25]\tvalid_0's auc: 0.746094\n",
      "Did not meet early stopping. Best iteration is:\n",
      "[25]\tvalid_0's auc: 0.746094\n"
     ]
    },
    {
     "data": {
      "text/plain": [
       "GridSearchCV(cv=None, error_score='raise',\n",
       "       estimator=LGBMClassifier(boosting_type='gbdt', class_weight=None, colsample_bytree=1.0,\n",
       "        learning_rate=0.1, max_depth=-1, min_child_samples=20,\n",
       "        min_child_weight=0.001, min_split_gain=0.0, n_estimators=100,\n",
       "        n_jobs=-1, num_leaves=31, objective=None, random_state=None,\n",
       "        reg_alpha=0.0, reg_lambda=0.0, silent=True, subsample=1.0,\n",
       "        subsample_for_bin=200000, subsample_freq=0),\n",
       "       fit_params=None, iid=True, n_jobs=1,\n",
       "       param_grid={'learning_rate': [0.25, 0.2], 'feature_fraction': [0.55], 'min_data_in_leaf': [5000], 'max_depth': [18], 'num_leaves': [60], 'n_estimators': [20, 25, 30], 'scale_pos_weight': [3]},\n",
       "       pre_dispatch='2*n_jobs', refit=True, return_train_score='warn',\n",
       "       scoring=None, verbose=0)"
      ]
     },
     "execution_count": 43,
     "metadata": {},
     "output_type": "execute_result"
    }
   ],
   "source": [
    "# model.fit(train_data.data, train_data.label, eval_set=[(cv_data.data, cv_data.label)], early_stopping_rounds=10, eval_metric='auc')"
   ]
  },
  {
   "cell_type": "code",
   "execution_count": 48,
   "metadata": {},
   "outputs": [
    {
     "name": "stdout",
     "output_type": "stream",
     "text": [
      "LGBMClassifier(boosting_type='gbdt', class_weight=None, colsample_bytree=1.0,\n",
      "        feature_fraction=0.55, learning_rate=0.15, max_depth=18,\n",
      "        min_child_samples=20, min_child_weight=0.001,\n",
      "        min_data_in_leaf=5000, min_split_gain=0.0, n_estimators=20,\n",
      "        n_jobs=-1, num_leaves=60, objective=None, random_state=None,\n",
      "        reg_alpha=0.0, reg_lambda=0.0, scale_pos_weight=3, silent=True,\n",
      "        subsample=1.0, subsample_for_bin=200000, subsample_freq=0)\n",
      "{'feature_fraction': 0.55, 'learning_rate': 0.15, 'max_depth': 18, 'min_data_in_leaf': 5000, 'n_estimators': 20, 'num_leaves': 60, 'scale_pos_weight': 3}\n",
      "0.9993604772902391\n"
     ]
    }
   ],
   "source": [
    "# print(model.best_estimator_)\n",
    "# print(model.best_params_)"
   ]
  },
  {
   "cell_type": "code",
   "execution_count": 49,
   "metadata": {},
   "outputs": [
    {
     "name": "stdout",
     "output_type": "stream",
     "text": [
      "0.7713418641706553\n",
      "0.005911425842799109\n"
     ]
    }
   ],
   "source": [
    "# y_true = test_data.label\n",
    "# y_pred = model.predict_proba(test_data.data)\n",
    "\n",
    "# fpr, tpr, thresholds = roc_curve(test_data.label, y_pred[:, 1])\n",
    "# print(auc(fpr, tpr))\n",
    "# print(log_loss(y_true, y_pred[:, 1]))"
   ]
  },
  {
   "cell_type": "markdown",
   "metadata": {},
   "source": [
    "## NOTES\n",
    "#### Lightgbm definitely performs better than a dummy classifier and a logistic regression\n",
    "#### Using a deep learning model could be the next approach, but againg even a MLP algorithm does not accept the categorical variables directly, we need to encode them and pass it to the model."
   ]
  },
  {
   "cell_type": "markdown",
   "metadata": {},
   "source": [
    "### TO CHECK"
   ]
  },
  {
   "cell_type": "markdown",
   "metadata": {},
   "source": []
  }
 ],
 "metadata": {
  "kernelspec": {
   "display_name": "Python 3",
   "language": "python",
   "name": "python3"
  },
  "language_info": {
   "codemirror_mode": {
    "name": "ipython",
    "version": 3
   },
   "file_extension": ".py",
   "mimetype": "text/x-python",
   "name": "python",
   "nbconvert_exporter": "python",
   "pygments_lexer": "ipython3",
   "version": "3.6.4"
  }
 },
 "nbformat": 4,
 "nbformat_minor": 2
}
